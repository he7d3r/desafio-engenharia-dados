{
 "cells": [
  {
   "cell_type": "markdown",
   "metadata": {},
   "source": [
    "# Índice\n",
    "1. Preparação\n",
    " 1. [Instalação de alguns pacotes](#Instalação-de-alguns-pacotes)\n",
    " 2. [Definição de algumas configurações](#Definição-de-algumas-configurações)\n",
    " 3. [Definição de algumas variáveis](#Definição-de-algumas-variáveis)\n",
    "2. Inspeção dos dados\n",
    " 4. [Dados brutos](#Dados-brutos)\n",
    " 5. [Inserção de dados no bancos de dados](#Inserção-de-dados-no-bancos-de-dados)\n",
    " 6. [Tabelas disponíveis no banco da dados](#Tabelas-disponíveis-no-banco-da-dados)\n",
    " 7. [Número de transações](#Número-de-transações)\n",
    " 8. [Nomenclatura Comum do Mercosul (NCM)](#Nomenclatura-Comum-do-Mercosul-(NCM))\n",
    " 9. [Unidades Federativas (UF)](#Unidades-Federativas-(UF))\n",
    " 10. [Informações gerais sobre a tabela de transações](#Informações-gerais-sobre-a-tabela-de-transações)\n",
    " 11. [Quantidade de valores distintos por coluna](#Quantidade-de-valores-distintos-por-coluna)\n",
    "3. Estatísticas\n",
    " 12. [Transações com maior valor FOB (Free on Board) em dólar](#Transações-com-maior-valor-FOB-(Free-on-Board)-em-dólar)\n",
    " 13. [Mercadorias com maior valor FOB total em dólar](#Mercadorias-com-maior-valor-FOB-total-em-dólar)\n",
    " 14. [Estados com maior valor FOB total em dólar](#Estados-com-maior-valor-FOB-total-em-dólar)\n",
    " 15. [Valor FOB total anual em dólar](#Valor-FOB-total-anual-em-dólar)\n",
    " 16. [Mercadorias com maior valor FOB total em dólar, em São Paulo, em 2019](#Mercadorias-com-maior-valor-FOB-total-em-dólar,-em-São-Paulo,-em-2019)\n",
    " 17. [Valor FOB total em dólar de transações de cada produto, por estado, a cada ano](#Valor-FOB-total-em-dólar-de-transações-de-cada-produto,-por-estado,-a-cada-ano)\n",
    " 18. [Produtos com o maior valor FOB total, por ano, por estado](#Produtos-com-o-maior-valor-FOB-total,-por-ano,-por-estado)\n",
    " 19. [Valor FOB total em dólar de transações de cada produto, por estado, em cada mês de 2019](#Valor-FOB-total-em-dólar-de-transações-de-cada-produto,-por-estado,-em-cada-mês-de-2019)\n",
    " 20. [Produtos com o maior valor FOB total em 2019, por mês, por estado](#Produtos-com-o-maior-valor-FOB-total-em-2019,-por-mês,-por-estado)\n",
    " 21. [Posição de cada produto no ranking de valor transacionado por estado, por ano](#Posição-de-cada-produto-no-ranking-de-valor-transacionado-por-estado,-por-ano)\n",
    " 22. [Top 3 produtos com maior valor transacionado por estado nos anos de 2017, 2018 e 2019](#Top-3-produtos-com-maior-valor-transacionado-por-estado-nos-anos-de-2017,-2018-e-2019)\n",
    " 23. [Top 3 produtos com maior valor transacionado em 2019, por mês, por estado](#Top-3-produtos-com-maior-valor-transacionado-em-2019,-por-mês,-por-estado)\n",
    "\n",
    "## Instalação de alguns pacotes"
   ]
  },
  {
   "cell_type": "code",
   "execution_count": 1,
   "metadata": {},
   "outputs": [],
   "source": [
    "import pandas as pd\n",
    "import sys\n",
    "from glob import glob\n",
    "from IPython.core.display import HTML\n",
    "from sqlalchemy import create_engine"
   ]
  },
  {
   "cell_type": "markdown",
   "metadata": {},
   "source": [
    "## Definição de algumas configurações"
   ]
  },
  {
   "cell_type": "code",
   "execution_count": 2,
   "metadata": {},
   "outputs": [
    {
     "data": {
      "text/html": [
       "<style>.container { width:100% !important; } div.prompt {min-width: 10ex;} .rendered_html table { font-size: 11px; }</style>"
      ],
      "text/plain": [
       "<IPython.core.display.HTML object>"
      ]
     },
     "metadata": {},
     "output_type": "display_data"
    }
   ],
   "source": [
    "# Make better use of the space avaiable on screen\n",
    "pd.set_option('display.width', 1000)\n",
    "pd.set_option('display.max_columns', None)\n",
    "pd.set_option('display.max_colwidth', 300)\n",
    "display(HTML(\"<style>.container { width:100% !important; } div.prompt {min-width: 10ex;} .rendered_html table { font-size: 11px; }</style>\"))"
   ]
  },
  {
   "cell_type": "markdown",
   "metadata": {},
   "source": [
    "## Definição de algumas variáveis"
   ]
  },
  {
   "cell_type": "code",
   "execution_count": 3,
   "metadata": {},
   "outputs": [],
   "source": [
    "# Paths for all the files used\n",
    "path = '../data'\n",
    "files = {'import': path + '/IMP_*.csv',\n",
    "         'export': path + '/EXP_*.csv'}\n",
    "ncm_file = path + '/NCM.csv'\n",
    "uf_file = path + '/UF.csv'\n",
    "db_file = path + '/trades.db'\n",
    "\n",
    "# Kind of trade which will be used during the exploration (the other case is analogous)\n",
    "kind = 'import'\n",
    "\n",
    "# Connection to SQLite database\n",
    "eng = create_engine(f'sqlite:///{db_file}')\n",
    "conn = eng.connect()"
   ]
  },
  {
   "cell_type": "markdown",
   "metadata": {},
   "source": [
    "## Dados brutos"
   ]
  },
  {
   "cell_type": "markdown",
   "metadata": {},
   "source": [
    "Estas são as primeiras linhas do primeiro arquivo CSV do tipo (`kind`) de transação de mercadorias escolhido (`import` ou `export`):"
   ]
  },
  {
   "cell_type": "code",
   "execution_count": 4,
   "metadata": {},
   "outputs": [
    {
     "name": "stdout",
     "output_type": "stream",
     "text": [
      "==> ../data/IMP_2017.csv <==\n",
      "\"CO_ANO\";\"CO_MES\";\"CO_NCM\";\"CO_UNID\";\"CO_PAIS\";\"SG_UF_NCM\";\"CO_VIA\";\"CO_URF\";\"QT_ESTAT\";\"KG_LIQUIDO\";\"VL_FOB\"\n",
      "\"2017\";\"01\";\"54024400\";\"10\";\"399\";\"SP\";\"01\";\"0817800\";4770;4770;47344\n",
      "\"2017\";\"01\";\"84834090\";\"11\";\"386\";\"SP\";\"01\";\"0817800\";13055;48308;468136\n",
      "\"2017\";\"01\";\"84719014\";\"11\";\"399\";\"SP\";\"04\";\"0817700\";3;6;146\n",
      "\n",
      "==> ../data/IMP_2018.csv <==\n",
      "\"CO_ANO\";\"CO_MES\";\"CO_NCM\";\"CO_UNID\";\"CO_PAIS\";\"SG_UF_NCM\";\"CO_VIA\";\"CO_URF\";\"QT_ESTAT\";\"KG_LIQUIDO\";\"VL_FOB\"\n",
      "\"2018\";\"01\";\"85423190\";\"11\";\"160\";\"RS\";\"04\";\"0817700\";139;1;261\n",
      "\"2018\";\"01\";\"85334011\";\"11\";\"399\";\"RS\";\"04\";\"1017801\";1000;0;230\n",
      "\"2018\";\"02\";\"85049090\";\"10\";\"160\";\"PR\";\"04\";\"0917900\";44;44;30066\n",
      "\n",
      "==> ../data/IMP_2019.csv <==\n",
      "\"CO_ANO\";\"CO_MES\";\"CO_NCM\";\"CO_UNID\";\"CO_PAIS\";\"SG_UF_NCM\";\"CO_VIA\";\"CO_URF\";\"QT_ESTAT\";\"KG_LIQUIDO\";\"VL_FOB\"\n",
      "\"2019\";\"12\";\"85044021\";\"11\";\"249\";\"SP\";\"04\";\"0817700\";53;44;8263\n",
      "\"2019\";\"12\";\"85183000\";\"11\";\"160\";\"GO\";\"04\";\"0817600\";23734;1621;6987\n",
      "\"2019\";\"12\";\"39263000\";\"10\";\"023\";\"SP\";\"01\";\"0817800\";3951;3951;88311\n",
      "122 ms ± 0 ns per loop (mean ± std. dev. of 1 run, 1 loop each)\n"
     ]
    }
   ],
   "source": [
    "%%timeit -n1 -r1\n",
    "!head -n 4 {files[kind]}"
   ]
  },
  {
   "cell_type": "markdown",
   "metadata": {},
   "source": [
    "## Inserção de dados no bancos de dados"
   ]
  },
  {
   "cell_type": "markdown",
   "metadata": {},
   "source": [
    " Caso o banco de dados ainda não exista, ou esteja vazio, pode-se adicionar os dados usando o código a seguir:"
   ]
  },
  {
   "cell_type": "code",
   "execution_count": 5,
   "metadata": {},
   "outputs": [],
   "source": [
    "# %%timeit -n1 -r1\n",
    "# chunk_size=500000\n",
    "# for kind_of_trade, pattern in files.items():\n",
    "#     for name in glob(pattern):\n",
    "#         print(name)\n",
    "#         for chunk in pd.read_csv(name, delimiter=';', chunksize=chunk_size):\n",
    "#             chunk.to_sql(kind_of_trade, eng, if_exists='append')"
   ]
  },
  {
   "cell_type": "code",
   "execution_count": 6,
   "metadata": {},
   "outputs": [],
   "source": [
    "# %%timeit -n1 -r1\n",
    "# for chunk in pd.read_csv(ncm_file, delimiter=';', chunksize=chunk_size, encoding = 'ISO-8859-1'):\n",
    "#     chunk.to_sql('ncm', eng, if_exists='append')"
   ]
  },
  {
   "cell_type": "code",
   "execution_count": 7,
   "metadata": {},
   "outputs": [],
   "source": [
    "# %%timeit -n1 -r1\n",
    "# for chunk in pd.read_csv(uf_file, delimiter=';', chunksize=chunk_size, encoding = 'ISO-8859-1'):\n",
    "#     chunk.to_sql('uf', eng, if_exists='append')"
   ]
  },
  {
   "cell_type": "markdown",
   "metadata": {},
   "source": [
    "## Tabelas disponíveis no banco da dados"
   ]
  },
  {
   "cell_type": "code",
   "execution_count": 8,
   "metadata": {},
   "outputs": [
    {
     "data": {
      "text/html": [
       "<div>\n",
       "<style scoped>\n",
       "    .dataframe tbody tr th:only-of-type {\n",
       "        vertical-align: middle;\n",
       "    }\n",
       "\n",
       "    .dataframe tbody tr th {\n",
       "        vertical-align: top;\n",
       "    }\n",
       "\n",
       "    .dataframe thead th {\n",
       "        text-align: right;\n",
       "    }\n",
       "</style>\n",
       "<table border=\"1\" class=\"dataframe\">\n",
       "  <thead>\n",
       "    <tr style=\"text-align: right;\">\n",
       "      <th></th>\n",
       "      <th>type</th>\n",
       "      <th>tbl_name</th>\n",
       "      <th>rootpage</th>\n",
       "      <th>sql</th>\n",
       "    </tr>\n",
       "    <tr>\n",
       "      <th>name</th>\n",
       "      <th></th>\n",
       "      <th></th>\n",
       "      <th></th>\n",
       "      <th></th>\n",
       "    </tr>\n",
       "  </thead>\n",
       "  <tbody>\n",
       "    <tr>\n",
       "      <th>import</th>\n",
       "      <td>table</td>\n",
       "      <td>import</td>\n",
       "      <td>2</td>\n",
       "      <td>CREATE TABLE import (\\n\\t\"index\" BIGINT, \\n\\t\"CO_NCM\" BIGINT, \\n\\t\"CO_UNID\" BIGINT, \\n\\t\"CO_PAIS\" BIGINT, \\n\\t\"SG_UF_NCM\" TEXT, \\n\\t\"CO_VIA\" BIGINT, \\n\\t\"CO_URF\" BIGINT, \\n\\t\"QT_ESTAT\" BIGINT, \\n\\t\"KG_LIQUIDO\" BIGINT, \\n\\t\"VL_FOB\" BIGINT, \\n\\t\"DATA\" DATETIME\\n)</td>\n",
       "    </tr>\n",
       "    <tr>\n",
       "      <th>export</th>\n",
       "      <td>table</td>\n",
       "      <td>export</td>\n",
       "      <td>108190</td>\n",
       "      <td>CREATE TABLE export (\\n\\t\"index\" BIGINT, \\n\\t\"CO_NCM\" BIGINT, \\n\\t\"CO_UNID\" BIGINT, \\n\\t\"CO_PAIS\" BIGINT, \\n\\t\"SG_UF_NCM\" TEXT, \\n\\t\"CO_VIA\" BIGINT, \\n\\t\"CO_URF\" BIGINT, \\n\\t\"QT_ESTAT\" BIGINT, \\n\\t\"KG_LIQUIDO\" BIGINT, \\n\\t\"VL_FOB\" BIGINT, \\n\\t\"DATA\" DATETIME\\n)</td>\n",
       "    </tr>\n",
       "    <tr>\n",
       "      <th>ncm</th>\n",
       "      <td>table</td>\n",
       "      <td>ncm</td>\n",
       "      <td>179096</td>\n",
       "      <td>CREATE TABLE ncm (\\n\\t\"index\" BIGINT, \\n\\t\"CO_NCM\" BIGINT, \\n\\t\"CO_UNID\" BIGINT, \\n\\t\"CO_SH6\" BIGINT, \\n\\t\"CO_PPE\" BIGINT, \\n\\t\"CO_PPI\" BIGINT, \\n\\t\"CO_FAT_AGREG\" BIGINT, \\n\\t\"CO_CUCI_ITEM\" TEXT, \\n\\t\"CO_CGCE_N3\" BIGINT, \\n\\t\"CO_SIIT\" BIGINT, \\n\\t\"CO_ISIC_CLASSE\" BIGINT, \\n\\t\"CO_EXP_SUBSET\" FLOA...</td>\n",
       "    </tr>\n",
       "    <tr>\n",
       "      <th>uf</th>\n",
       "      <td>table</td>\n",
       "      <td>uf</td>\n",
       "      <td>179806</td>\n",
       "      <td>CREATE TABLE uf (\\n\\t\"index\" BIGINT, \\n\\t\"CO_UF\" BIGINT, \\n\\t\"SG_UF\" TEXT, \\n\\t\"NO_UF\" TEXT, \\n\\t\"NO_REGIAO\" TEXT\\n)</td>\n",
       "    </tr>\n",
       "  </tbody>\n",
       "</table>\n",
       "</div>"
      ],
      "text/plain": [
       "         type tbl_name  rootpage                                                                                                                                                                                                                                                                                                          sql\n",
       "name                                                                                                                                                                                                                                                                                                                                         \n",
       "import  table   import         2                                        CREATE TABLE import (\\n\\t\"index\" BIGINT, \\n\\t\"CO_NCM\" BIGINT, \\n\\t\"CO_UNID\" BIGINT, \\n\\t\"CO_PAIS\" BIGINT, \\n\\t\"SG_UF_NCM\" TEXT, \\n\\t\"CO_VIA\" BIGINT, \\n\\t\"CO_URF\" BIGINT, \\n\\t\"QT_ESTAT\" BIGINT, \\n\\t\"KG_LIQUIDO\" BIGINT, \\n\\t\"VL_FOB\" BIGINT, \\n\\t\"DATA\" DATETIME\\n)\n",
       "export  table   export    108190                                        CREATE TABLE export (\\n\\t\"index\" BIGINT, \\n\\t\"CO_NCM\" BIGINT, \\n\\t\"CO_UNID\" BIGINT, \\n\\t\"CO_PAIS\" BIGINT, \\n\\t\"SG_UF_NCM\" TEXT, \\n\\t\"CO_VIA\" BIGINT, \\n\\t\"CO_URF\" BIGINT, \\n\\t\"QT_ESTAT\" BIGINT, \\n\\t\"KG_LIQUIDO\" BIGINT, \\n\\t\"VL_FOB\" BIGINT, \\n\\t\"DATA\" DATETIME\\n)\n",
       "ncm     table      ncm    179096  CREATE TABLE ncm (\\n\\t\"index\" BIGINT, \\n\\t\"CO_NCM\" BIGINT, \\n\\t\"CO_UNID\" BIGINT, \\n\\t\"CO_SH6\" BIGINT, \\n\\t\"CO_PPE\" BIGINT, \\n\\t\"CO_PPI\" BIGINT, \\n\\t\"CO_FAT_AGREG\" BIGINT, \\n\\t\"CO_CUCI_ITEM\" TEXT, \\n\\t\"CO_CGCE_N3\" BIGINT, \\n\\t\"CO_SIIT\" BIGINT, \\n\\t\"CO_ISIC_CLASSE\" BIGINT, \\n\\t\"CO_EXP_SUBSET\" FLOA...\n",
       "uf      table       uf    179806                                                                                                                                                                                         CREATE TABLE uf (\\n\\t\"index\" BIGINT, \\n\\t\"CO_UF\" BIGINT, \\n\\t\"SG_UF\" TEXT, \\n\\t\"NO_UF\" TEXT, \\n\\t\"NO_REGIAO\" TEXT\\n)"
      ]
     },
     "execution_count": 8,
     "metadata": {},
     "output_type": "execute_result"
    }
   ],
   "source": [
    "pd.read_sql(\"SELECT * FROM sqlite_master WHERE type='table'\", conn, index_col=[\"name\"])"
   ]
  },
  {
   "cell_type": "markdown",
   "metadata": {},
   "source": [
    "## Número de transações"
   ]
  },
  {
   "cell_type": "markdown",
   "metadata": {},
   "source": [
    "Contagem do número de linhas dos arquivos de transações de mercadorias. **Obs**: esse total inclui a primeira linha de cada arquivo (nomes das colunas)"
   ]
  },
  {
   "cell_type": "code",
   "execution_count": 9,
   "metadata": {},
   "outputs": [
    {
     "name": "stdout",
     "output_type": "stream",
     "text": [
      "  1823962 ../data/IMP_2017.csv\n",
      "  1866512 ../data/IMP_2018.csv\n",
      "  1904414 ../data/IMP_2019.csv\n",
      "  5594888 total\n",
      "1.36 s ± 0 ns per loop (mean ± std. dev. of 1 run, 1 loop each)\n"
     ]
    }
   ],
   "source": [
    "%%timeit -n1 -r1\n",
    "!wc -l {files[kind]}"
   ]
  },
  {
   "cell_type": "markdown",
   "metadata": {},
   "source": [
    "Aqui está o verdadeiro número de linhas na tabela recém criada:"
   ]
  },
  {
   "cell_type": "code",
   "execution_count": 10,
   "metadata": {},
   "outputs": [
    {
     "data": {
      "text/html": [
       "<div>\n",
       "<style scoped>\n",
       "    .dataframe tbody tr th:only-of-type {\n",
       "        vertical-align: middle;\n",
       "    }\n",
       "\n",
       "    .dataframe tbody tr th {\n",
       "        vertical-align: top;\n",
       "    }\n",
       "\n",
       "    .dataframe thead th {\n",
       "        text-align: right;\n",
       "    }\n",
       "</style>\n",
       "<table border=\"1\" class=\"dataframe\">\n",
       "  <thead>\n",
       "    <tr style=\"text-align: right;\">\n",
       "      <th></th>\n",
       "      <th>COUNT(*)</th>\n",
       "    </tr>\n",
       "  </thead>\n",
       "  <tbody>\n",
       "    <tr>\n",
       "      <th>0</th>\n",
       "      <td>5594885</td>\n",
       "    </tr>\n",
       "  </tbody>\n",
       "</table>\n",
       "</div>"
      ],
      "text/plain": [
       "   COUNT(*)\n",
       "0   5594885"
      ]
     },
     "metadata": {},
     "output_type": "display_data"
    },
    {
     "name": "stdout",
     "output_type": "stream",
     "text": [
      "1.01 s ± 0 ns per loop (mean ± std. dev. of 1 run, 1 loop each)\n"
     ]
    }
   ],
   "source": [
    "%%timeit -n1 -r1\n",
    "# conn.execute(f'SELECT COUNT(*) FROM {kind}').fetchall()\n",
    "display(pd.read_sql(f'SELECT COUNT(*) FROM {kind}', conn))"
   ]
  },
  {
   "cell_type": "markdown",
   "metadata": {},
   "source": [
    "### Nomenclatura Comum do Mercosul (NCM)"
   ]
  },
  {
   "cell_type": "code",
   "execution_count": 11,
   "metadata": {},
   "outputs": [
    {
     "name": "stdout",
     "output_type": "stream",
     "text": [
      "13122 ../data/NCM.csv\n",
      "135 ms ± 0 ns per loop (mean ± std. dev. of 1 run, 1 loop each)\n"
     ]
    }
   ],
   "source": [
    "%%timeit -n1 -r1\n",
    "!wc -l {ncm_file}"
   ]
  },
  {
   "cell_type": "markdown",
   "metadata": {},
   "source": [
    "O número de linhas na tabela recém criada é mostrado a seguir:"
   ]
  },
  {
   "cell_type": "code",
   "execution_count": 12,
   "metadata": {},
   "outputs": [
    {
     "data": {
      "text/html": [
       "<div>\n",
       "<style scoped>\n",
       "    .dataframe tbody tr th:only-of-type {\n",
       "        vertical-align: middle;\n",
       "    }\n",
       "\n",
       "    .dataframe tbody tr th {\n",
       "        vertical-align: top;\n",
       "    }\n",
       "\n",
       "    .dataframe thead th {\n",
       "        text-align: right;\n",
       "    }\n",
       "</style>\n",
       "<table border=\"1\" class=\"dataframe\">\n",
       "  <thead>\n",
       "    <tr style=\"text-align: right;\">\n",
       "      <th></th>\n",
       "      <th>COUNT(*)</th>\n",
       "    </tr>\n",
       "  </thead>\n",
       "  <tbody>\n",
       "    <tr>\n",
       "      <th>0</th>\n",
       "      <td>13112</td>\n",
       "    </tr>\n",
       "  </tbody>\n",
       "</table>\n",
       "</div>"
      ],
      "text/plain": [
       "   COUNT(*)\n",
       "0     13112"
      ]
     },
     "metadata": {},
     "output_type": "display_data"
    },
    {
     "name": "stdout",
     "output_type": "stream",
     "text": [
      "14.5 ms ± 0 ns per loop (mean ± std. dev. of 1 run, 1 loop each)\n"
     ]
    }
   ],
   "source": [
    "%%timeit -n1 -r1\n",
    "# conn.execute('SELECT COUNT(*) FROM ncm').fetchall()\n",
    "display(pd.read_sql('SELECT COUNT(*) FROM ncm', conn))"
   ]
  },
  {
   "cell_type": "markdown",
   "metadata": {},
   "source": [
    "O comando `wc -l` retorna 10 linhas a mais pois, além de considerar a primeira linha, considera as 9 quebras de linha (`\\n`) em células contendo strings:"
   ]
  },
  {
   "cell_type": "code",
   "execution_count": 13,
   "metadata": {},
   "outputs": [
    {
     "data": {
      "text/html": [
       "<div>\n",
       "<style scoped>\n",
       "    .dataframe tbody tr th:only-of-type {\n",
       "        vertical-align: middle;\n",
       "    }\n",
       "\n",
       "    .dataframe tbody tr th {\n",
       "        vertical-align: top;\n",
       "    }\n",
       "\n",
       "    .dataframe thead th {\n",
       "        text-align: right;\n",
       "    }\n",
       "</style>\n",
       "<table border=\"1\" class=\"dataframe\">\n",
       "  <thead>\n",
       "    <tr style=\"text-align: right;\">\n",
       "      <th></th>\n",
       "      <th>index</th>\n",
       "      <th>CO_NCM</th>\n",
       "      <th>CO_UNID</th>\n",
       "      <th>CO_SH6</th>\n",
       "      <th>CO_PPE</th>\n",
       "      <th>CO_PPI</th>\n",
       "      <th>CO_FAT_AGREG</th>\n",
       "      <th>CO_CUCI_ITEM</th>\n",
       "      <th>CO_CGCE_N3</th>\n",
       "      <th>CO_SIIT</th>\n",
       "      <th>CO_ISIC_CLASSE</th>\n",
       "      <th>CO_EXP_SUBSET</th>\n",
       "      <th>NO_NCM_POR</th>\n",
       "      <th>NO_NCM_ESP</th>\n",
       "      <th>NO_NCM_ING</th>\n",
       "    </tr>\n",
       "  </thead>\n",
       "  <tbody>\n",
       "    <tr>\n",
       "      <th>12666</th>\n",
       "      <td>12666</td>\n",
       "      <td>85235210</td>\n",
       "      <td>11</td>\n",
       "      <td>852352</td>\n",
       "      <td>3235</td>\n",
       "      <td>3235</td>\n",
       "      <td>3</td>\n",
       "      <td>89846</td>\n",
       "      <td>240</td>\n",
       "      <td>1000</td>\n",
       "      <td>2610</td>\n",
       "      <td>1106.0</td>\n",
       "      <td>\\t\\r\\nCartões e etiquetas de acionamento por aproximação</td>\n",
       "      <td>Tarjetas y etiquetas de activación por proximidad</td>\n",
       "      <td>Proximity cards and proximity tags</td>\n",
       "    </tr>\n",
       "    <tr>\n",
       "      <th>12669</th>\n",
       "      <td>12669</td>\n",
       "      <td>27075010</td>\n",
       "      <td>10</td>\n",
       "      <td>270750</td>\n",
       "      <td>3215</td>\n",
       "      <td>3990</td>\n",
       "      <td>3</td>\n",
       "      <td>33525</td>\n",
       "      <td>240</td>\n",
       "      <td>2000</td>\n",
       "      <td>2011</td>\n",
       "      <td>8099.0</td>\n",
       "      <td>Misturas que contenham trimetilbenzenos e etiltoluenos, como componentes majoritários</td>\n",
       "      <td>\\r\\nMezclas que contengan trimetilbenzenos y etiltoluenos, como componentes mayoritarios</td>\n",
       "      <td>\\r\\nMixtures containing trimethylbenzenes and ethyltoluenes as major constituents</td>\n",
       "    </tr>\n",
       "    <tr>\n",
       "      <th>12670</th>\n",
       "      <td>12670</td>\n",
       "      <td>54033110</td>\n",
       "      <td>10</td>\n",
       "      <td>540331</td>\n",
       "      <td>3275</td>\n",
       "      <td>3275</td>\n",
       "      <td>3</td>\n",
       "      <td>65174</td>\n",
       "      <td>240</td>\n",
       "      <td>2000</td>\n",
       "      <td>2030</td>\n",
       "      <td>1601.0</td>\n",
       "      <td>Fio de raiom crus ou branqueados viscose, sem torção ou com torção não superior a 120 voltas por metro</td>\n",
       "      <td>Hiilado de rayón viscosa \\r\\r\\ncrudos o blanqueados, sencillo, torsión&lt;=120vueltas/m</td>\n",
       "      <td>Yarn of viscose rayon \\r\\r\\ncrushed or bleached, single, twist&lt;=120turns/meter</td>\n",
       "    </tr>\n",
       "    <tr>\n",
       "      <th>12675</th>\n",
       "      <td>12675</td>\n",
       "      <td>95089043</td>\n",
       "      <td>10</td>\n",
       "      <td>950890</td>\n",
       "      <td>3070</td>\n",
       "      <td>3070</td>\n",
       "      <td>3</td>\n",
       "      <td>8946</td>\n",
       "      <td>110</td>\n",
       "      <td>2000</td>\n",
       "      <td>2829</td>\n",
       "      <td>8099.0</td>\n",
       "      <td>\\t\\r\\n\\r\\nEquipamentos recreativos para parques aquáticos \\t\\r\\n\\r\\nEquipamentos recreativos para parques aquáticos</td>\n",
       "      <td>Equipamiento recreativo para parques acuáticos.</td>\n",
       "      <td>Recreational equipment for water parks</td>\n",
       "    </tr>\n",
       "  </tbody>\n",
       "</table>\n",
       "</div>"
      ],
      "text/plain": [
       "       index    CO_NCM  CO_UNID  CO_SH6  CO_PPE  CO_PPI  CO_FAT_AGREG CO_CUCI_ITEM  CO_CGCE_N3  CO_SIIT  CO_ISIC_CLASSE  CO_EXP_SUBSET                                                                                                            NO_NCM_POR                                                                                NO_NCM_ESP                                                                         NO_NCM_ING\n",
       "12666  12666  85235210       11  852352    3235    3235             3        89846         240     1000            2610         1106.0                                                              \\t\\r\\nCartões e etiquetas de acionamento por aproximação                                         Tarjetas y etiquetas de activación por proximidad                                                 Proximity cards and proximity tags\n",
       "12669  12669  27075010       10  270750    3215    3990             3        33525         240     2000            2011         8099.0                                 Misturas que contenham trimetilbenzenos e etiltoluenos, como componentes majoritários  \\r\\nMezclas que contengan trimetilbenzenos y etiltoluenos, como componentes mayoritarios  \\r\\nMixtures containing trimethylbenzenes and ethyltoluenes as major constituents\n",
       "12670  12670  54033110       10  540331    3275    3275             3        65174         240     2000            2030         1601.0                Fio de raiom crus ou branqueados viscose, sem torção ou com torção não superior a 120 voltas por metro      Hiilado de rayón viscosa \\r\\r\\ncrudos o blanqueados, sencillo, torsión<=120vueltas/m     Yarn of viscose rayon \\r\\r\\ncrushed or bleached, single, twist<=120turns/meter\n",
       "12675  12675  95089043       10  950890    3070    3070             3         8946         110     2000            2829         8099.0   \\t\\r\\n\\r\\nEquipamentos recreativos para parques aquáticos \\t\\r\\n\\r\\nEquipamentos recreativos para parques aquáticos                                           Equipamiento recreativo para parques acuáticos.                                             Recreational equipment for water parks"
      ]
     },
     "metadata": {},
     "output_type": "display_data"
    },
    {
     "name": "stdout",
     "output_type": "stream",
     "text": [
      "3.2 s ± 0 ns per loop (mean ± std. dev. of 1 run, 1 loop each)\n"
     ]
    }
   ],
   "source": [
    "%%timeit -n1 -r1\n",
    "df = pd.read_sql('SELECT * FROM ncm', conn)\n",
    "display(df[df.apply(lambda row: row.str.contains('\\n').any(), axis=1)])"
   ]
  },
  {
   "cell_type": "markdown",
   "metadata": {},
   "source": [
    "### Unidades Federativas (UF)"
   ]
  },
  {
   "cell_type": "code",
   "execution_count": 14,
   "metadata": {},
   "outputs": [
    {
     "name": "stdout",
     "output_type": "stream",
     "text": [
      "35 ../data/UF.csv\n",
      "113 ms ± 0 ns per loop (mean ± std. dev. of 1 run, 1 loop each)\n"
     ]
    }
   ],
   "source": [
    "%%timeit -n1 -r1\n",
    "!wc -l {uf_file}"
   ]
  },
  {
   "cell_type": "code",
   "execution_count": 15,
   "metadata": {},
   "outputs": [
    {
     "data": {
      "text/html": [
       "<div>\n",
       "<style scoped>\n",
       "    .dataframe tbody tr th:only-of-type {\n",
       "        vertical-align: middle;\n",
       "    }\n",
       "\n",
       "    .dataframe tbody tr th {\n",
       "        vertical-align: top;\n",
       "    }\n",
       "\n",
       "    .dataframe thead th {\n",
       "        text-align: right;\n",
       "    }\n",
       "</style>\n",
       "<table border=\"1\" class=\"dataframe\">\n",
       "  <thead>\n",
       "    <tr style=\"text-align: right;\">\n",
       "      <th></th>\n",
       "      <th>COUNT(*)</th>\n",
       "    </tr>\n",
       "  </thead>\n",
       "  <tbody>\n",
       "    <tr>\n",
       "      <th>0</th>\n",
       "      <td>34</td>\n",
       "    </tr>\n",
       "  </tbody>\n",
       "</table>\n",
       "</div>"
      ],
      "text/plain": [
       "   COUNT(*)\n",
       "0        34"
      ]
     },
     "metadata": {},
     "output_type": "display_data"
    },
    {
     "name": "stdout",
     "output_type": "stream",
     "text": [
      "18.1 ms ± 0 ns per loop (mean ± std. dev. of 1 run, 1 loop each)\n"
     ]
    }
   ],
   "source": [
    "%%timeit -n1 -r1\n",
    "# conn.execute('SELECT COUNT(*) FROM uf').fetchall()\n",
    "display(pd.read_sql('SELECT COUNT(*) FROM uf', conn))"
   ]
  },
  {
   "cell_type": "code",
   "execution_count": 16,
   "metadata": {},
   "outputs": [
    {
     "data": {
      "text/html": [
       "<div>\n",
       "<style scoped>\n",
       "    .dataframe tbody tr th:only-of-type {\n",
       "        vertical-align: middle;\n",
       "    }\n",
       "\n",
       "    .dataframe tbody tr th {\n",
       "        vertical-align: top;\n",
       "    }\n",
       "\n",
       "    .dataframe thead th {\n",
       "        text-align: right;\n",
       "    }\n",
       "</style>\n",
       "<table border=\"1\" class=\"dataframe\">\n",
       "  <thead>\n",
       "    <tr style=\"text-align: right;\">\n",
       "      <th></th>\n",
       "      <th>index</th>\n",
       "      <th>CO_UF</th>\n",
       "      <th>SG_UF</th>\n",
       "      <th>NO_UF</th>\n",
       "      <th>NO_REGIAO</th>\n",
       "    </tr>\n",
       "  </thead>\n",
       "  <tbody>\n",
       "    <tr>\n",
       "      <th>0</th>\n",
       "      <td>0</td>\n",
       "      <td>11</td>\n",
       "      <td>RO</td>\n",
       "      <td>Rondônia</td>\n",
       "      <td>REGIAO NORTE</td>\n",
       "    </tr>\n",
       "    <tr>\n",
       "      <th>1</th>\n",
       "      <td>1</td>\n",
       "      <td>12</td>\n",
       "      <td>AC</td>\n",
       "      <td>Acre</td>\n",
       "      <td>REGIAO NORTE</td>\n",
       "    </tr>\n",
       "    <tr>\n",
       "      <th>2</th>\n",
       "      <td>2</td>\n",
       "      <td>13</td>\n",
       "      <td>AM</td>\n",
       "      <td>Amazonas</td>\n",
       "      <td>REGIAO NORTE</td>\n",
       "    </tr>\n",
       "    <tr>\n",
       "      <th>3</th>\n",
       "      <td>3</td>\n",
       "      <td>14</td>\n",
       "      <td>RR</td>\n",
       "      <td>Roraima</td>\n",
       "      <td>REGIAO NORTE</td>\n",
       "    </tr>\n",
       "    <tr>\n",
       "      <th>4</th>\n",
       "      <td>4</td>\n",
       "      <td>15</td>\n",
       "      <td>PA</td>\n",
       "      <td>Pará</td>\n",
       "      <td>REGIAO NORTE</td>\n",
       "    </tr>\n",
       "  </tbody>\n",
       "</table>\n",
       "</div>"
      ],
      "text/plain": [
       "   index  CO_UF SG_UF     NO_UF     NO_REGIAO\n",
       "0      0     11    RO  Rondônia  REGIAO NORTE\n",
       "1      1     12    AC      Acre  REGIAO NORTE\n",
       "2      2     13    AM  Amazonas  REGIAO NORTE\n",
       "3      3     14    RR   Roraima  REGIAO NORTE\n",
       "4      4     15    PA      Pará  REGIAO NORTE"
      ]
     },
     "metadata": {},
     "output_type": "display_data"
    }
   ],
   "source": [
    "display(pd.read_sql('SELECT * FROM uf LIMIT 5', conn))"
   ]
  },
  {
   "cell_type": "markdown",
   "metadata": {},
   "source": [
    "### Informações gerais sobre a tabela de transações"
   ]
  },
  {
   "cell_type": "code",
   "execution_count": 17,
   "metadata": {
    "scrolled": true
   },
   "outputs": [
    {
     "name": "stdout",
     "output_type": "stream",
     "text": [
      "<class 'pandas.core.frame.DataFrame'>\n",
      "RangeIndex: 5594885 entries, 0 to 5594884\n",
      "Data columns (total 11 columns):\n",
      " #   Column      Dtype \n",
      "---  ------      ----- \n",
      " 0   index       int64 \n",
      " 1   CO_NCM      int64 \n",
      " 2   CO_UNID     int64 \n",
      " 3   CO_PAIS     int64 \n",
      " 4   SG_UF_NCM   object\n",
      " 5   CO_VIA      int64 \n",
      " 6   CO_URF      int64 \n",
      " 7   QT_ESTAT    int64 \n",
      " 8   KG_LIQUIDO  int64 \n",
      " 9   VL_FOB      int64 \n",
      " 10  DATA        object\n",
      "dtypes: int64(9), object(2)\n",
      "memory usage: 469.5+ MB\n"
     ]
    }
   ],
   "source": [
    "# Disabled timing due to NameError. See https://github.com/ipython/ipython/issues/11659/\n",
    "# %%timeit -n1 -r1\n",
    "# 24.9 s ± 0 ns per loop (mean ± std. dev. of 1 run, 1 loop each)\n",
    "df = pd.read_sql(f'SELECT * FROM {kind}', conn)\n",
    "df.info()"
   ]
  },
  {
   "cell_type": "markdown",
   "metadata": {},
   "source": [
    "### Quantidade de valores distintos por coluna"
   ]
  },
  {
   "cell_type": "code",
   "execution_count": 18,
   "metadata": {},
   "outputs": [
    {
     "data": {
      "text/plain": [
       "index         1904413\n",
       "CO_NCM           9166\n",
       "CO_UNID            13\n",
       "CO_PAIS           250\n",
       "SG_UF_NCM          28\n",
       "CO_VIA             10\n",
       "CO_URF            132\n",
       "QT_ESTAT       227247\n",
       "KG_LIQUIDO     181475\n",
       "VL_FOB         447867\n",
       "DATA               36\n",
       "dtype: int64"
      ]
     },
     "metadata": {},
     "output_type": "display_data"
    },
    {
     "name": "stdout",
     "output_type": "stream",
     "text": [
      "1.03 s ± 0 ns per loop (mean ± std. dev. of 1 run, 1 loop each)\n"
     ]
    }
   ],
   "source": [
    "%%timeit -n1 -r1\n",
    "display(df.nunique())"
   ]
  },
  {
   "cell_type": "markdown",
   "metadata": {},
   "source": [
    "### Transações com maior valor FOB (Free on Board) em dólar"
   ]
  },
  {
   "cell_type": "code",
   "execution_count": 19,
   "metadata": {
    "scrolled": true
   },
   "outputs": [
    {
     "data": {
      "text/html": [
       "<div>\n",
       "<style scoped>\n",
       "    .dataframe tbody tr th:only-of-type {\n",
       "        vertical-align: middle;\n",
       "    }\n",
       "\n",
       "    .dataframe tbody tr th {\n",
       "        vertical-align: top;\n",
       "    }\n",
       "\n",
       "    .dataframe thead th {\n",
       "        text-align: right;\n",
       "    }\n",
       "</style>\n",
       "<table border=\"1\" class=\"dataframe\">\n",
       "  <thead>\n",
       "    <tr style=\"text-align: right;\">\n",
       "      <th></th>\n",
       "      <th>index</th>\n",
       "      <th>CO_NCM</th>\n",
       "      <th>CO_UNID</th>\n",
       "      <th>CO_PAIS</th>\n",
       "      <th>SG_UF_NCM</th>\n",
       "      <th>CO_VIA</th>\n",
       "      <th>CO_URF</th>\n",
       "      <th>QT_ESTAT</th>\n",
       "      <th>KG_LIQUIDO</th>\n",
       "      <th>VL_FOB</th>\n",
       "      <th>DATA</th>\n",
       "    </tr>\n",
       "  </thead>\n",
       "  <tbody>\n",
       "    <tr>\n",
       "      <th>0</th>\n",
       "      <td>661481</td>\n",
       "      <td>89052000</td>\n",
       "      <td>11</td>\n",
       "      <td>105</td>\n",
       "      <td>RJ</td>\n",
       "      <td>10</td>\n",
       "      <td>917800</td>\n",
       "      <td>0</td>\n",
       "      <td>81451179</td>\n",
       "      <td>2215563252</td>\n",
       "      <td>2018-11-01 00:00:00.000000</td>\n",
       "    </tr>\n",
       "    <tr>\n",
       "      <th>1</th>\n",
       "      <td>1683231</td>\n",
       "      <td>89052000</td>\n",
       "      <td>11</td>\n",
       "      <td>160</td>\n",
       "      <td>RJ</td>\n",
       "      <td>10</td>\n",
       "      <td>1017700</td>\n",
       "      <td>0</td>\n",
       "      <td>101748000</td>\n",
       "      <td>2085171726</td>\n",
       "      <td>2019-01-01 00:00:00.000000</td>\n",
       "    </tr>\n",
       "    <tr>\n",
       "      <th>2</th>\n",
       "      <td>1135488</td>\n",
       "      <td>89052000</td>\n",
       "      <td>11</td>\n",
       "      <td>160</td>\n",
       "      <td>RJ</td>\n",
       "      <td>10</td>\n",
       "      <td>1017700</td>\n",
       "      <td>0</td>\n",
       "      <td>101748000</td>\n",
       "      <td>2071124563</td>\n",
       "      <td>2018-08-01 00:00:00.000000</td>\n",
       "    </tr>\n",
       "    <tr>\n",
       "      <th>3</th>\n",
       "      <td>252374</td>\n",
       "      <td>89059000</td>\n",
       "      <td>11</td>\n",
       "      <td>105</td>\n",
       "      <td>RJ</td>\n",
       "      <td>10</td>\n",
       "      <td>1017700</td>\n",
       "      <td>2</td>\n",
       "      <td>90511000</td>\n",
       "      <td>1985998896</td>\n",
       "      <td>2018-02-01 00:00:00.000000</td>\n",
       "    </tr>\n",
       "    <tr>\n",
       "      <th>4</th>\n",
       "      <td>919422</td>\n",
       "      <td>89052000</td>\n",
       "      <td>11</td>\n",
       "      <td>105</td>\n",
       "      <td>RJ</td>\n",
       "      <td>10</td>\n",
       "      <td>727600</td>\n",
       "      <td>2</td>\n",
       "      <td>76224380</td>\n",
       "      <td>1709212920</td>\n",
       "      <td>2019-09-01 00:00:00.000000</td>\n",
       "    </tr>\n",
       "  </tbody>\n",
       "</table>\n",
       "</div>"
      ],
      "text/plain": [
       "     index    CO_NCM  CO_UNID  CO_PAIS SG_UF_NCM  CO_VIA   CO_URF  QT_ESTAT  KG_LIQUIDO      VL_FOB                        DATA\n",
       "0   661481  89052000       11      105        RJ      10   917800         0    81451179  2215563252  2018-11-01 00:00:00.000000\n",
       "1  1683231  89052000       11      160        RJ      10  1017700         0   101748000  2085171726  2019-01-01 00:00:00.000000\n",
       "2  1135488  89052000       11      160        RJ      10  1017700         0   101748000  2071124563  2018-08-01 00:00:00.000000\n",
       "3   252374  89059000       11      105        RJ      10  1017700         2    90511000  1985998896  2018-02-01 00:00:00.000000\n",
       "4   919422  89052000       11      105        RJ      10   727600         2    76224380  1709212920  2019-09-01 00:00:00.000000"
      ]
     },
     "metadata": {},
     "output_type": "display_data"
    },
    {
     "name": "stdout",
     "output_type": "stream",
     "text": [
      "3.78 s ± 0 ns per loop (mean ± std. dev. of 1 run, 1 loop each)\n"
     ]
    }
   ],
   "source": [
    "%%timeit -n1 -r1\n",
    "# conn.execute(f'SELECT * FROM {kind} ORDER BY VL_FOB DESC LIMIT 5').fetchall()\n",
    "display(pd.read_sql(f'SELECT * FROM {kind} ORDER BY VL_FOB DESC LIMIT 5', conn))"
   ]
  },
  {
   "cell_type": "markdown",
   "metadata": {},
   "source": [
    "### Mercadorias com maior valor FOB total em dólar"
   ]
  },
  {
   "cell_type": "markdown",
   "metadata": {},
   "source": [
    "Os maiores valores FOB totais, por mercadoria são os seguintes:"
   ]
  },
  {
   "cell_type": "code",
   "execution_count": 20,
   "metadata": {},
   "outputs": [
    {
     "data": {
      "text/html": [
       "<div>\n",
       "<style scoped>\n",
       "    .dataframe tbody tr th:only-of-type {\n",
       "        vertical-align: middle;\n",
       "    }\n",
       "\n",
       "    .dataframe tbody tr th {\n",
       "        vertical-align: top;\n",
       "    }\n",
       "\n",
       "    .dataframe thead th {\n",
       "        text-align: right;\n",
       "    }\n",
       "</style>\n",
       "<table border=\"1\" class=\"dataframe\">\n",
       "  <thead>\n",
       "    <tr style=\"text-align: right;\">\n",
       "      <th></th>\n",
       "      <th>CO_NCM</th>\n",
       "      <th>total</th>\n",
       "    </tr>\n",
       "  </thead>\n",
       "  <tbody>\n",
       "    <tr>\n",
       "      <th>0</th>\n",
       "      <td>27101921</td>\n",
       "      <td>18603831959</td>\n",
       "    </tr>\n",
       "    <tr>\n",
       "      <th>1</th>\n",
       "      <td>27090010</td>\n",
       "      <td>12664164160</td>\n",
       "    </tr>\n",
       "    <tr>\n",
       "      <th>2</th>\n",
       "      <td>27101241</td>\n",
       "      <td>9952530812</td>\n",
       "    </tr>\n",
       "  </tbody>\n",
       "</table>\n",
       "</div>"
      ],
      "text/plain": [
       "     CO_NCM        total\n",
       "0  27101921  18603831959\n",
       "1  27090010  12664164160\n",
       "2  27101241   9952530812"
      ]
     },
     "metadata": {},
     "output_type": "display_data"
    },
    {
     "name": "stdout",
     "output_type": "stream",
     "text": [
      "2.74 s ± 0 ns per loop (mean ± std. dev. of 1 run, 1 loop each)\n"
     ]
    }
   ],
   "source": [
    "%%timeit -n1 -r1\n",
    "query = f'''\n",
    "SELECT CO_NCM,\n",
    "       SUM(VL_FOB) total\n",
    "FROM {kind}\n",
    "GROUP BY CO_NCM\n",
    "ORDER BY total DESC\n",
    "LIMIT 3\n",
    "'''\n",
    "display(pd.read_sql(query, conn))"
   ]
  },
  {
   "cell_type": "markdown",
   "metadata": {},
   "source": [
    "Os nomes das mercadorias correspondentes aos códigos da coluna CO_NCM acima podem ser obtidos da tabela `ncm`:"
   ]
  },
  {
   "cell_type": "code",
   "execution_count": 21,
   "metadata": {},
   "outputs": [
    {
     "data": {
      "text/html": [
       "<div>\n",
       "<style scoped>\n",
       "    .dataframe tbody tr th:only-of-type {\n",
       "        vertical-align: middle;\n",
       "    }\n",
       "\n",
       "    .dataframe tbody tr th {\n",
       "        vertical-align: top;\n",
       "    }\n",
       "\n",
       "    .dataframe thead th {\n",
       "        text-align: right;\n",
       "    }\n",
       "</style>\n",
       "<table border=\"1\" class=\"dataframe\">\n",
       "  <thead>\n",
       "    <tr style=\"text-align: right;\">\n",
       "      <th></th>\n",
       "      <th>CO_NCM</th>\n",
       "      <th>NO_NCM_POR</th>\n",
       "      <th>total</th>\n",
       "    </tr>\n",
       "  </thead>\n",
       "  <tbody>\n",
       "    <tr>\n",
       "      <th>0</th>\n",
       "      <td>27101921</td>\n",
       "      <td>Gasóleo (óleo diesel)</td>\n",
       "      <td>18603831959</td>\n",
       "    </tr>\n",
       "    <tr>\n",
       "      <th>1</th>\n",
       "      <td>27090010</td>\n",
       "      <td>Óleos brutos de petróleo</td>\n",
       "      <td>12664164160</td>\n",
       "    </tr>\n",
       "    <tr>\n",
       "      <th>2</th>\n",
       "      <td>27101241</td>\n",
       "      <td>Naftas para petroquimica</td>\n",
       "      <td>9952530812</td>\n",
       "    </tr>\n",
       "  </tbody>\n",
       "</table>\n",
       "</div>"
      ],
      "text/plain": [
       "     CO_NCM                NO_NCM_POR        total\n",
       "0  27101921     Gasóleo (óleo diesel)  18603831959\n",
       "1  27090010  Óleos brutos de petróleo  12664164160\n",
       "2  27101241  Naftas para petroquimica   9952530812"
      ]
     },
     "metadata": {},
     "output_type": "display_data"
    },
    {
     "name": "stdout",
     "output_type": "stream",
     "text": [
      "5.7 s ± 0 ns per loop (mean ± std. dev. of 1 run, 1 loop each)\n"
     ]
    }
   ],
   "source": [
    "%%timeit -n1 -r1\n",
    "query = f'''\n",
    "SELECT k.CO_NCM,\n",
    "       NO_NCM_POR,\n",
    "       SUM(VL_FOB) total\n",
    "FROM {kind} k\n",
    "JOIN ncm ON ncm.CO_NCM = k.CO_NCM\n",
    "GROUP BY k.CO_NCM\n",
    "ORDER BY total DESC\n",
    "LIMIT 3\n",
    "'''\n",
    "display(pd.read_sql(query, conn))"
   ]
  },
  {
   "cell_type": "markdown",
   "metadata": {},
   "source": [
    "## Estados com maior valor FOB total em dólar"
   ]
  },
  {
   "cell_type": "code",
   "execution_count": 22,
   "metadata": {},
   "outputs": [
    {
     "data": {
      "text/html": [
       "<div>\n",
       "<style scoped>\n",
       "    .dataframe tbody tr th:only-of-type {\n",
       "        vertical-align: middle;\n",
       "    }\n",
       "\n",
       "    .dataframe tbody tr th {\n",
       "        vertical-align: top;\n",
       "    }\n",
       "\n",
       "    .dataframe thead th {\n",
       "        text-align: right;\n",
       "    }\n",
       "</style>\n",
       "<table border=\"1\" class=\"dataframe\">\n",
       "  <thead>\n",
       "    <tr style=\"text-align: right;\">\n",
       "      <th></th>\n",
       "      <th>SG_UF_NCM</th>\n",
       "      <th>NO_UF</th>\n",
       "      <th>total</th>\n",
       "    </tr>\n",
       "  </thead>\n",
       "  <tbody>\n",
       "    <tr>\n",
       "      <th>0</th>\n",
       "      <td>SP</td>\n",
       "      <td>São Paulo</td>\n",
       "      <td>175421880962</td>\n",
       "    </tr>\n",
       "    <tr>\n",
       "      <th>1</th>\n",
       "      <td>RJ</td>\n",
       "      <td>Rio de Janeiro</td>\n",
       "      <td>56304101371</td>\n",
       "    </tr>\n",
       "    <tr>\n",
       "      <th>2</th>\n",
       "      <td>SC</td>\n",
       "      <td>Santa Catarina</td>\n",
       "      <td>44973206316</td>\n",
       "    </tr>\n",
       "  </tbody>\n",
       "</table>\n",
       "</div>"
      ],
      "text/plain": [
       "  SG_UF_NCM           NO_UF         total\n",
       "0        SP       São Paulo  175421880962\n",
       "1        RJ  Rio de Janeiro   56304101371\n",
       "2        SC  Santa Catarina   44973206316"
      ]
     },
     "metadata": {},
     "output_type": "display_data"
    },
    {
     "name": "stdout",
     "output_type": "stream",
     "text": [
      "3.53 s ± 0 ns per loop (mean ± std. dev. of 1 run, 1 loop each)\n"
     ]
    }
   ],
   "source": [
    "%%timeit -n1 -r1\n",
    "query = f'''\n",
    "SELECT k.SG_UF_NCM,\n",
    "       uf.NO_UF,\n",
    "       SUM(VL_FOB) total\n",
    "FROM {kind} k\n",
    "JOIN uf ON uf.SG_UF = k.SG_UF_NCM\n",
    "GROUP BY k.SG_UF_NCM\n",
    "ORDER BY total DESC\n",
    "LIMIT 3\n",
    "'''\n",
    "display(pd.read_sql(query, conn))"
   ]
  },
  {
   "cell_type": "markdown",
   "metadata": {},
   "source": [
    "## Valor FOB total anual em dólar"
   ]
  },
  {
   "cell_type": "code",
   "execution_count": 23,
   "metadata": {},
   "outputs": [
    {
     "data": {
      "text/html": [
       "<div>\n",
       "<style scoped>\n",
       "    .dataframe tbody tr th:only-of-type {\n",
       "        vertical-align: middle;\n",
       "    }\n",
       "\n",
       "    .dataframe tbody tr th {\n",
       "        vertical-align: top;\n",
       "    }\n",
       "\n",
       "    .dataframe thead th {\n",
       "        text-align: right;\n",
       "    }\n",
       "</style>\n",
       "<table border=\"1\" class=\"dataframe\">\n",
       "  <thead>\n",
       "    <tr style=\"text-align: right;\">\n",
       "      <th></th>\n",
       "      <th>ano</th>\n",
       "      <th>total</th>\n",
       "    </tr>\n",
       "  </thead>\n",
       "  <tbody>\n",
       "    <tr>\n",
       "      <th>0</th>\n",
       "      <td>2017</td>\n",
       "      <td>150749494421</td>\n",
       "    </tr>\n",
       "    <tr>\n",
       "      <th>1</th>\n",
       "      <td>2018</td>\n",
       "      <td>181230568862</td>\n",
       "    </tr>\n",
       "    <tr>\n",
       "      <th>2</th>\n",
       "      <td>2019</td>\n",
       "      <td>177347934749</td>\n",
       "    </tr>\n",
       "  </tbody>\n",
       "</table>\n",
       "</div>"
      ],
      "text/plain": [
       "    ano         total\n",
       "0  2017  150749494421\n",
       "1  2018  181230568862\n",
       "2  2019  177347934749"
      ]
     },
     "metadata": {},
     "output_type": "display_data"
    },
    {
     "name": "stdout",
     "output_type": "stream",
     "text": [
      "3.08 s ± 0 ns per loop (mean ± std. dev. of 1 run, 1 loop each)\n"
     ]
    }
   ],
   "source": [
    "%%timeit -n1 -r1\n",
    "query = f'''\n",
    "SELECT strftime(\"%Y\", DATA) ano,\n",
    "       SUM(VL_FOB) total\n",
    "FROM {kind}\n",
    "GROUP BY ano\n",
    "ORDER BY ano\n",
    "'''\n",
    "display(pd.read_sql(query, conn))"
   ]
  },
  {
   "cell_type": "markdown",
   "metadata": {},
   "source": [
    "## Mercadorias com maior valor FOB total em dólar, em São Paulo, em 2019"
   ]
  },
  {
   "cell_type": "code",
   "execution_count": 24,
   "metadata": {},
   "outputs": [
    {
     "data": {
      "text/html": [
       "<div>\n",
       "<style scoped>\n",
       "    .dataframe tbody tr th:only-of-type {\n",
       "        vertical-align: middle;\n",
       "    }\n",
       "\n",
       "    .dataframe tbody tr th {\n",
       "        vertical-align: top;\n",
       "    }\n",
       "\n",
       "    .dataframe thead th {\n",
       "        text-align: right;\n",
       "    }\n",
       "</style>\n",
       "<table border=\"1\" class=\"dataframe\">\n",
       "  <thead>\n",
       "    <tr style=\"text-align: right;\">\n",
       "      <th></th>\n",
       "      <th>ano</th>\n",
       "      <th>NO_UF</th>\n",
       "      <th>NO_NCM_POR</th>\n",
       "      <th>total</th>\n",
       "    </tr>\n",
       "  </thead>\n",
       "  <tbody>\n",
       "    <tr>\n",
       "      <th>0</th>\n",
       "      <td>2019</td>\n",
       "      <td>São Paulo</td>\n",
       "      <td>Gasóleo (óleo diesel)</td>\n",
       "      <td>1627159797</td>\n",
       "    </tr>\n",
       "    <tr>\n",
       "      <th>1</th>\n",
       "      <td>2019</td>\n",
       "      <td>São Paulo</td>\n",
       "      <td>Outras partes para aparelhos de telefonia/telegrafia</td>\n",
       "      <td>1548336237</td>\n",
       "    </tr>\n",
       "    <tr>\n",
       "      <th>2</th>\n",
       "      <td>2019</td>\n",
       "      <td>São Paulo</td>\n",
       "      <td>Óleos brutos de petróleo</td>\n",
       "      <td>1071774913</td>\n",
       "    </tr>\n",
       "  </tbody>\n",
       "</table>\n",
       "</div>"
      ],
      "text/plain": [
       "    ano      NO_UF                                            NO_NCM_POR       total\n",
       "0  2019  São Paulo                                 Gasóleo (óleo diesel)  1627159797\n",
       "1  2019  São Paulo  Outras partes para aparelhos de telefonia/telegrafia  1548336237\n",
       "2  2019  São Paulo                              Óleos brutos de petróleo  1071774913"
      ]
     },
     "metadata": {},
     "output_type": "display_data"
    },
    {
     "name": "stdout",
     "output_type": "stream",
     "text": [
      "2.2 s ± 0 ns per loop (mean ± std. dev. of 1 run, 1 loop each)\n"
     ]
    }
   ],
   "source": [
    "%%timeit -n1 -r1\n",
    "year=2019\n",
    "state='SP'\n",
    "query = f'''\n",
    "SELECT strftime(\"%Y\", k.DATA) ano,\n",
    "       u.NO_UF,\n",
    "       n.NO_NCM_POR,\n",
    "       SUM(VL_FOB) total\n",
    "FROM {kind} k\n",
    "JOIN ncm n ON k.CO_NCM=n.CO_NCM\n",
    "JOIN uf u ON SG_UF_NCM=u.SG_UF\n",
    "WHERE ano=\"{year}\"\n",
    "  AND SG_UF_NCM=\"{state}\"\n",
    "GROUP BY k.CO_NCM\n",
    "ORDER BY total DESC\n",
    "LIMIT 3\n",
    "'''\n",
    "display(pd.read_sql(query, conn))"
   ]
  },
  {
   "cell_type": "markdown",
   "metadata": {},
   "source": [
    "##  Valor FOB total em dólar de transações de cada produto, por estado, a cada ano"
   ]
  },
  {
   "cell_type": "code",
   "execution_count": 25,
   "metadata": {},
   "outputs": [
    {
     "data": {
      "text/html": [
       "<div>\n",
       "<style scoped>\n",
       "    .dataframe tbody tr th:only-of-type {\n",
       "        vertical-align: middle;\n",
       "    }\n",
       "\n",
       "    .dataframe tbody tr th {\n",
       "        vertical-align: top;\n",
       "    }\n",
       "\n",
       "    .dataframe thead th {\n",
       "        text-align: right;\n",
       "    }\n",
       "</style>\n",
       "<table border=\"1\" class=\"dataframe\">\n",
       "  <thead>\n",
       "    <tr style=\"text-align: right;\">\n",
       "      <th></th>\n",
       "      <th>estado</th>\n",
       "      <th>ano</th>\n",
       "      <th>produto</th>\n",
       "      <th>total</th>\n",
       "    </tr>\n",
       "  </thead>\n",
       "  <tbody>\n",
       "    <tr>\n",
       "      <th>0</th>\n",
       "      <td>Acre</td>\n",
       "      <td>2017</td>\n",
       "      <td>Alhos, frescos ou refrigerados, exceto para semeadura</td>\n",
       "      <td>393150</td>\n",
       "    </tr>\n",
       "    <tr>\n",
       "      <th>1</th>\n",
       "      <td>Acre</td>\n",
       "      <td>2017</td>\n",
       "      <td>Outros policloretos de vinila, em formas primárias</td>\n",
       "      <td>293144</td>\n",
       "    </tr>\n",
       "    <tr>\n",
       "      <th>2</th>\n",
       "      <td>Acre</td>\n",
       "      <td>2017</td>\n",
       "      <td>Castanha-do-pará, fresca ou seca, sem casca</td>\n",
       "      <td>235580</td>\n",
       "    </tr>\n",
       "    <tr>\n",
       "      <th>3</th>\n",
       "      <td>Acre</td>\n",
       "      <td>2017</td>\n",
       "      <td>Sulfatos de cromo</td>\n",
       "      <td>168608</td>\n",
       "    </tr>\n",
       "    <tr>\n",
       "      <th>4</th>\n",
       "      <td>Acre</td>\n",
       "      <td>2017</td>\n",
       "      <td>Máquinas e aparelhos para preparação de carnes</td>\n",
       "      <td>123502</td>\n",
       "    </tr>\n",
       "    <tr>\n",
       "      <th>...</th>\n",
       "      <td>...</td>\n",
       "      <td>...</td>\n",
       "      <td>...</td>\n",
       "      <td>...</td>\n",
       "    </tr>\n",
       "    <tr>\n",
       "      <th>201624</th>\n",
       "      <td>Zona Não Declarada</td>\n",
       "      <td>2019</td>\n",
       "      <td>Arruelas de pressão e outras arruelas de segurança, de ferro fundido, ferro ou aço</td>\n",
       "      <td>3</td>\n",
       "    </tr>\n",
       "    <tr>\n",
       "      <th>201625</th>\n",
       "      <td>Zona Não Declarada</td>\n",
       "      <td>2019</td>\n",
       "      <td>Outros próprios para aparelhos telefônicos</td>\n",
       "      <td>2</td>\n",
       "    </tr>\n",
       "    <tr>\n",
       "      <th>201626</th>\n",
       "      <td>Zona Não Declarada</td>\n",
       "      <td>2019</td>\n",
       "      <td>Outros isqueiros e acendedores</td>\n",
       "      <td>2</td>\n",
       "    </tr>\n",
       "    <tr>\n",
       "      <th>201627</th>\n",
       "      <td>Zona Não Declarada</td>\n",
       "      <td>2019</td>\n",
       "      <td>Outras máquinas-ferramentas para afiar metais/ceramais</td>\n",
       "      <td>2</td>\n",
       "    </tr>\n",
       "    <tr>\n",
       "      <th>201628</th>\n",
       "      <td>Zona Não Declarada</td>\n",
       "      <td>2019</td>\n",
       "      <td>Outras lâmpadas/tubos incandescentes, para uma tensão inferior ou igual a 15 V</td>\n",
       "      <td>0</td>\n",
       "    </tr>\n",
       "  </tbody>\n",
       "</table>\n",
       "<p>201629 rows × 4 columns</p>\n",
       "</div>"
      ],
      "text/plain": [
       "                    estado   ano                                                                             produto   total\n",
       "0                     Acre  2017                               Alhos, frescos ou refrigerados, exceto para semeadura  393150\n",
       "1                     Acre  2017                                  Outros policloretos de vinila, em formas primárias  293144\n",
       "2                     Acre  2017                                         Castanha-do-pará, fresca ou seca, sem casca  235580\n",
       "3                     Acre  2017                                                                   Sulfatos de cromo  168608\n",
       "4                     Acre  2017                                      Máquinas e aparelhos para preparação de carnes  123502\n",
       "...                    ...   ...                                                                                 ...     ...\n",
       "201624  Zona Não Declarada  2019  Arruelas de pressão e outras arruelas de segurança, de ferro fundido, ferro ou aço       3\n",
       "201625  Zona Não Declarada  2019                                          Outros próprios para aparelhos telefônicos       2\n",
       "201626  Zona Não Declarada  2019                                                      Outros isqueiros e acendedores       2\n",
       "201627  Zona Não Declarada  2019                              Outras máquinas-ferramentas para afiar metais/ceramais       2\n",
       "201628  Zona Não Declarada  2019      Outras lâmpadas/tubos incandescentes, para uma tensão inferior ou igual a 15 V       0\n",
       "\n",
       "[201629 rows x 4 columns]"
      ]
     },
     "metadata": {},
     "output_type": "display_data"
    },
    {
     "name": "stdout",
     "output_type": "stream",
     "text": [
      "14 s ± 0 ns per loop (mean ± std. dev. of 1 run, 1 loop each)\n"
     ]
    }
   ],
   "source": [
    "%%timeit -n1 -r1\n",
    "query = f'''\n",
    "SELECT u.NO_UF estado,\n",
    "       strftime(\"%Y\", k.DATA) ano,\n",
    "       n.NO_NCM_POR produto,\n",
    "       SUM(VL_FOB) total\n",
    "FROM {kind} k\n",
    "JOIN ncm n ON k.CO_NCM=n.CO_NCM\n",
    "JOIN uf u ON SG_UF_NCM=u.SG_UF\n",
    "GROUP BY ano,\n",
    "         estado,\n",
    "         produto\n",
    "ORDER BY ano,\n",
    "         estado,\n",
    "         total DESC\n",
    "'''\n",
    "display(pd.read_sql(query, conn))"
   ]
  },
  {
   "cell_type": "markdown",
   "metadata": {},
   "source": [
    "## Produtos com o maior valor FOB total, por ano, por estado"
   ]
  },
  {
   "cell_type": "code",
   "execution_count": 26,
   "metadata": {},
   "outputs": [
    {
     "data": {
      "text/html": [
       "<div>\n",
       "<style scoped>\n",
       "    .dataframe tbody tr th:only-of-type {\n",
       "        vertical-align: middle;\n",
       "    }\n",
       "\n",
       "    .dataframe tbody tr th {\n",
       "        vertical-align: top;\n",
       "    }\n",
       "\n",
       "    .dataframe thead th {\n",
       "        text-align: right;\n",
       "    }\n",
       "</style>\n",
       "<table border=\"1\" class=\"dataframe\">\n",
       "  <thead>\n",
       "    <tr style=\"text-align: right;\">\n",
       "      <th></th>\n",
       "      <th>estado</th>\n",
       "      <th>ano</th>\n",
       "      <th>produto</th>\n",
       "      <th>max_total</th>\n",
       "    </tr>\n",
       "  </thead>\n",
       "  <tbody>\n",
       "    <tr>\n",
       "      <th>0</th>\n",
       "      <td>Acre</td>\n",
       "      <td>2017</td>\n",
       "      <td>Alhos, frescos ou refrigerados, exceto para semeadura</td>\n",
       "      <td>393150</td>\n",
       "    </tr>\n",
       "    <tr>\n",
       "      <th>1</th>\n",
       "      <td>Acre</td>\n",
       "      <td>2018</td>\n",
       "      <td>Revestimentos para pisos (pavimentos) e capachos, de borracha vulcanizada não endurecida</td>\n",
       "      <td>1031956</td>\n",
       "    </tr>\n",
       "    <tr>\n",
       "      <th>2</th>\n",
       "      <td>Acre</td>\n",
       "      <td>2019</td>\n",
       "      <td>Pneumáticos novos, de borracha, dos tipos utilizados em automóveis de passageiros (incluindo os veículos de uso misto (station wagons) e os automóveis de corrida)</td>\n",
       "      <td>445790</td>\n",
       "    </tr>\n",
       "    <tr>\n",
       "      <th>3</th>\n",
       "      <td>Alagoas</td>\n",
       "      <td>2017</td>\n",
       "      <td>Alhos, frescos ou refrigerados, exceto para semeadura</td>\n",
       "      <td>36706566</td>\n",
       "    </tr>\n",
       "    <tr>\n",
       "      <th>4</th>\n",
       "      <td>Alagoas</td>\n",
       "      <td>2018</td>\n",
       "      <td>Alhos, frescos ou refrigerados, exceto para semeadura</td>\n",
       "      <td>23857871</td>\n",
       "    </tr>\n",
       "    <tr>\n",
       "      <th>...</th>\n",
       "      <td>...</td>\n",
       "      <td>...</td>\n",
       "      <td>...</td>\n",
       "      <td>...</td>\n",
       "    </tr>\n",
       "    <tr>\n",
       "      <th>79</th>\n",
       "      <td>Tocantins</td>\n",
       "      <td>2018</td>\n",
       "      <td>Outras naftas, exceto para petroquímica</td>\n",
       "      <td>35627949</td>\n",
       "    </tr>\n",
       "    <tr>\n",
       "      <th>80</th>\n",
       "      <td>Tocantins</td>\n",
       "      <td>2019</td>\n",
       "      <td>Outros cloretos de potássio</td>\n",
       "      <td>45001029</td>\n",
       "    </tr>\n",
       "    <tr>\n",
       "      <th>81</th>\n",
       "      <td>Zona Não Declarada</td>\n",
       "      <td>2017</td>\n",
       "      <td>Outros produtos imunológicos, apresentados em doses ou acondicionados para venda a retalho</td>\n",
       "      <td>11099796</td>\n",
       "    </tr>\n",
       "    <tr>\n",
       "      <th>82</th>\n",
       "      <td>Zona Não Declarada</td>\n",
       "      <td>2018</td>\n",
       "      <td>Aviões e outros veículos aéreos, 7 toneladas &lt; peso &lt;= 15 toneladas, vazios, a turboélice</td>\n",
       "      <td>29215851</td>\n",
       "    </tr>\n",
       "    <tr>\n",
       "      <th>83</th>\n",
       "      <td>Zona Não Declarada</td>\n",
       "      <td>2019</td>\n",
       "      <td>Aviões e outros veículos aéreos, 7 toneladas &lt; peso &lt;= 15 toneladas, vazios, a turboélice</td>\n",
       "      <td>31682883</td>\n",
       "    </tr>\n",
       "  </tbody>\n",
       "</table>\n",
       "<p>84 rows × 4 columns</p>\n",
       "</div>"
      ],
      "text/plain": [
       "                estado   ano                                                                                                                                                             produto  max_total\n",
       "0                 Acre  2017                                                                                                               Alhos, frescos ou refrigerados, exceto para semeadura     393150\n",
       "1                 Acre  2018                                                                            Revestimentos para pisos (pavimentos) e capachos, de borracha vulcanizada não endurecida    1031956\n",
       "2                 Acre  2019  Pneumáticos novos, de borracha, dos tipos utilizados em automóveis de passageiros (incluindo os veículos de uso misto (station wagons) e os automóveis de corrida)     445790\n",
       "3              Alagoas  2017                                                                                                               Alhos, frescos ou refrigerados, exceto para semeadura   36706566\n",
       "4              Alagoas  2018                                                                                                               Alhos, frescos ou refrigerados, exceto para semeadura   23857871\n",
       "..                 ...   ...                                                                                                                                                                 ...        ...\n",
       "79           Tocantins  2018                                                                                                                             Outras naftas, exceto para petroquímica   35627949\n",
       "80           Tocantins  2019                                                                                                                                         Outros cloretos de potássio   45001029\n",
       "81  Zona Não Declarada  2017                                                                          Outros produtos imunológicos, apresentados em doses ou acondicionados para venda a retalho   11099796\n",
       "82  Zona Não Declarada  2018                                                                           Aviões e outros veículos aéreos, 7 toneladas < peso <= 15 toneladas, vazios, a turboélice   29215851\n",
       "83  Zona Não Declarada  2019                                                                           Aviões e outros veículos aéreos, 7 toneladas < peso <= 15 toneladas, vazios, a turboélice   31682883\n",
       "\n",
       "[84 rows x 4 columns]"
      ]
     },
     "metadata": {},
     "output_type": "display_data"
    },
    {
     "name": "stdout",
     "output_type": "stream",
     "text": [
      "7.73 s ± 0 ns per loop (mean ± std. dev. of 1 run, 1 loop each)\n"
     ]
    }
   ],
   "source": [
    "%%timeit -n1 -r1\n",
    "query = f'''\n",
    "WITH group_totals (estado, ano, produto, total) AS\n",
    "  (SELECT k.SG_UF_NCM estado,\n",
    "          strftime(\"%Y\", k.DATA) ano,\n",
    "          k.CO_NCM produto,\n",
    "          SUM(VL_FOB) total\n",
    "   FROM {kind} k\n",
    "   GROUP BY ano,\n",
    "            estado,\n",
    "            produto)\n",
    "SELECT u.NO_UF estado,\n",
    "       ano,\n",
    "       n.NO_NCM_POR produto,\n",
    "       MAX(total) max_total\n",
    "FROM group_totals\n",
    "JOIN ncm n ON produto=n.CO_NCM\n",
    "JOIN uf u ON estado=u.SG_UF\n",
    "GROUP BY estado,\n",
    "         ano\n",
    "ORDER BY estado,\n",
    "         ano\n",
    "'''\n",
    "display(pd.read_sql(query, conn))"
   ]
  },
  {
   "cell_type": "markdown",
   "metadata": {},
   "source": [
    "##  Valor FOB total em dólar de transações de cada produto, por estado, em cada mês de 2019"
   ]
  },
  {
   "cell_type": "code",
   "execution_count": 27,
   "metadata": {
    "scrolled": false
   },
   "outputs": [
    {
     "data": {
      "text/html": [
       "<div>\n",
       "<style scoped>\n",
       "    .dataframe tbody tr th:only-of-type {\n",
       "        vertical-align: middle;\n",
       "    }\n",
       "\n",
       "    .dataframe tbody tr th {\n",
       "        vertical-align: top;\n",
       "    }\n",
       "\n",
       "    .dataframe thead th {\n",
       "        text-align: right;\n",
       "    }\n",
       "</style>\n",
       "<table border=\"1\" class=\"dataframe\">\n",
       "  <thead>\n",
       "    <tr style=\"text-align: right;\">\n",
       "      <th></th>\n",
       "      <th>estado</th>\n",
       "      <th>ano</th>\n",
       "      <th>mês</th>\n",
       "      <th>produto</th>\n",
       "      <th>total</th>\n",
       "    </tr>\n",
       "  </thead>\n",
       "  <tbody>\n",
       "    <tr>\n",
       "      <th>0</th>\n",
       "      <td>Acre</td>\n",
       "      <td>2019</td>\n",
       "      <td>1</td>\n",
       "      <td>Pneumáticos novos, de borracha, dos tipos utilizados em automóveis de passageiros (incluindo os veículos de uso misto (station wagons) e os automóveis de corrida)</td>\n",
       "      <td>118213</td>\n",
       "    </tr>\n",
       "    <tr>\n",
       "      <th>1</th>\n",
       "      <td>Acre</td>\n",
       "      <td>2019</td>\n",
       "      <td>1</td>\n",
       "      <td>Outros aparelhos elevadores ou transportadores, de ação contínua, para mercadorias</td>\n",
       "      <td>85945</td>\n",
       "    </tr>\n",
       "    <tr>\n",
       "      <th>2</th>\n",
       "      <td>Acre</td>\n",
       "      <td>2019</td>\n",
       "      <td>1</td>\n",
       "      <td>Outros policloretos de vinila, em formas primárias</td>\n",
       "      <td>47423</td>\n",
       "    </tr>\n",
       "    <tr>\n",
       "      <th>3</th>\n",
       "      <td>Acre</td>\n",
       "      <td>2019</td>\n",
       "      <td>1</td>\n",
       "      <td>Outros pneumáticos novos, de borracha</td>\n",
       "      <td>34035</td>\n",
       "    </tr>\n",
       "    <tr>\n",
       "      <th>4</th>\n",
       "      <td>Acre</td>\n",
       "      <td>2019</td>\n",
       "      <td>1</td>\n",
       "      <td>Pigmentos tipo rutilo</td>\n",
       "      <td>24493</td>\n",
       "    </tr>\n",
       "    <tr>\n",
       "      <th>...</th>\n",
       "      <td>...</td>\n",
       "      <td>...</td>\n",
       "      <td>...</td>\n",
       "      <td>...</td>\n",
       "      <td>...</td>\n",
       "    </tr>\n",
       "    <tr>\n",
       "      <th>406807</th>\n",
       "      <td>Zona Não Declarada</td>\n",
       "      <td>2019</td>\n",
       "      <td>9</td>\n",
       "      <td>Outros controladores eletrônicos automáticos para veículos automóveis</td>\n",
       "      <td>21</td>\n",
       "    </tr>\n",
       "    <tr>\n",
       "      <th>406808</th>\n",
       "      <td>Zona Não Declarada</td>\n",
       "      <td>2019</td>\n",
       "      <td>9</td>\n",
       "      <td>Outras obras de ferro ou aço</td>\n",
       "      <td>14</td>\n",
       "    </tr>\n",
       "    <tr>\n",
       "      <th>406809</th>\n",
       "      <td>Zona Não Declarada</td>\n",
       "      <td>2019</td>\n",
       "      <td>9</td>\n",
       "      <td>Outros livros, brochuras e impressos semelhantes</td>\n",
       "      <td>8</td>\n",
       "    </tr>\n",
       "    <tr>\n",
       "      <th>406810</th>\n",
       "      <td>Zona Não Declarada</td>\n",
       "      <td>2019</td>\n",
       "      <td>9</td>\n",
       "      <td>Válvulas solenóides</td>\n",
       "      <td>5</td>\n",
       "    </tr>\n",
       "    <tr>\n",
       "      <th>406811</th>\n",
       "      <td>Zona Não Declarada</td>\n",
       "      <td>2019</td>\n",
       "      <td>9</td>\n",
       "      <td>Torneiras, e dispositivos semelhantes, para canalizações</td>\n",
       "      <td>4</td>\n",
       "    </tr>\n",
       "  </tbody>\n",
       "</table>\n",
       "<p>406812 rows × 5 columns</p>\n",
       "</div>"
      ],
      "text/plain": [
       "                    estado   ano mês                                                                                                                                                             produto   total\n",
       "0                     Acre  2019   1  Pneumáticos novos, de borracha, dos tipos utilizados em automóveis de passageiros (incluindo os veículos de uso misto (station wagons) e os automóveis de corrida)  118213\n",
       "1                     Acre  2019   1                                                                                  Outros aparelhos elevadores ou transportadores, de ação contínua, para mercadorias   85945\n",
       "2                     Acre  2019   1                                                                                                                  Outros policloretos de vinila, em formas primárias   47423\n",
       "3                     Acre  2019   1                                                                                                                               Outros pneumáticos novos, de borracha   34035\n",
       "4                     Acre  2019   1                                                                                                                                               Pigmentos tipo rutilo   24493\n",
       "...                    ...   ...  ..                                                                                                                                                                 ...     ...\n",
       "406807  Zona Não Declarada  2019   9                                                                                               Outros controladores eletrônicos automáticos para veículos automóveis      21\n",
       "406808  Zona Não Declarada  2019   9                                                                                                                                        Outras obras de ferro ou aço      14\n",
       "406809  Zona Não Declarada  2019   9                                                                                                                    Outros livros, brochuras e impressos semelhantes       8\n",
       "406810  Zona Não Declarada  2019   9                                                                                                                                                 Válvulas solenóides       5\n",
       "406811  Zona Não Declarada  2019   9                                                                                                            Torneiras, e dispositivos semelhantes, para canalizações       4\n",
       "\n",
       "[406812 rows x 5 columns]"
      ]
     },
     "metadata": {},
     "output_type": "display_data"
    },
    {
     "name": "stdout",
     "output_type": "stream",
     "text": [
      "7.06 s ± 0 ns per loop (mean ± std. dev. of 1 run, 1 loop each)\n"
     ]
    }
   ],
   "source": [
    "%%timeit -n1 -r1\n",
    "year = 2019\n",
    "query = f'''\n",
    "SELECT u.NO_UF estado,\n",
    "       strftime(\"%Y\", k.DATA) ano,\n",
    "       ltrim(strftime(\"%m\", k.DATA), \"0\") mês,\n",
    "       n.NO_NCM_POR produto,\n",
    "       SUM(VL_FOB) total\n",
    "FROM {kind} k\n",
    "JOIN ncm n ON k.CO_NCM=n.CO_NCM\n",
    "JOIN uf u ON SG_UF_NCM=u.SG_UF\n",
    "WHERE ano = \"{year}\"\n",
    "GROUP BY mês,\n",
    "         estado,\n",
    "         produto\n",
    "ORDER BY mês,\n",
    "         estado,\n",
    "         total DESC\n",
    "'''\n",
    "display(pd.read_sql(query, conn))"
   ]
  },
  {
   "cell_type": "markdown",
   "metadata": {},
   "source": [
    "## Produtos com o maior valor FOB total em 2019, por mês, por estado"
   ]
  },
  {
   "cell_type": "code",
   "execution_count": 28,
   "metadata": {},
   "outputs": [
    {
     "data": {
      "text/html": [
       "<div>\n",
       "<style scoped>\n",
       "    .dataframe tbody tr th:only-of-type {\n",
       "        vertical-align: middle;\n",
       "    }\n",
       "\n",
       "    .dataframe tbody tr th {\n",
       "        vertical-align: top;\n",
       "    }\n",
       "\n",
       "    .dataframe thead th {\n",
       "        text-align: right;\n",
       "    }\n",
       "</style>\n",
       "<table border=\"1\" class=\"dataframe\">\n",
       "  <thead>\n",
       "    <tr style=\"text-align: right;\">\n",
       "      <th></th>\n",
       "      <th>estado</th>\n",
       "      <th>ano</th>\n",
       "      <th>mês</th>\n",
       "      <th>produto</th>\n",
       "      <th>max_total</th>\n",
       "    </tr>\n",
       "  </thead>\n",
       "  <tbody>\n",
       "    <tr>\n",
       "      <th>0</th>\n",
       "      <td>Acre</td>\n",
       "      <td>2019</td>\n",
       "      <td>1</td>\n",
       "      <td>Pneumáticos novos, de borracha, dos tipos utilizados em automóveis de passageiros (incluindo os veículos de uso misto (station wagons) e os automóveis de corrida)</td>\n",
       "      <td>118213</td>\n",
       "    </tr>\n",
       "    <tr>\n",
       "      <th>1</th>\n",
       "      <td>Acre</td>\n",
       "      <td>2019</td>\n",
       "      <td>10</td>\n",
       "      <td>Outros produtos imunológicos, apresentados em doses ou acondicionados para venda a retalho</td>\n",
       "      <td>43399</td>\n",
       "    </tr>\n",
       "    <tr>\n",
       "      <th>2</th>\n",
       "      <td>Acre</td>\n",
       "      <td>2019</td>\n",
       "      <td>11</td>\n",
       "      <td>Sulfatos de cromo</td>\n",
       "      <td>33436</td>\n",
       "    </tr>\n",
       "    <tr>\n",
       "      <th>3</th>\n",
       "      <td>Acre</td>\n",
       "      <td>2019</td>\n",
       "      <td>12</td>\n",
       "      <td>Outros policloretos de vinila, em formas primárias</td>\n",
       "      <td>49698</td>\n",
       "    </tr>\n",
       "    <tr>\n",
       "      <th>4</th>\n",
       "      <td>Acre</td>\n",
       "      <td>2019</td>\n",
       "      <td>2</td>\n",
       "      <td>Outros pneumáticos novos, de borracha, dos tipos utilizados em ônibus ou caminhões</td>\n",
       "      <td>50118</td>\n",
       "    </tr>\n",
       "    <tr>\n",
       "      <th>...</th>\n",
       "      <td>...</td>\n",
       "      <td>...</td>\n",
       "      <td>...</td>\n",
       "      <td>...</td>\n",
       "      <td>...</td>\n",
       "    </tr>\n",
       "    <tr>\n",
       "      <th>331</th>\n",
       "      <td>Zona Não Declarada</td>\n",
       "      <td>2019</td>\n",
       "      <td>5</td>\n",
       "      <td>Aviões e outros veículos aéreos, a turboélice, multimotores, de peso inferior ou igual a 7.000 kg, vazios</td>\n",
       "      <td>2068000</td>\n",
       "    </tr>\n",
       "    <tr>\n",
       "      <th>332</th>\n",
       "      <td>Zona Não Declarada</td>\n",
       "      <td>2019</td>\n",
       "      <td>6</td>\n",
       "      <td>Mudas de plantas ornamentais orquídeas</td>\n",
       "      <td>935915</td>\n",
       "    </tr>\n",
       "    <tr>\n",
       "      <th>333</th>\n",
       "      <td>Zona Não Declarada</td>\n",
       "      <td>2019</td>\n",
       "      <td>7</td>\n",
       "      <td>Aviões e outros veículos aéreos, 7 toneladas &lt; peso &lt;= 15 toneladas, vazios, a turboélice</td>\n",
       "      <td>3199882</td>\n",
       "    </tr>\n",
       "    <tr>\n",
       "      <th>334</th>\n",
       "      <td>Zona Não Declarada</td>\n",
       "      <td>2019</td>\n",
       "      <td>8</td>\n",
       "      <td>Aviões e outros veículos aéreos, 7 toneladas &lt; peso &lt;= 15 toneladas, vazios, a turboélice</td>\n",
       "      <td>4634397</td>\n",
       "    </tr>\n",
       "    <tr>\n",
       "      <th>335</th>\n",
       "      <td>Zona Não Declarada</td>\n",
       "      <td>2019</td>\n",
       "      <td>9</td>\n",
       "      <td>Aviões e outros veículos aéreos, 7 toneladas &lt; peso &lt;= 15 toneladas, vazios, a turboélice</td>\n",
       "      <td>3964705</td>\n",
       "    </tr>\n",
       "  </tbody>\n",
       "</table>\n",
       "<p>336 rows × 5 columns</p>\n",
       "</div>"
      ],
      "text/plain": [
       "                 estado   ano mês                                                                                                                                                             produto  max_total\n",
       "0                  Acre  2019   1  Pneumáticos novos, de borracha, dos tipos utilizados em automóveis de passageiros (incluindo os veículos de uso misto (station wagons) e os automóveis de corrida)     118213\n",
       "1                  Acre  2019  10                                                                          Outros produtos imunológicos, apresentados em doses ou acondicionados para venda a retalho      43399\n",
       "2                  Acre  2019  11                                                                                                                                                   Sulfatos de cromo      33436\n",
       "3                  Acre  2019  12                                                                                                                  Outros policloretos de vinila, em formas primárias      49698\n",
       "4                  Acre  2019   2                                                                                  Outros pneumáticos novos, de borracha, dos tipos utilizados em ônibus ou caminhões      50118\n",
       "..                  ...   ...  ..                                                                                                                                                                 ...        ...\n",
       "331  Zona Não Declarada  2019   5                                                           Aviões e outros veículos aéreos, a turboélice, multimotores, de peso inferior ou igual a 7.000 kg, vazios    2068000\n",
       "332  Zona Não Declarada  2019   6                                                                                                                              Mudas de plantas ornamentais orquídeas     935915\n",
       "333  Zona Não Declarada  2019   7                                                                           Aviões e outros veículos aéreos, 7 toneladas < peso <= 15 toneladas, vazios, a turboélice    3199882\n",
       "334  Zona Não Declarada  2019   8                                                                           Aviões e outros veículos aéreos, 7 toneladas < peso <= 15 toneladas, vazios, a turboélice    4634397\n",
       "335  Zona Não Declarada  2019   9                                                                           Aviões e outros veículos aéreos, 7 toneladas < peso <= 15 toneladas, vazios, a turboélice    3964705\n",
       "\n",
       "[336 rows x 5 columns]"
      ]
     },
     "metadata": {},
     "output_type": "display_data"
    },
    {
     "name": "stdout",
     "output_type": "stream",
     "text": [
      "5.32 s ± 0 ns per loop (mean ± std. dev. of 1 run, 1 loop each)\n"
     ]
    }
   ],
   "source": [
    "%%timeit -n1 -r1\n",
    "year = 2019\n",
    "query = f'''\n",
    "WITH group_totals (estado, ano, mês, produto, total) AS\n",
    "  (SELECT SG_UF_NCM estado,\n",
    "          strftime(\"%Y\", k.DATA) ano,\n",
    "          ltrim(strftime(\"%m\", k.DATA), \"0\") mês,\n",
    "          k.CO_NCM produto,\n",
    "          SUM(VL_FOB) total\n",
    "   FROM {kind} k\n",
    "   JOIN ncm n ON k.CO_NCM=n.CO_NCM\n",
    "   JOIN uf u ON SG_UF_NCM=u.SG_UF\n",
    "   WHERE ano = \"{year}\"\n",
    "   GROUP BY mês,\n",
    "            estado,\n",
    "            produto)\n",
    "SELECT u.NO_UF estado,\n",
    "       ano,\n",
    "       mês,\n",
    "       n.NO_NCM_POR produto,\n",
    "       MAX(total) max_total\n",
    "FROM group_totals\n",
    "JOIN ncm n ON produto=n.CO_NCM\n",
    "JOIN uf u ON estado=u.SG_UF\n",
    "GROUP BY estado,\n",
    "         mês\n",
    "ORDER BY estado,\n",
    "         mês\n",
    "'''\n",
    "display(pd.read_sql(query, conn))"
   ]
  },
  {
   "cell_type": "markdown",
   "metadata": {},
   "source": [
    "## Posição de cada produto no ranking de valor transacionado por estado, por ano"
   ]
  },
  {
   "cell_type": "code",
   "execution_count": 29,
   "metadata": {},
   "outputs": [
    {
     "data": {
      "text/html": [
       "<div>\n",
       "<style scoped>\n",
       "    .dataframe tbody tr th:only-of-type {\n",
       "        vertical-align: middle;\n",
       "    }\n",
       "\n",
       "    .dataframe tbody tr th {\n",
       "        vertical-align: top;\n",
       "    }\n",
       "\n",
       "    .dataframe thead th {\n",
       "        text-align: right;\n",
       "    }\n",
       "</style>\n",
       "<table border=\"1\" class=\"dataframe\">\n",
       "  <thead>\n",
       "    <tr style=\"text-align: right;\">\n",
       "      <th></th>\n",
       "      <th>estado</th>\n",
       "      <th>ano</th>\n",
       "      <th>produto</th>\n",
       "      <th>total</th>\n",
       "      <th>POSITION</th>\n",
       "    </tr>\n",
       "  </thead>\n",
       "  <tbody>\n",
       "    <tr>\n",
       "      <th>0</th>\n",
       "      <td>AC</td>\n",
       "      <td>2017</td>\n",
       "      <td>7032090</td>\n",
       "      <td>393150</td>\n",
       "      <td>1</td>\n",
       "    </tr>\n",
       "    <tr>\n",
       "      <th>1</th>\n",
       "      <td>AC</td>\n",
       "      <td>2017</td>\n",
       "      <td>39041090</td>\n",
       "      <td>293144</td>\n",
       "      <td>2</td>\n",
       "    </tr>\n",
       "    <tr>\n",
       "      <th>2</th>\n",
       "      <td>AC</td>\n",
       "      <td>2017</td>\n",
       "      <td>8012200</td>\n",
       "      <td>235580</td>\n",
       "      <td>3</td>\n",
       "    </tr>\n",
       "    <tr>\n",
       "      <th>3</th>\n",
       "      <td>AC</td>\n",
       "      <td>2017</td>\n",
       "      <td>28332960</td>\n",
       "      <td>168608</td>\n",
       "      <td>4</td>\n",
       "    </tr>\n",
       "    <tr>\n",
       "      <th>4</th>\n",
       "      <td>AC</td>\n",
       "      <td>2017</td>\n",
       "      <td>84385000</td>\n",
       "      <td>123502</td>\n",
       "      <td>5</td>\n",
       "    </tr>\n",
       "    <tr>\n",
       "      <th>...</th>\n",
       "      <td>...</td>\n",
       "      <td>...</td>\n",
       "      <td>...</td>\n",
       "      <td>...</td>\n",
       "      <td>...</td>\n",
       "    </tr>\n",
       "    <tr>\n",
       "      <th>202291</th>\n",
       "      <td>ZN</td>\n",
       "      <td>2019</td>\n",
       "      <td>85366100</td>\n",
       "      <td>3</td>\n",
       "      <td>784</td>\n",
       "    </tr>\n",
       "    <tr>\n",
       "      <th>202292</th>\n",
       "      <td>ZN</td>\n",
       "      <td>2019</td>\n",
       "      <td>84603900</td>\n",
       "      <td>2</td>\n",
       "      <td>785</td>\n",
       "    </tr>\n",
       "    <tr>\n",
       "      <th>202293</th>\n",
       "      <td>ZN</td>\n",
       "      <td>2019</td>\n",
       "      <td>85182990</td>\n",
       "      <td>2</td>\n",
       "      <td>786</td>\n",
       "    </tr>\n",
       "    <tr>\n",
       "      <th>202294</th>\n",
       "      <td>ZN</td>\n",
       "      <td>2019</td>\n",
       "      <td>96138000</td>\n",
       "      <td>2</td>\n",
       "      <td>787</td>\n",
       "    </tr>\n",
       "    <tr>\n",
       "      <th>202295</th>\n",
       "      <td>ZN</td>\n",
       "      <td>2019</td>\n",
       "      <td>85392910</td>\n",
       "      <td>0</td>\n",
       "      <td>788</td>\n",
       "    </tr>\n",
       "  </tbody>\n",
       "</table>\n",
       "<p>202296 rows × 5 columns</p>\n",
       "</div>"
      ],
      "text/plain": [
       "       estado   ano   produto   total  POSITION\n",
       "0          AC  2017   7032090  393150         1\n",
       "1          AC  2017  39041090  293144         2\n",
       "2          AC  2017   8012200  235580         3\n",
       "3          AC  2017  28332960  168608         4\n",
       "4          AC  2017  84385000  123502         5\n",
       "...       ...   ...       ...     ...       ...\n",
       "202291     ZN  2019  85366100       3       784\n",
       "202292     ZN  2019  84603900       2       785\n",
       "202293     ZN  2019  85182990       2       786\n",
       "202294     ZN  2019  96138000       2       787\n",
       "202295     ZN  2019  85392910       0       788\n",
       "\n",
       "[202296 rows x 5 columns]"
      ]
     },
     "metadata": {},
     "output_type": "display_data"
    },
    {
     "name": "stdout",
     "output_type": "stream",
     "text": [
      "8.04 s ± 0 ns per loop (mean ± std. dev. of 1 run, 1 loop each)\n"
     ]
    }
   ],
   "source": [
    "%%timeit -n1 -r1\n",
    "query = f'''\n",
    "SELECT estado,\n",
    "       ano,\n",
    "       produto,\n",
    "       total,\n",
    "       ROW_NUMBER() OVER(PARTITION BY estado, ano\n",
    "                         ORDER BY total DESC) AS POSITION\n",
    "FROM\n",
    "  (SELECT SG_UF_NCM estado,\n",
    "          strftime(\"%Y\", k.DATA) ano,\n",
    "          k.CO_NCM produto,\n",
    "          SUM(VL_FOB) total\n",
    "   FROM {kind} k\n",
    "   GROUP BY ano,\n",
    "            estado,\n",
    "            produto)\n",
    "'''\n",
    "display(pd.read_sql(query, conn))"
   ]
  },
  {
   "cell_type": "markdown",
   "metadata": {},
   "source": [
    " ## Top 3 produtos com maior valor transacionado por estado nos anos de 2017, 2018 e 2019"
   ]
  },
  {
   "cell_type": "code",
   "execution_count": 30,
   "metadata": {},
   "outputs": [
    {
     "data": {
      "text/html": [
       "<div>\n",
       "<style scoped>\n",
       "    .dataframe tbody tr th:only-of-type {\n",
       "        vertical-align: middle;\n",
       "    }\n",
       "\n",
       "    .dataframe tbody tr th {\n",
       "        vertical-align: top;\n",
       "    }\n",
       "\n",
       "    .dataframe thead th {\n",
       "        text-align: right;\n",
       "    }\n",
       "</style>\n",
       "<table border=\"1\" class=\"dataframe\">\n",
       "  <thead>\n",
       "    <tr style=\"text-align: right;\">\n",
       "      <th></th>\n",
       "      <th>estado</th>\n",
       "      <th>ano</th>\n",
       "      <th>produto</th>\n",
       "      <th>total</th>\n",
       "    </tr>\n",
       "  </thead>\n",
       "  <tbody>\n",
       "    <tr>\n",
       "      <th>0</th>\n",
       "      <td>Acre</td>\n",
       "      <td>2017</td>\n",
       "      <td>Alhos, frescos ou refrigerados, exceto para semeadura</td>\n",
       "      <td>393150</td>\n",
       "    </tr>\n",
       "    <tr>\n",
       "      <th>1</th>\n",
       "      <td>Acre</td>\n",
       "      <td>2017</td>\n",
       "      <td>Outros policloretos de vinila, em formas primárias</td>\n",
       "      <td>293144</td>\n",
       "    </tr>\n",
       "    <tr>\n",
       "      <th>2</th>\n",
       "      <td>Acre</td>\n",
       "      <td>2017</td>\n",
       "      <td>Castanha-do-pará, fresca ou seca, sem casca</td>\n",
       "      <td>235580</td>\n",
       "    </tr>\n",
       "    <tr>\n",
       "      <th>3</th>\n",
       "      <td>Acre</td>\n",
       "      <td>2018</td>\n",
       "      <td>Revestimentos para pisos (pavimentos) e capachos, de borracha vulcanizada não endurecida</td>\n",
       "      <td>1031956</td>\n",
       "    </tr>\n",
       "    <tr>\n",
       "      <th>4</th>\n",
       "      <td>Acre</td>\n",
       "      <td>2018</td>\n",
       "      <td>Outros adesivos à base de plásticos</td>\n",
       "      <td>328032</td>\n",
       "    </tr>\n",
       "    <tr>\n",
       "      <th>...</th>\n",
       "      <td>...</td>\n",
       "      <td>...</td>\n",
       "      <td>...</td>\n",
       "      <td>...</td>\n",
       "    </tr>\n",
       "    <tr>\n",
       "      <th>247</th>\n",
       "      <td>Zona Não Declarada</td>\n",
       "      <td>2018</td>\n",
       "      <td>Mudas de plantas ornamentais orquídeas</td>\n",
       "      <td>12126258</td>\n",
       "    </tr>\n",
       "    <tr>\n",
       "      <th>248</th>\n",
       "      <td>Zona Não Declarada</td>\n",
       "      <td>2018</td>\n",
       "      <td>Outros medicamentos com compostos heterocíclicos, etc, em doses</td>\n",
       "      <td>10728822</td>\n",
       "    </tr>\n",
       "    <tr>\n",
       "      <th>249</th>\n",
       "      <td>Zona Não Declarada</td>\n",
       "      <td>2019</td>\n",
       "      <td>Aviões e outros veículos aéreos, 7 toneladas &lt; peso &lt;= 15 toneladas, vazios, a turboélice</td>\n",
       "      <td>31682883</td>\n",
       "    </tr>\n",
       "    <tr>\n",
       "      <th>250</th>\n",
       "      <td>Zona Não Declarada</td>\n",
       "      <td>2019</td>\n",
       "      <td>Mudas de plantas ornamentais orquídeas</td>\n",
       "      <td>11840675</td>\n",
       "    </tr>\n",
       "    <tr>\n",
       "      <th>251</th>\n",
       "      <td>Zona Não Declarada</td>\n",
       "      <td>2019</td>\n",
       "      <td>Aviões e outros veículos aéreos, a turboélice, multimotores, de peso inferior ou igual a 7.000 kg, vazios</td>\n",
       "      <td>7646969</td>\n",
       "    </tr>\n",
       "  </tbody>\n",
       "</table>\n",
       "<p>252 rows × 4 columns</p>\n",
       "</div>"
      ],
      "text/plain": [
       "                 estado   ano                                                                                                    produto     total\n",
       "0                  Acre  2017                                                      Alhos, frescos ou refrigerados, exceto para semeadura    393150\n",
       "1                  Acre  2017                                                         Outros policloretos de vinila, em formas primárias    293144\n",
       "2                  Acre  2017                                                                Castanha-do-pará, fresca ou seca, sem casca    235580\n",
       "3                  Acre  2018                   Revestimentos para pisos (pavimentos) e capachos, de borracha vulcanizada não endurecida   1031956\n",
       "4                  Acre  2018                                                                        Outros adesivos à base de plásticos    328032\n",
       "..                  ...   ...                                                                                                        ...       ...\n",
       "247  Zona Não Declarada  2018                                                                     Mudas de plantas ornamentais orquídeas  12126258\n",
       "248  Zona Não Declarada  2018                                            Outros medicamentos com compostos heterocíclicos, etc, em doses  10728822\n",
       "249  Zona Não Declarada  2019                  Aviões e outros veículos aéreos, 7 toneladas < peso <= 15 toneladas, vazios, a turboélice  31682883\n",
       "250  Zona Não Declarada  2019                                                                     Mudas de plantas ornamentais orquídeas  11840675\n",
       "251  Zona Não Declarada  2019  Aviões e outros veículos aéreos, a turboélice, multimotores, de peso inferior ou igual a 7.000 kg, vazios   7646969\n",
       "\n",
       "[252 rows x 4 columns]"
      ]
     },
     "metadata": {},
     "output_type": "display_data"
    },
    {
     "name": "stdout",
     "output_type": "stream",
     "text": [
      "7.73 s ± 0 ns per loop (mean ± std. dev. of 1 run, 1 loop each)\n"
     ]
    }
   ],
   "source": [
    "%%timeit -n1 -r1\n",
    "# Inspired by https://stackoverflow.com/a/3800572\n",
    "# See https://www.sqlite.org/windowfunctions.html\n",
    "query = f'''\n",
    "WITH totals AS\n",
    "  (SELECT estado,\n",
    "          ano,\n",
    "          produto,\n",
    "          total,\n",
    "          ROW_NUMBER() OVER(PARTITION BY estado, ano\n",
    "                            ORDER BY total DESC) AS POSITION\n",
    "   FROM\n",
    "     (SELECT SG_UF_NCM estado,\n",
    "             strftime(\"%Y\", k.DATA) ano,\n",
    "             k.CO_NCM produto,\n",
    "             SUM(VL_FOB) total\n",
    "      FROM {kind} k\n",
    "      GROUP BY ano,\n",
    "               estado,\n",
    "               produto))\n",
    "SELECT u.NO_UF estado,\n",
    "       t.ano,\n",
    "       n.NO_NCM_POR produto,\n",
    "       t.total\n",
    "FROM totals t\n",
    "JOIN ncm n ON produto=n.CO_NCM\n",
    "JOIN uf u ON estado=u.SG_UF\n",
    "WHERE t.position <= 3\n",
    "ORDER BY estado, ano, total DESC\n",
    "'''\n",
    "display(pd.read_sql(query, conn))"
   ]
  },
  {
   "cell_type": "markdown",
   "metadata": {},
   "source": [
    "## Top 3 produtos com maior valor transacionado em 2019, por mês, por estado"
   ]
  },
  {
   "cell_type": "code",
   "execution_count": 31,
   "metadata": {},
   "outputs": [
    {
     "data": {
      "text/html": [
       "<div>\n",
       "<style scoped>\n",
       "    .dataframe tbody tr th:only-of-type {\n",
       "        vertical-align: middle;\n",
       "    }\n",
       "\n",
       "    .dataframe tbody tr th {\n",
       "        vertical-align: top;\n",
       "    }\n",
       "\n",
       "    .dataframe thead th {\n",
       "        text-align: right;\n",
       "    }\n",
       "</style>\n",
       "<table border=\"1\" class=\"dataframe\">\n",
       "  <thead>\n",
       "    <tr style=\"text-align: right;\">\n",
       "      <th></th>\n",
       "      <th>estado</th>\n",
       "      <th>ano</th>\n",
       "      <th>mês</th>\n",
       "      <th>produto</th>\n",
       "      <th>total</th>\n",
       "    </tr>\n",
       "  </thead>\n",
       "  <tbody>\n",
       "    <tr>\n",
       "      <th>0</th>\n",
       "      <td>Acre</td>\n",
       "      <td>2019</td>\n",
       "      <td>1</td>\n",
       "      <td>Pneumáticos novos, de borracha, dos tipos utilizados em automóveis de passageiros (incluindo os veículos de uso misto (station wagons) e os automóveis de corrida)</td>\n",
       "      <td>118213</td>\n",
       "    </tr>\n",
       "    <tr>\n",
       "      <th>1</th>\n",
       "      <td>Acre</td>\n",
       "      <td>2019</td>\n",
       "      <td>1</td>\n",
       "      <td>Outros aparelhos elevadores ou transportadores, de ação contínua, para mercadorias</td>\n",
       "      <td>85945</td>\n",
       "    </tr>\n",
       "    <tr>\n",
       "      <th>2</th>\n",
       "      <td>Acre</td>\n",
       "      <td>2019</td>\n",
       "      <td>1</td>\n",
       "      <td>Outros policloretos de vinila, em formas primárias</td>\n",
       "      <td>47423</td>\n",
       "    </tr>\n",
       "    <tr>\n",
       "      <th>3</th>\n",
       "      <td>Acre</td>\n",
       "      <td>2019</td>\n",
       "      <td>10</td>\n",
       "      <td>Outros produtos imunológicos, apresentados em doses ou acondicionados para venda a retalho</td>\n",
       "      <td>43399</td>\n",
       "    </tr>\n",
       "    <tr>\n",
       "      <th>4</th>\n",
       "      <td>Acre</td>\n",
       "      <td>2019</td>\n",
       "      <td>10</td>\n",
       "      <td>Outros policloretos de vinila, em formas primárias</td>\n",
       "      <td>25750</td>\n",
       "    </tr>\n",
       "    <tr>\n",
       "      <th>...</th>\n",
       "      <td>...</td>\n",
       "      <td>...</td>\n",
       "      <td>...</td>\n",
       "      <td>...</td>\n",
       "      <td>...</td>\n",
       "    </tr>\n",
       "    <tr>\n",
       "      <th>1003</th>\n",
       "      <td>Zona Não Declarada</td>\n",
       "      <td>2019</td>\n",
       "      <td>8</td>\n",
       "      <td>Produções originais de arte estatuária ou de escultura, de quaisquer matérias</td>\n",
       "      <td>1503620</td>\n",
       "    </tr>\n",
       "    <tr>\n",
       "      <th>1004</th>\n",
       "      <td>Zona Não Declarada</td>\n",
       "      <td>2019</td>\n",
       "      <td>8</td>\n",
       "      <td>Outras colheitadeiras de algodão</td>\n",
       "      <td>1291653</td>\n",
       "    </tr>\n",
       "    <tr>\n",
       "      <th>1005</th>\n",
       "      <td>Zona Não Declarada</td>\n",
       "      <td>2019</td>\n",
       "      <td>9</td>\n",
       "      <td>Aviões e outros veículos aéreos, 7 toneladas &lt; peso &lt;= 15 toneladas, vazios, a turboélice</td>\n",
       "      <td>3964705</td>\n",
       "    </tr>\n",
       "    <tr>\n",
       "      <th>1006</th>\n",
       "      <td>Zona Não Declarada</td>\n",
       "      <td>2019</td>\n",
       "      <td>9</td>\n",
       "      <td>Mudas de plantas ornamentais orquídeas</td>\n",
       "      <td>746433</td>\n",
       "    </tr>\n",
       "    <tr>\n",
       "      <th>1007</th>\n",
       "      <td>Zona Não Declarada</td>\n",
       "      <td>2019</td>\n",
       "      <td>9</td>\n",
       "      <td>Outros produtos imunológicos, apresentados em doses ou acondicionados para venda a retalho</td>\n",
       "      <td>533731</td>\n",
       "    </tr>\n",
       "  </tbody>\n",
       "</table>\n",
       "<p>1008 rows × 5 columns</p>\n",
       "</div>"
      ],
      "text/plain": [
       "                  estado   ano mês                                                                                                                                                             produto    total\n",
       "0                   Acre  2019   1  Pneumáticos novos, de borracha, dos tipos utilizados em automóveis de passageiros (incluindo os veículos de uso misto (station wagons) e os automóveis de corrida)   118213\n",
       "1                   Acre  2019   1                                                                                  Outros aparelhos elevadores ou transportadores, de ação contínua, para mercadorias    85945\n",
       "2                   Acre  2019   1                                                                                                                  Outros policloretos de vinila, em formas primárias    47423\n",
       "3                   Acre  2019  10                                                                          Outros produtos imunológicos, apresentados em doses ou acondicionados para venda a retalho    43399\n",
       "4                   Acre  2019  10                                                                                                                  Outros policloretos de vinila, em formas primárias    25750\n",
       "...                  ...   ...  ..                                                                                                                                                                 ...      ...\n",
       "1003  Zona Não Declarada  2019   8                                                                                       Produções originais de arte estatuária ou de escultura, de quaisquer matérias  1503620\n",
       "1004  Zona Não Declarada  2019   8                                                                                                                                    Outras colheitadeiras de algodão  1291653\n",
       "1005  Zona Não Declarada  2019   9                                                                           Aviões e outros veículos aéreos, 7 toneladas < peso <= 15 toneladas, vazios, a turboélice  3964705\n",
       "1006  Zona Não Declarada  2019   9                                                                                                                              Mudas de plantas ornamentais orquídeas   746433\n",
       "1007  Zona Não Declarada  2019   9                                                                          Outros produtos imunológicos, apresentados em doses ou acondicionados para venda a retalho   533731\n",
       "\n",
       "[1008 rows x 5 columns]"
      ]
     },
     "metadata": {},
     "output_type": "display_data"
    },
    {
     "name": "stdout",
     "output_type": "stream",
     "text": [
      "4.81 s ± 0 ns per loop (mean ± std. dev. of 1 run, 1 loop each)\n"
     ]
    }
   ],
   "source": [
    "%%timeit -n1 -r1\n",
    "year = 2019\n",
    "query = f'''\n",
    "WITH totals AS\n",
    "  (SELECT estado,\n",
    "          ano,\n",
    "          mês,\n",
    "          produto,\n",
    "          total,\n",
    "          ROW_NUMBER() OVER(PARTITION BY estado, mês\n",
    "                            ORDER BY total DESC) AS POSITION\n",
    "   FROM\n",
    "     (SELECT SG_UF_NCM estado,\n",
    "             strftime(\"%Y\", k.DATA) ano,\n",
    "             ltrim(strftime(\"%m\", k.DATA), \"0\") mês,\n",
    "             k.CO_NCM produto,\n",
    "             SUM(VL_FOB) total\n",
    "      FROM {kind} k\n",
    "      WHERE ano = \"{year}\"\n",
    "      GROUP BY mês,\n",
    "               estado,\n",
    "               produto))\n",
    "SELECT u.NO_UF estado,\n",
    "       t.ano,\n",
    "       t.mês,\n",
    "       n.NO_NCM_POR produto,\n",
    "       t.total\n",
    "FROM totals t\n",
    "JOIN ncm n ON produto=n.CO_NCM\n",
    "JOIN uf u ON estado=u.SG_UF\n",
    "WHERE t.position <= 3\n",
    "ORDER BY estado, mês, total DESC\n",
    "'''\n",
    "display(pd.read_sql(query, conn))"
   ]
  }
 ],
 "metadata": {
  "kernelspec": {
   "display_name": "Python 3",
   "language": "python",
   "name": "python3"
  },
  "language_info": {
   "codemirror_mode": {
    "name": "ipython",
    "version": 3
   },
   "file_extension": ".py",
   "mimetype": "text/x-python",
   "name": "python",
   "nbconvert_exporter": "python",
   "pygments_lexer": "ipython3",
   "version": "3.7.8"
  }
 },
 "nbformat": 4,
 "nbformat_minor": 4
}
