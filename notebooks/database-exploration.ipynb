{
 "cells": [
  {
   "cell_type": "markdown",
   "metadata": {},
   "source": [
    "# Análise dos dados\n",
    "## Instalação de alguns pacotes"
   ]
  },
  {
   "cell_type": "code",
   "execution_count": 1,
   "metadata": {},
   "outputs": [],
   "source": [
    "import pandas as pd\n",
    "import sys\n",
    "from glob import glob\n",
    "from IPython.core.display import HTML\n",
    "from sqlalchemy import create_engine"
   ]
  },
  {
   "cell_type": "markdown",
   "metadata": {},
   "source": [
    "## Definição de algumas configurações"
   ]
  },
  {
   "cell_type": "code",
   "execution_count": 2,
   "metadata": {},
   "outputs": [
    {
     "data": {
      "text/html": [
       "<style>.container { width:100% !important; } div.prompt {min-width: 10ex;} .rendered_html table { font-size: 11px; }</style>"
      ],
      "text/plain": [
       "<IPython.core.display.HTML object>"
      ]
     },
     "metadata": {},
     "output_type": "display_data"
    }
   ],
   "source": [
    "pd.set_option('display.width', 1000)\n",
    "pd.set_option('display.max_columns', None)\n",
    "pd.set_option('display.max_colwidth', 300)\n",
    "display(HTML(\"<style>.container { width:100% !important; } div.prompt {min-width: 10ex;} .rendered_html table { font-size: 11px; }</style>\"))"
   ]
  },
  {
   "cell_type": "markdown",
   "metadata": {},
   "source": [
    "## Definição de algumas variáveis"
   ]
  },
  {
   "cell_type": "code",
   "execution_count": 3,
   "metadata": {},
   "outputs": [],
   "source": [
    "path = '../data'\n",
    "files = {'import': path + '/IMP_*.csv',\n",
    "         'export': path + '/EXP_*.csv'}\n",
    "ncm_file = path + '/NCM.csv'\n",
    "uf_file = path + '/UF.csv'\n",
    "db_file = path + '/trades.db'\n",
    "kind = 'import'"
   ]
  },
  {
   "cell_type": "markdown",
   "metadata": {},
   "source": [
    "## Inspeção dos dados brutos"
   ]
  },
  {
   "cell_type": "markdown",
   "metadata": {},
   "source": [
    "Estas são as primeiras linhas do primeiro arquivo CSV do tipo (`kind`) de transação de mercadorias escolhido (`import` ou `export`):"
   ]
  },
  {
   "cell_type": "code",
   "execution_count": 4,
   "metadata": {},
   "outputs": [
    {
     "name": "stdout",
     "output_type": "stream",
     "text": [
      "==> ../data/IMP_2017.csv <==\n",
      "\"CO_ANO\";\"CO_MES\";\"CO_NCM\";\"CO_UNID\";\"CO_PAIS\";\"SG_UF_NCM\";\"CO_VIA\";\"CO_URF\";\"QT_ESTAT\";\"KG_LIQUIDO\";\"VL_FOB\"\n",
      "\"2017\";\"01\";\"54024400\";\"10\";\"399\";\"SP\";\"01\";\"0817800\";4770;4770;47344\n",
      "\"2017\";\"01\";\"84834090\";\"11\";\"386\";\"SP\";\"01\";\"0817800\";13055;48308;468136\n",
      "\"2017\";\"01\";\"84719014\";\"11\";\"399\";\"SP\";\"04\";\"0817700\";3;6;146\n",
      "\n",
      "==> ../data/IMP_2018.csv <==\n",
      "\"CO_ANO\";\"CO_MES\";\"CO_NCM\";\"CO_UNID\";\"CO_PAIS\";\"SG_UF_NCM\";\"CO_VIA\";\"CO_URF\";\"QT_ESTAT\";\"KG_LIQUIDO\";\"VL_FOB\"\n",
      "\"2018\";\"01\";\"85423190\";\"11\";\"160\";\"RS\";\"04\";\"0817700\";139;1;261\n",
      "\"2018\";\"01\";\"85334011\";\"11\";\"399\";\"RS\";\"04\";\"1017801\";1000;0;230\n",
      "\"2018\";\"02\";\"85049090\";\"10\";\"160\";\"PR\";\"04\";\"0917900\";44;44;30066\n",
      "\n",
      "==> ../data/IMP_2019.csv <==\n",
      "\"CO_ANO\";\"CO_MES\";\"CO_NCM\";\"CO_UNID\";\"CO_PAIS\";\"SG_UF_NCM\";\"CO_VIA\";\"CO_URF\";\"QT_ESTAT\";\"KG_LIQUIDO\";\"VL_FOB\"\n",
      "\"2019\";\"12\";\"85044021\";\"11\";\"249\";\"SP\";\"04\";\"0817700\";53;44;8263\n",
      "\"2019\";\"12\";\"85183000\";\"11\";\"160\";\"GO\";\"04\";\"0817600\";23734;1621;6987\n",
      "\"2019\";\"12\";\"39263000\";\"10\";\"023\";\"SP\";\"01\";\"0817800\";3951;3951;88311\n",
      "115 ms ± 0 ns per loop (mean ± std. dev. of 1 run, 1 loop each)\n"
     ]
    }
   ],
   "source": [
    "%%timeit -n1 -r1\n",
    "!head -n 4 {files[kind]}"
   ]
  },
  {
   "cell_type": "markdown",
   "metadata": {},
   "source": [
    "## Criação de bancos de dados"
   ]
  },
  {
   "cell_type": "code",
   "execution_count": 5,
   "metadata": {},
   "outputs": [],
   "source": [
    "# Disabled timing due to NameError. See https://github.com/ipython/ipython/issues/11659/\n",
    "# %%timeit -n1 -r1\n",
    "eng = create_engine(f'sqlite:///{db_file}')\n",
    "conn = eng.connect()\n",
    "chunk_size=500000"
   ]
  },
  {
   "cell_type": "code",
   "execution_count": 6,
   "metadata": {},
   "outputs": [],
   "source": [
    "# %%timeit -n1 -r1\n",
    "# for kind_of_trade, pattern in files.items():\n",
    "#     for name in glob(pattern):\n",
    "#         print(name)\n",
    "#         for chunk in pd.read_csv(name, delimiter=';', chunksize=chunk_size):\n",
    "#             chunk.to_sql(kind_of_trade, eng, if_exists='append')"
   ]
  },
  {
   "cell_type": "code",
   "execution_count": 7,
   "metadata": {},
   "outputs": [],
   "source": [
    "# %%timeit -n1 -r1\n",
    "# for chunk in pd.read_csv(ncm_file, delimiter=';', chunksize=chunk_size, encoding = 'ISO-8859-1'):\n",
    "#     chunk.to_sql('ncm', eng, if_exists='append')"
   ]
  },
  {
   "cell_type": "code",
   "execution_count": 8,
   "metadata": {},
   "outputs": [],
   "source": [
    "# %%timeit -n1 -r1\n",
    "# for chunk in pd.read_csv(uf_file, delimiter=';', chunksize=chunk_size, encoding = 'ISO-8859-1'):\n",
    "#     chunk.to_sql('uf', eng, if_exists='append')"
   ]
  },
  {
   "cell_type": "markdown",
   "metadata": {},
   "source": [
    "## Tabelas disponíveis no banco da dados"
   ]
  },
  {
   "cell_type": "code",
   "execution_count": 9,
   "metadata": {},
   "outputs": [
    {
     "data": {
      "text/html": [
       "<div>\n",
       "<style scoped>\n",
       "    .dataframe tbody tr th:only-of-type {\n",
       "        vertical-align: middle;\n",
       "    }\n",
       "\n",
       "    .dataframe tbody tr th {\n",
       "        vertical-align: top;\n",
       "    }\n",
       "\n",
       "    .dataframe thead th {\n",
       "        text-align: right;\n",
       "    }\n",
       "</style>\n",
       "<table border=\"1\" class=\"dataframe\">\n",
       "  <thead>\n",
       "    <tr style=\"text-align: right;\">\n",
       "      <th></th>\n",
       "      <th>type</th>\n",
       "      <th>tbl_name</th>\n",
       "      <th>rootpage</th>\n",
       "      <th>sql</th>\n",
       "    </tr>\n",
       "    <tr>\n",
       "      <th>name</th>\n",
       "      <th></th>\n",
       "      <th></th>\n",
       "      <th></th>\n",
       "      <th></th>\n",
       "    </tr>\n",
       "  </thead>\n",
       "  <tbody>\n",
       "    <tr>\n",
       "      <th>import</th>\n",
       "      <td>table</td>\n",
       "      <td>import</td>\n",
       "      <td>2</td>\n",
       "      <td>CREATE TABLE import (\\n\\t\"index\" BIGINT, \\n\\t\"CO_ANO\" BIGINT, \\n\\t\"CO_MES\" BIGINT, \\n\\t\"CO_NCM\" BIGINT, \\n\\t\"CO_UNID\" BIGINT, \\n\\t\"CO_PAIS\" BIGINT, \\n\\t\"SG_UF_NCM\" TEXT, \\n\\t\"CO_VIA\" BIGINT, \\n\\t\"CO_URF\" BIGINT, \\n\\t\"QT_ESTAT\" BIGINT, \\n\\t\"KG_LIQUIDO\" BIGINT, \\n\\t\"VL_FOB\" BIGINT\\n)</td>\n",
       "    </tr>\n",
       "    <tr>\n",
       "      <th>export</th>\n",
       "      <td>table</td>\n",
       "      <td>export</td>\n",
       "      <td>77444</td>\n",
       "      <td>CREATE TABLE export (\\n\\t\"index\" BIGINT, \\n\\t\"CO_ANO\" BIGINT, \\n\\t\"CO_MES\" BIGINT, \\n\\t\"CO_NCM\" BIGINT, \\n\\t\"CO_UNID\" BIGINT, \\n\\t\"CO_PAIS\" BIGINT, \\n\\t\"SG_UF_NCM\" TEXT, \\n\\t\"CO_VIA\" BIGINT, \\n\\t\"CO_URF\" BIGINT, \\n\\t\"QT_ESTAT\" BIGINT, \\n\\t\"KG_LIQUIDO\" BIGINT, \\n\\t\"VL_FOB\" BIGINT\\n)</td>\n",
       "    </tr>\n",
       "    <tr>\n",
       "      <th>ncm</th>\n",
       "      <td>table</td>\n",
       "      <td>ncm</td>\n",
       "      <td>128139</td>\n",
       "      <td>CREATE TABLE ncm (\\n\\t\"index\" BIGINT, \\n\\t\"CO_NCM\" BIGINT, \\n\\t\"CO_UNID\" BIGINT, \\n\\t\"CO_SH6\" BIGINT, \\n\\t\"CO_PPE\" BIGINT, \\n\\t\"CO_PPI\" BIGINT, \\n\\t\"CO_FAT_AGREG\" BIGINT, \\n\\t\"CO_CUCI_ITEM\" TEXT, \\n\\t\"CO_CGCE_N3\" BIGINT, \\n\\t\"CO_SIIT\" BIGINT, \\n\\t\"CO_ISIC_CLASSE\" BIGINT, \\n\\t\"CO_EXP_SUBSET\" FLOA...</td>\n",
       "    </tr>\n",
       "    <tr>\n",
       "      <th>uf</th>\n",
       "      <td>table</td>\n",
       "      <td>uf</td>\n",
       "      <td>128849</td>\n",
       "      <td>CREATE TABLE uf (\\n\\t\"index\" BIGINT, \\n\\t\"CO_UF\" BIGINT, \\n\\t\"SG_UF\" TEXT, \\n\\t\"NO_UF\" TEXT, \\n\\t\"NO_REGIAO\" TEXT\\n)</td>\n",
       "    </tr>\n",
       "  </tbody>\n",
       "</table>\n",
       "</div>"
      ],
      "text/plain": [
       "         type tbl_name  rootpage                                                                                                                                                                                                                                                                                                          sql\n",
       "name                                                                                                                                                                                                                                                                                                                                         \n",
       "import  table   import         2                   CREATE TABLE import (\\n\\t\"index\" BIGINT, \\n\\t\"CO_ANO\" BIGINT, \\n\\t\"CO_MES\" BIGINT, \\n\\t\"CO_NCM\" BIGINT, \\n\\t\"CO_UNID\" BIGINT, \\n\\t\"CO_PAIS\" BIGINT, \\n\\t\"SG_UF_NCM\" TEXT, \\n\\t\"CO_VIA\" BIGINT, \\n\\t\"CO_URF\" BIGINT, \\n\\t\"QT_ESTAT\" BIGINT, \\n\\t\"KG_LIQUIDO\" BIGINT, \\n\\t\"VL_FOB\" BIGINT\\n)\n",
       "export  table   export     77444                   CREATE TABLE export (\\n\\t\"index\" BIGINT, \\n\\t\"CO_ANO\" BIGINT, \\n\\t\"CO_MES\" BIGINT, \\n\\t\"CO_NCM\" BIGINT, \\n\\t\"CO_UNID\" BIGINT, \\n\\t\"CO_PAIS\" BIGINT, \\n\\t\"SG_UF_NCM\" TEXT, \\n\\t\"CO_VIA\" BIGINT, \\n\\t\"CO_URF\" BIGINT, \\n\\t\"QT_ESTAT\" BIGINT, \\n\\t\"KG_LIQUIDO\" BIGINT, \\n\\t\"VL_FOB\" BIGINT\\n)\n",
       "ncm     table      ncm    128139  CREATE TABLE ncm (\\n\\t\"index\" BIGINT, \\n\\t\"CO_NCM\" BIGINT, \\n\\t\"CO_UNID\" BIGINT, \\n\\t\"CO_SH6\" BIGINT, \\n\\t\"CO_PPE\" BIGINT, \\n\\t\"CO_PPI\" BIGINT, \\n\\t\"CO_FAT_AGREG\" BIGINT, \\n\\t\"CO_CUCI_ITEM\" TEXT, \\n\\t\"CO_CGCE_N3\" BIGINT, \\n\\t\"CO_SIIT\" BIGINT, \\n\\t\"CO_ISIC_CLASSE\" BIGINT, \\n\\t\"CO_EXP_SUBSET\" FLOA...\n",
       "uf      table       uf    128849                                                                                                                                                                                         CREATE TABLE uf (\\n\\t\"index\" BIGINT, \\n\\t\"CO_UF\" BIGINT, \\n\\t\"SG_UF\" TEXT, \\n\\t\"NO_UF\" TEXT, \\n\\t\"NO_REGIAO\" TEXT\\n)"
      ]
     },
     "execution_count": 9,
     "metadata": {},
     "output_type": "execute_result"
    }
   ],
   "source": [
    "pd.read_sql(\"SELECT * FROM sqlite_master WHERE type='table'\", conn, index_col=[\"name\"])"
   ]
  },
  {
   "cell_type": "markdown",
   "metadata": {},
   "source": [
    "## Número de transações"
   ]
  },
  {
   "cell_type": "markdown",
   "metadata": {},
   "source": [
    "Contagem do número de linhas dos arquivos de transações de mercadorias. **Obs**: esse total inclui a primeira linha de cada arquivo (nomes das colunas)"
   ]
  },
  {
   "cell_type": "code",
   "execution_count": 10,
   "metadata": {},
   "outputs": [
    {
     "name": "stdout",
     "output_type": "stream",
     "text": [
      "  1823962 ../data/IMP_2017.csv\n",
      "  1866512 ../data/IMP_2018.csv\n",
      "  1904414 ../data/IMP_2019.csv\n",
      "  5594888 total\n",
      "1.19 s ± 0 ns per loop (mean ± std. dev. of 1 run, 1 loop each)\n"
     ]
    }
   ],
   "source": [
    "%%timeit -n1 -r1\n",
    "!wc -l {files[kind]}"
   ]
  },
  {
   "cell_type": "markdown",
   "metadata": {},
   "source": [
    "Aqui está o verdadeiro número de linhas na tabela recém criada:"
   ]
  },
  {
   "cell_type": "code",
   "execution_count": 11,
   "metadata": {},
   "outputs": [
    {
     "data": {
      "text/html": [
       "<div>\n",
       "<style scoped>\n",
       "    .dataframe tbody tr th:only-of-type {\n",
       "        vertical-align: middle;\n",
       "    }\n",
       "\n",
       "    .dataframe tbody tr th {\n",
       "        vertical-align: top;\n",
       "    }\n",
       "\n",
       "    .dataframe thead th {\n",
       "        text-align: right;\n",
       "    }\n",
       "</style>\n",
       "<table border=\"1\" class=\"dataframe\">\n",
       "  <thead>\n",
       "    <tr style=\"text-align: right;\">\n",
       "      <th></th>\n",
       "      <th>COUNT(*)</th>\n",
       "    </tr>\n",
       "  </thead>\n",
       "  <tbody>\n",
       "    <tr>\n",
       "      <th>0</th>\n",
       "      <td>5594885</td>\n",
       "    </tr>\n",
       "  </tbody>\n",
       "</table>\n",
       "</div>"
      ],
      "text/plain": [
       "   COUNT(*)\n",
       "0   5594885"
      ]
     },
     "metadata": {},
     "output_type": "display_data"
    },
    {
     "name": "stdout",
     "output_type": "stream",
     "text": [
      "4.36 s ± 0 ns per loop (mean ± std. dev. of 1 run, 1 loop each)\n"
     ]
    }
   ],
   "source": [
    "%%timeit -n1 -r1\n",
    "# conn.execute(f'SELECT COUNT(*) FROM {kind}').fetchall()\n",
    "display(pd.read_sql(f'SELECT COUNT(*) FROM {kind}', conn))"
   ]
  },
  {
   "cell_type": "markdown",
   "metadata": {},
   "source": [
    "## Nomenclatura Comum do Mercosul (NCM)"
   ]
  },
  {
   "cell_type": "code",
   "execution_count": 12,
   "metadata": {},
   "outputs": [
    {
     "name": "stdout",
     "output_type": "stream",
     "text": [
      "13122 ../data/NCM.csv\n",
      "135 ms ± 0 ns per loop (mean ± std. dev. of 1 run, 1 loop each)\n"
     ]
    }
   ],
   "source": [
    "%%timeit -n1 -r1\n",
    "!wc -l {ncm_file}"
   ]
  },
  {
   "cell_type": "markdown",
   "metadata": {},
   "source": [
    "O número de linhas na tabela recém criada é mostrado a seguir:"
   ]
  },
  {
   "cell_type": "code",
   "execution_count": 13,
   "metadata": {},
   "outputs": [
    {
     "data": {
      "text/html": [
       "<div>\n",
       "<style scoped>\n",
       "    .dataframe tbody tr th:only-of-type {\n",
       "        vertical-align: middle;\n",
       "    }\n",
       "\n",
       "    .dataframe tbody tr th {\n",
       "        vertical-align: top;\n",
       "    }\n",
       "\n",
       "    .dataframe thead th {\n",
       "        text-align: right;\n",
       "    }\n",
       "</style>\n",
       "<table border=\"1\" class=\"dataframe\">\n",
       "  <thead>\n",
       "    <tr style=\"text-align: right;\">\n",
       "      <th></th>\n",
       "      <th>COUNT(*)</th>\n",
       "    </tr>\n",
       "  </thead>\n",
       "  <tbody>\n",
       "    <tr>\n",
       "      <th>0</th>\n",
       "      <td>13112</td>\n",
       "    </tr>\n",
       "  </tbody>\n",
       "</table>\n",
       "</div>"
      ],
      "text/plain": [
       "   COUNT(*)\n",
       "0     13112"
      ]
     },
     "metadata": {},
     "output_type": "display_data"
    },
    {
     "name": "stdout",
     "output_type": "stream",
     "text": [
      "19.6 ms ± 0 ns per loop (mean ± std. dev. of 1 run, 1 loop each)\n"
     ]
    }
   ],
   "source": [
    "%%timeit -n1 -r1\n",
    "# conn.execute('SELECT COUNT(*) FROM ncm').fetchall()\n",
    "display(pd.read_sql('SELECT COUNT(*) FROM ncm', conn))"
   ]
  },
  {
   "cell_type": "markdown",
   "metadata": {},
   "source": [
    "O comando `wc -l` retorna 10 linhas a mais pois, além de considerar a primeira linha, considera as 9 quebras de linha (`\\n`) em células contendo strings:"
   ]
  },
  {
   "cell_type": "code",
   "execution_count": 14,
   "metadata": {},
   "outputs": [
    {
     "data": {
      "text/html": [
       "<div>\n",
       "<style scoped>\n",
       "    .dataframe tbody tr th:only-of-type {\n",
       "        vertical-align: middle;\n",
       "    }\n",
       "\n",
       "    .dataframe tbody tr th {\n",
       "        vertical-align: top;\n",
       "    }\n",
       "\n",
       "    .dataframe thead th {\n",
       "        text-align: right;\n",
       "    }\n",
       "</style>\n",
       "<table border=\"1\" class=\"dataframe\">\n",
       "  <thead>\n",
       "    <tr style=\"text-align: right;\">\n",
       "      <th></th>\n",
       "      <th>index</th>\n",
       "      <th>CO_NCM</th>\n",
       "      <th>CO_UNID</th>\n",
       "      <th>CO_SH6</th>\n",
       "      <th>CO_PPE</th>\n",
       "      <th>CO_PPI</th>\n",
       "      <th>CO_FAT_AGREG</th>\n",
       "      <th>CO_CUCI_ITEM</th>\n",
       "      <th>CO_CGCE_N3</th>\n",
       "      <th>CO_SIIT</th>\n",
       "      <th>CO_ISIC_CLASSE</th>\n",
       "      <th>CO_EXP_SUBSET</th>\n",
       "      <th>NO_NCM_POR</th>\n",
       "      <th>NO_NCM_ESP</th>\n",
       "      <th>NO_NCM_ING</th>\n",
       "    </tr>\n",
       "  </thead>\n",
       "  <tbody>\n",
       "    <tr>\n",
       "      <th>12666</th>\n",
       "      <td>12666</td>\n",
       "      <td>85235210</td>\n",
       "      <td>11</td>\n",
       "      <td>852352</td>\n",
       "      <td>3235</td>\n",
       "      <td>3235</td>\n",
       "      <td>3</td>\n",
       "      <td>89846</td>\n",
       "      <td>240</td>\n",
       "      <td>1000</td>\n",
       "      <td>2610</td>\n",
       "      <td>1106.0</td>\n",
       "      <td>\\t\\r\\nCartões e etiquetas de acionamento por aproximação</td>\n",
       "      <td>Tarjetas y etiquetas de activación por proximidad</td>\n",
       "      <td>Proximity cards and proximity tags</td>\n",
       "    </tr>\n",
       "    <tr>\n",
       "      <th>12669</th>\n",
       "      <td>12669</td>\n",
       "      <td>27075010</td>\n",
       "      <td>10</td>\n",
       "      <td>270750</td>\n",
       "      <td>3215</td>\n",
       "      <td>3990</td>\n",
       "      <td>3</td>\n",
       "      <td>33525</td>\n",
       "      <td>240</td>\n",
       "      <td>2000</td>\n",
       "      <td>2011</td>\n",
       "      <td>8099.0</td>\n",
       "      <td>Misturas que contenham trimetilbenzenos e etiltoluenos, como componentes majoritários</td>\n",
       "      <td>\\r\\nMezclas que contengan trimetilbenzenos y etiltoluenos, como componentes mayoritarios</td>\n",
       "      <td>\\r\\nMixtures containing trimethylbenzenes and ethyltoluenes as major constituents</td>\n",
       "    </tr>\n",
       "    <tr>\n",
       "      <th>12670</th>\n",
       "      <td>12670</td>\n",
       "      <td>54033110</td>\n",
       "      <td>10</td>\n",
       "      <td>540331</td>\n",
       "      <td>3275</td>\n",
       "      <td>3275</td>\n",
       "      <td>3</td>\n",
       "      <td>65174</td>\n",
       "      <td>240</td>\n",
       "      <td>2000</td>\n",
       "      <td>2030</td>\n",
       "      <td>1601.0</td>\n",
       "      <td>Fio de raiom crus ou branqueados viscose, sem torção ou com torção não superior a 120 voltas por metro</td>\n",
       "      <td>Hiilado de rayón viscosa \\r\\r\\ncrudos o blanqueados, sencillo, torsión&lt;=120vueltas/m</td>\n",
       "      <td>Yarn of viscose rayon \\r\\r\\ncrushed or bleached, single, twist&lt;=120turns/meter</td>\n",
       "    </tr>\n",
       "    <tr>\n",
       "      <th>12675</th>\n",
       "      <td>12675</td>\n",
       "      <td>95089043</td>\n",
       "      <td>10</td>\n",
       "      <td>950890</td>\n",
       "      <td>3070</td>\n",
       "      <td>3070</td>\n",
       "      <td>3</td>\n",
       "      <td>8946</td>\n",
       "      <td>110</td>\n",
       "      <td>2000</td>\n",
       "      <td>2829</td>\n",
       "      <td>8099.0</td>\n",
       "      <td>\\t\\r\\n\\r\\nEquipamentos recreativos para parques aquáticos \\t\\r\\n\\r\\nEquipamentos recreativos para parques aquáticos</td>\n",
       "      <td>Equipamiento recreativo para parques acuáticos.</td>\n",
       "      <td>Recreational equipment for water parks</td>\n",
       "    </tr>\n",
       "  </tbody>\n",
       "</table>\n",
       "</div>"
      ],
      "text/plain": [
       "       index    CO_NCM  CO_UNID  CO_SH6  CO_PPE  CO_PPI  CO_FAT_AGREG CO_CUCI_ITEM  CO_CGCE_N3  CO_SIIT  CO_ISIC_CLASSE  CO_EXP_SUBSET                                                                                                            NO_NCM_POR                                                                                NO_NCM_ESP                                                                         NO_NCM_ING\n",
       "12666  12666  85235210       11  852352    3235    3235             3        89846         240     1000            2610         1106.0                                                              \\t\\r\\nCartões e etiquetas de acionamento por aproximação                                         Tarjetas y etiquetas de activación por proximidad                                                 Proximity cards and proximity tags\n",
       "12669  12669  27075010       10  270750    3215    3990             3        33525         240     2000            2011         8099.0                                 Misturas que contenham trimetilbenzenos e etiltoluenos, como componentes majoritários  \\r\\nMezclas que contengan trimetilbenzenos y etiltoluenos, como componentes mayoritarios  \\r\\nMixtures containing trimethylbenzenes and ethyltoluenes as major constituents\n",
       "12670  12670  54033110       10  540331    3275    3275             3        65174         240     2000            2030         1601.0                Fio de raiom crus ou branqueados viscose, sem torção ou com torção não superior a 120 voltas por metro      Hiilado de rayón viscosa \\r\\r\\ncrudos o blanqueados, sencillo, torsión<=120vueltas/m     Yarn of viscose rayon \\r\\r\\ncrushed or bleached, single, twist<=120turns/meter\n",
       "12675  12675  95089043       10  950890    3070    3070             3         8946         110     2000            2829         8099.0   \\t\\r\\n\\r\\nEquipamentos recreativos para parques aquáticos \\t\\r\\n\\r\\nEquipamentos recreativos para parques aquáticos                                           Equipamiento recreativo para parques acuáticos.                                             Recreational equipment for water parks"
      ]
     },
     "metadata": {},
     "output_type": "display_data"
    },
    {
     "name": "stdout",
     "output_type": "stream",
     "text": [
      "3.09 s ± 0 ns per loop (mean ± std. dev. of 1 run, 1 loop each)\n"
     ]
    }
   ],
   "source": [
    "%%timeit -n1 -r1\n",
    "df = pd.read_sql('SELECT * FROM ncm', conn)\n",
    "display(df[df.apply(lambda row: row.str.contains('\\n').any(), axis=1)])"
   ]
  },
  {
   "cell_type": "markdown",
   "metadata": {},
   "source": [
    "## Unidades Federativas (UF)"
   ]
  },
  {
   "cell_type": "code",
   "execution_count": 15,
   "metadata": {},
   "outputs": [
    {
     "name": "stdout",
     "output_type": "stream",
     "text": [
      "35 ../data/UF.csv\n",
      "113 ms ± 0 ns per loop (mean ± std. dev. of 1 run, 1 loop each)\n"
     ]
    }
   ],
   "source": [
    "%%timeit -n1 -r1\n",
    "!wc -l {uf_file}"
   ]
  },
  {
   "cell_type": "code",
   "execution_count": 16,
   "metadata": {},
   "outputs": [
    {
     "data": {
      "text/html": [
       "<div>\n",
       "<style scoped>\n",
       "    .dataframe tbody tr th:only-of-type {\n",
       "        vertical-align: middle;\n",
       "    }\n",
       "\n",
       "    .dataframe tbody tr th {\n",
       "        vertical-align: top;\n",
       "    }\n",
       "\n",
       "    .dataframe thead th {\n",
       "        text-align: right;\n",
       "    }\n",
       "</style>\n",
       "<table border=\"1\" class=\"dataframe\">\n",
       "  <thead>\n",
       "    <tr style=\"text-align: right;\">\n",
       "      <th></th>\n",
       "      <th>COUNT(*)</th>\n",
       "    </tr>\n",
       "  </thead>\n",
       "  <tbody>\n",
       "    <tr>\n",
       "      <th>0</th>\n",
       "      <td>34</td>\n",
       "    </tr>\n",
       "  </tbody>\n",
       "</table>\n",
       "</div>"
      ],
      "text/plain": [
       "   COUNT(*)\n",
       "0        34"
      ]
     },
     "metadata": {},
     "output_type": "display_data"
    },
    {
     "name": "stdout",
     "output_type": "stream",
     "text": [
      "18.6 ms ± 0 ns per loop (mean ± std. dev. of 1 run, 1 loop each)\n"
     ]
    }
   ],
   "source": [
    "%%timeit -n1 -r1\n",
    "# conn.execute('SELECT COUNT(*) FROM uf').fetchall()\n",
    "display(pd.read_sql('SELECT COUNT(*) FROM uf', conn))"
   ]
  },
  {
   "cell_type": "code",
   "execution_count": 17,
   "metadata": {},
   "outputs": [
    {
     "data": {
      "text/html": [
       "<div>\n",
       "<style scoped>\n",
       "    .dataframe tbody tr th:only-of-type {\n",
       "        vertical-align: middle;\n",
       "    }\n",
       "\n",
       "    .dataframe tbody tr th {\n",
       "        vertical-align: top;\n",
       "    }\n",
       "\n",
       "    .dataframe thead th {\n",
       "        text-align: right;\n",
       "    }\n",
       "</style>\n",
       "<table border=\"1\" class=\"dataframe\">\n",
       "  <thead>\n",
       "    <tr style=\"text-align: right;\">\n",
       "      <th></th>\n",
       "      <th>index</th>\n",
       "      <th>CO_UF</th>\n",
       "      <th>SG_UF</th>\n",
       "      <th>NO_UF</th>\n",
       "      <th>NO_REGIAO</th>\n",
       "    </tr>\n",
       "  </thead>\n",
       "  <tbody>\n",
       "    <tr>\n",
       "      <th>0</th>\n",
       "      <td>0</td>\n",
       "      <td>11</td>\n",
       "      <td>RO</td>\n",
       "      <td>Rondônia</td>\n",
       "      <td>REGIAO NORTE</td>\n",
       "    </tr>\n",
       "    <tr>\n",
       "      <th>1</th>\n",
       "      <td>1</td>\n",
       "      <td>12</td>\n",
       "      <td>AC</td>\n",
       "      <td>Acre</td>\n",
       "      <td>REGIAO NORTE</td>\n",
       "    </tr>\n",
       "    <tr>\n",
       "      <th>2</th>\n",
       "      <td>2</td>\n",
       "      <td>13</td>\n",
       "      <td>AM</td>\n",
       "      <td>Amazonas</td>\n",
       "      <td>REGIAO NORTE</td>\n",
       "    </tr>\n",
       "    <tr>\n",
       "      <th>3</th>\n",
       "      <td>3</td>\n",
       "      <td>14</td>\n",
       "      <td>RR</td>\n",
       "      <td>Roraima</td>\n",
       "      <td>REGIAO NORTE</td>\n",
       "    </tr>\n",
       "    <tr>\n",
       "      <th>4</th>\n",
       "      <td>4</td>\n",
       "      <td>15</td>\n",
       "      <td>PA</td>\n",
       "      <td>Pará</td>\n",
       "      <td>REGIAO NORTE</td>\n",
       "    </tr>\n",
       "  </tbody>\n",
       "</table>\n",
       "</div>"
      ],
      "text/plain": [
       "   index  CO_UF SG_UF     NO_UF     NO_REGIAO\n",
       "0      0     11    RO  Rondônia  REGIAO NORTE\n",
       "1      1     12    AC      Acre  REGIAO NORTE\n",
       "2      2     13    AM  Amazonas  REGIAO NORTE\n",
       "3      3     14    RR   Roraima  REGIAO NORTE\n",
       "4      4     15    PA      Pará  REGIAO NORTE"
      ]
     },
     "metadata": {},
     "output_type": "display_data"
    }
   ],
   "source": [
    "display(pd.read_sql('SELECT * FROM uf LIMIT 5', conn))"
   ]
  },
  {
   "cell_type": "markdown",
   "metadata": {},
   "source": [
    "## Informações gerais sobre a tabela de transações"
   ]
  },
  {
   "cell_type": "code",
   "execution_count": 18,
   "metadata": {
    "scrolled": true
   },
   "outputs": [
    {
     "name": "stdout",
     "output_type": "stream",
     "text": [
      "<class 'pandas.core.frame.DataFrame'>\n",
      "RangeIndex: 5594885 entries, 0 to 5594884\n",
      "Data columns (total 12 columns):\n",
      " #   Column      Dtype \n",
      "---  ------      ----- \n",
      " 0   index       int64 \n",
      " 1   CO_ANO      int64 \n",
      " 2   CO_MES      int64 \n",
      " 3   CO_NCM      int64 \n",
      " 4   CO_UNID     int64 \n",
      " 5   CO_PAIS     int64 \n",
      " 6   SG_UF_NCM   object\n",
      " 7   CO_VIA      int64 \n",
      " 8   CO_URF      int64 \n",
      " 9   QT_ESTAT    int64 \n",
      " 10  KG_LIQUIDO  int64 \n",
      " 11  VL_FOB      int64 \n",
      "dtypes: int64(11), object(1)\n",
      "memory usage: 512.2+ MB\n"
     ]
    }
   ],
   "source": [
    "# Disabled timing due to NameError. See https://github.com/ipython/ipython/issues/11659/\n",
    "# %%timeit -n1 -r1\n",
    "# 24.9 s ± 0 ns per loop (mean ± std. dev. of 1 run, 1 loop each)\n",
    "df = pd.read_sql(f'SELECT * FROM {kind}', conn)\n",
    "df.info()"
   ]
  },
  {
   "cell_type": "markdown",
   "metadata": {},
   "source": [
    "## Quantidade de valores distintos por coluna"
   ]
  },
  {
   "cell_type": "code",
   "execution_count": 19,
   "metadata": {},
   "outputs": [
    {
     "data": {
      "text/plain": [
       "index         1904413\n",
       "CO_ANO              3\n",
       "CO_MES             12\n",
       "CO_NCM           9166\n",
       "CO_UNID            13\n",
       "CO_PAIS           250\n",
       "SG_UF_NCM          28\n",
       "CO_VIA             10\n",
       "CO_URF            132\n",
       "QT_ESTAT       227247\n",
       "KG_LIQUIDO     181475\n",
       "VL_FOB         447867\n",
       "dtype: int64"
      ]
     },
     "metadata": {},
     "output_type": "display_data"
    },
    {
     "name": "stdout",
     "output_type": "stream",
     "text": [
      "655 ms ± 0 ns per loop (mean ± std. dev. of 1 run, 1 loop each)\n"
     ]
    }
   ],
   "source": [
    "%%timeit -n1 -r1\n",
    "display(df.nunique())"
   ]
  },
  {
   "cell_type": "markdown",
   "metadata": {},
   "source": [
    "## Transações com maior valor FOB (Free on Board) em dólar (US$)"
   ]
  },
  {
   "cell_type": "code",
   "execution_count": 20,
   "metadata": {
    "scrolled": true
   },
   "outputs": [
    {
     "data": {
      "text/html": [
       "<div>\n",
       "<style scoped>\n",
       "    .dataframe tbody tr th:only-of-type {\n",
       "        vertical-align: middle;\n",
       "    }\n",
       "\n",
       "    .dataframe tbody tr th {\n",
       "        vertical-align: top;\n",
       "    }\n",
       "\n",
       "    .dataframe thead th {\n",
       "        text-align: right;\n",
       "    }\n",
       "</style>\n",
       "<table border=\"1\" class=\"dataframe\">\n",
       "  <thead>\n",
       "    <tr style=\"text-align: right;\">\n",
       "      <th></th>\n",
       "      <th>index</th>\n",
       "      <th>CO_ANO</th>\n",
       "      <th>CO_MES</th>\n",
       "      <th>CO_NCM</th>\n",
       "      <th>CO_UNID</th>\n",
       "      <th>CO_PAIS</th>\n",
       "      <th>SG_UF_NCM</th>\n",
       "      <th>CO_VIA</th>\n",
       "      <th>CO_URF</th>\n",
       "      <th>QT_ESTAT</th>\n",
       "      <th>KG_LIQUIDO</th>\n",
       "      <th>VL_FOB</th>\n",
       "    </tr>\n",
       "  </thead>\n",
       "  <tbody>\n",
       "    <tr>\n",
       "      <th>0</th>\n",
       "      <td>661481</td>\n",
       "      <td>2018</td>\n",
       "      <td>11</td>\n",
       "      <td>89052000</td>\n",
       "      <td>11</td>\n",
       "      <td>105</td>\n",
       "      <td>RJ</td>\n",
       "      <td>10</td>\n",
       "      <td>917800</td>\n",
       "      <td>0</td>\n",
       "      <td>81451179</td>\n",
       "      <td>2215563252</td>\n",
       "    </tr>\n",
       "    <tr>\n",
       "      <th>1</th>\n",
       "      <td>1683231</td>\n",
       "      <td>2019</td>\n",
       "      <td>1</td>\n",
       "      <td>89052000</td>\n",
       "      <td>11</td>\n",
       "      <td>160</td>\n",
       "      <td>RJ</td>\n",
       "      <td>10</td>\n",
       "      <td>1017700</td>\n",
       "      <td>0</td>\n",
       "      <td>101748000</td>\n",
       "      <td>2085171726</td>\n",
       "    </tr>\n",
       "    <tr>\n",
       "      <th>2</th>\n",
       "      <td>1135488</td>\n",
       "      <td>2018</td>\n",
       "      <td>8</td>\n",
       "      <td>89052000</td>\n",
       "      <td>11</td>\n",
       "      <td>160</td>\n",
       "      <td>RJ</td>\n",
       "      <td>10</td>\n",
       "      <td>1017700</td>\n",
       "      <td>0</td>\n",
       "      <td>101748000</td>\n",
       "      <td>2071124563</td>\n",
       "    </tr>\n",
       "    <tr>\n",
       "      <th>3</th>\n",
       "      <td>252374</td>\n",
       "      <td>2018</td>\n",
       "      <td>2</td>\n",
       "      <td>89059000</td>\n",
       "      <td>11</td>\n",
       "      <td>105</td>\n",
       "      <td>RJ</td>\n",
       "      <td>10</td>\n",
       "      <td>1017700</td>\n",
       "      <td>2</td>\n",
       "      <td>90511000</td>\n",
       "      <td>1985998896</td>\n",
       "    </tr>\n",
       "    <tr>\n",
       "      <th>4</th>\n",
       "      <td>919422</td>\n",
       "      <td>2019</td>\n",
       "      <td>9</td>\n",
       "      <td>89052000</td>\n",
       "      <td>11</td>\n",
       "      <td>105</td>\n",
       "      <td>RJ</td>\n",
       "      <td>10</td>\n",
       "      <td>727600</td>\n",
       "      <td>2</td>\n",
       "      <td>76224380</td>\n",
       "      <td>1709212920</td>\n",
       "    </tr>\n",
       "  </tbody>\n",
       "</table>\n",
       "</div>"
      ],
      "text/plain": [
       "     index  CO_ANO  CO_MES    CO_NCM  CO_UNID  CO_PAIS SG_UF_NCM  CO_VIA   CO_URF  QT_ESTAT  KG_LIQUIDO      VL_FOB\n",
       "0   661481    2018      11  89052000       11      105        RJ      10   917800         0    81451179  2215563252\n",
       "1  1683231    2019       1  89052000       11      160        RJ      10  1017700         0   101748000  2085171726\n",
       "2  1135488    2018       8  89052000       11      160        RJ      10  1017700         0   101748000  2071124563\n",
       "3   252374    2018       2  89059000       11      105        RJ      10  1017700         2    90511000  1985998896\n",
       "4   919422    2019       9  89052000       11      105        RJ      10   727600         2    76224380  1709212920"
      ]
     },
     "metadata": {},
     "output_type": "display_data"
    },
    {
     "name": "stdout",
     "output_type": "stream",
     "text": [
      "3.07 s ± 0 ns per loop (mean ± std. dev. of 1 run, 1 loop each)\n"
     ]
    }
   ],
   "source": [
    "%%timeit -n1 -r1\n",
    "# conn.execute(f'SELECT * FROM {kind} ORDER BY VL_FOB DESC LIMIT 5').fetchall()\n",
    "display(pd.read_sql(f'SELECT * FROM {kind} ORDER BY VL_FOB DESC LIMIT 5', conn))"
   ]
  },
  {
   "cell_type": "markdown",
   "metadata": {},
   "source": [
    "## Mercadorias com maior valor FOB total em dólar (US$)"
   ]
  },
  {
   "cell_type": "markdown",
   "metadata": {},
   "source": [
    "Os maiores valores FOB totais, por mercadoria são os seguintes:"
   ]
  },
  {
   "cell_type": "code",
   "execution_count": 21,
   "metadata": {},
   "outputs": [
    {
     "data": {
      "text/html": [
       "<div>\n",
       "<style scoped>\n",
       "    .dataframe tbody tr th:only-of-type {\n",
       "        vertical-align: middle;\n",
       "    }\n",
       "\n",
       "    .dataframe tbody tr th {\n",
       "        vertical-align: top;\n",
       "    }\n",
       "\n",
       "    .dataframe thead th {\n",
       "        text-align: right;\n",
       "    }\n",
       "</style>\n",
       "<table border=\"1\" class=\"dataframe\">\n",
       "  <thead>\n",
       "    <tr style=\"text-align: right;\">\n",
       "      <th></th>\n",
       "      <th>CO_NCM</th>\n",
       "      <th>total</th>\n",
       "    </tr>\n",
       "  </thead>\n",
       "  <tbody>\n",
       "    <tr>\n",
       "      <th>0</th>\n",
       "      <td>27101921</td>\n",
       "      <td>18603831959</td>\n",
       "    </tr>\n",
       "    <tr>\n",
       "      <th>1</th>\n",
       "      <td>27090010</td>\n",
       "      <td>12664164160</td>\n",
       "    </tr>\n",
       "    <tr>\n",
       "      <th>2</th>\n",
       "      <td>27101241</td>\n",
       "      <td>9952530812</td>\n",
       "    </tr>\n",
       "  </tbody>\n",
       "</table>\n",
       "</div>"
      ],
      "text/plain": [
       "     CO_NCM        total\n",
       "0  27101921  18603831959\n",
       "1  27090010  12664164160\n",
       "2  27101241   9952530812"
      ]
     },
     "metadata": {},
     "output_type": "display_data"
    },
    {
     "name": "stdout",
     "output_type": "stream",
     "text": [
      "2.72 s ± 0 ns per loop (mean ± std. dev. of 1 run, 1 loop each)\n"
     ]
    }
   ],
   "source": [
    "%%timeit -n1 -r1\n",
    "query = f'''\n",
    "SELECT CO_NCM,\n",
    "       SUM(VL_FOB) total\n",
    "FROM {kind}\n",
    "GROUP BY CO_NCM\n",
    "ORDER BY total DESC\n",
    "LIMIT 3\n",
    "'''\n",
    "display(pd.read_sql(query, conn))"
   ]
  },
  {
   "cell_type": "markdown",
   "metadata": {},
   "source": [
    "Os nomes das mercadorias correspondentes aos códigos da coluna CO_NCM acima podem ser obtidos da tabela `ncm`:"
   ]
  },
  {
   "cell_type": "code",
   "execution_count": 22,
   "metadata": {},
   "outputs": [
    {
     "data": {
      "text/html": [
       "<div>\n",
       "<style scoped>\n",
       "    .dataframe tbody tr th:only-of-type {\n",
       "        vertical-align: middle;\n",
       "    }\n",
       "\n",
       "    .dataframe tbody tr th {\n",
       "        vertical-align: top;\n",
       "    }\n",
       "\n",
       "    .dataframe thead th {\n",
       "        text-align: right;\n",
       "    }\n",
       "</style>\n",
       "<table border=\"1\" class=\"dataframe\">\n",
       "  <thead>\n",
       "    <tr style=\"text-align: right;\">\n",
       "      <th></th>\n",
       "      <th>CO_NCM</th>\n",
       "      <th>NO_NCM_POR</th>\n",
       "      <th>total</th>\n",
       "    </tr>\n",
       "  </thead>\n",
       "  <tbody>\n",
       "    <tr>\n",
       "      <th>0</th>\n",
       "      <td>27101921</td>\n",
       "      <td>Gasóleo (óleo diesel)</td>\n",
       "      <td>18603831959</td>\n",
       "    </tr>\n",
       "    <tr>\n",
       "      <th>1</th>\n",
       "      <td>27090010</td>\n",
       "      <td>Óleos brutos de petróleo</td>\n",
       "      <td>12664164160</td>\n",
       "    </tr>\n",
       "    <tr>\n",
       "      <th>2</th>\n",
       "      <td>27101241</td>\n",
       "      <td>Naftas para petroquimica</td>\n",
       "      <td>9952530812</td>\n",
       "    </tr>\n",
       "  </tbody>\n",
       "</table>\n",
       "</div>"
      ],
      "text/plain": [
       "     CO_NCM                NO_NCM_POR        total\n",
       "0  27101921     Gasóleo (óleo diesel)  18603831959\n",
       "1  27090010  Óleos brutos de petróleo  12664164160\n",
       "2  27101241  Naftas para petroquimica   9952530812"
      ]
     },
     "metadata": {},
     "output_type": "display_data"
    },
    {
     "name": "stdout",
     "output_type": "stream",
     "text": [
      "5.83 s ± 0 ns per loop (mean ± std. dev. of 1 run, 1 loop each)\n"
     ]
    }
   ],
   "source": [
    "%%timeit -n1 -r1\n",
    "query = f'''\n",
    "SELECT k.CO_NCM,\n",
    "       NO_NCM_POR,\n",
    "       SUM(VL_FOB) total\n",
    "FROM {kind} k\n",
    "JOIN ncm ON ncm.CO_NCM = k.CO_NCM\n",
    "GROUP BY k.CO_NCM\n",
    "ORDER BY total DESC\n",
    "LIMIT 3\n",
    "'''\n",
    "display(pd.read_sql(query, conn))"
   ]
  },
  {
   "cell_type": "markdown",
   "metadata": {},
   "source": [
    "## Estados com maior valor FOB total em dólar (US$)"
   ]
  },
  {
   "cell_type": "code",
   "execution_count": 23,
   "metadata": {},
   "outputs": [
    {
     "data": {
      "text/html": [
       "<div>\n",
       "<style scoped>\n",
       "    .dataframe tbody tr th:only-of-type {\n",
       "        vertical-align: middle;\n",
       "    }\n",
       "\n",
       "    .dataframe tbody tr th {\n",
       "        vertical-align: top;\n",
       "    }\n",
       "\n",
       "    .dataframe thead th {\n",
       "        text-align: right;\n",
       "    }\n",
       "</style>\n",
       "<table border=\"1\" class=\"dataframe\">\n",
       "  <thead>\n",
       "    <tr style=\"text-align: right;\">\n",
       "      <th></th>\n",
       "      <th>SG_UF_NCM</th>\n",
       "      <th>NO_UF</th>\n",
       "      <th>total</th>\n",
       "    </tr>\n",
       "  </thead>\n",
       "  <tbody>\n",
       "    <tr>\n",
       "      <th>0</th>\n",
       "      <td>SP</td>\n",
       "      <td>São Paulo</td>\n",
       "      <td>175421880962</td>\n",
       "    </tr>\n",
       "    <tr>\n",
       "      <th>1</th>\n",
       "      <td>RJ</td>\n",
       "      <td>Rio de Janeiro</td>\n",
       "      <td>56304101371</td>\n",
       "    </tr>\n",
       "    <tr>\n",
       "      <th>2</th>\n",
       "      <td>SC</td>\n",
       "      <td>Santa Catarina</td>\n",
       "      <td>44973206316</td>\n",
       "    </tr>\n",
       "  </tbody>\n",
       "</table>\n",
       "</div>"
      ],
      "text/plain": [
       "  SG_UF_NCM           NO_UF         total\n",
       "0        SP       São Paulo  175421880962\n",
       "1        RJ  Rio de Janeiro   56304101371\n",
       "2        SC  Santa Catarina   44973206316"
      ]
     },
     "metadata": {},
     "output_type": "display_data"
    },
    {
     "name": "stdout",
     "output_type": "stream",
     "text": [
      "3.63 s ± 0 ns per loop (mean ± std. dev. of 1 run, 1 loop each)\n"
     ]
    }
   ],
   "source": [
    "%%timeit -n1 -r1\n",
    "query = f'''\n",
    "SELECT k.SG_UF_NCM, uf.NO_UF,\n",
    "       SUM(VL_FOB) total\n",
    "FROM {kind} k\n",
    "JOIN uf ON uf.SG_UF = k.SG_UF_NCM\n",
    "GROUP BY k.SG_UF_NCM\n",
    "ORDER BY total DESC\n",
    "LIMIT 3\n",
    "'''\n",
    "display(pd.read_sql(query, conn))"
   ]
  },
  {
   "cell_type": "markdown",
   "metadata": {},
   "source": [
    "## Valor FOB total anual em dólar (US$)"
   ]
  },
  {
   "cell_type": "code",
   "execution_count": 24,
   "metadata": {},
   "outputs": [
    {
     "data": {
      "text/html": [
       "<div>\n",
       "<style scoped>\n",
       "    .dataframe tbody tr th:only-of-type {\n",
       "        vertical-align: middle;\n",
       "    }\n",
       "\n",
       "    .dataframe tbody tr th {\n",
       "        vertical-align: top;\n",
       "    }\n",
       "\n",
       "    .dataframe thead th {\n",
       "        text-align: right;\n",
       "    }\n",
       "</style>\n",
       "<table border=\"1\" class=\"dataframe\">\n",
       "  <thead>\n",
       "    <tr style=\"text-align: right;\">\n",
       "      <th></th>\n",
       "      <th>CO_ANO</th>\n",
       "      <th>total</th>\n",
       "    </tr>\n",
       "  </thead>\n",
       "  <tbody>\n",
       "    <tr>\n",
       "      <th>0</th>\n",
       "      <td>2017</td>\n",
       "      <td>150749494421</td>\n",
       "    </tr>\n",
       "    <tr>\n",
       "      <th>1</th>\n",
       "      <td>2018</td>\n",
       "      <td>181230568862</td>\n",
       "    </tr>\n",
       "    <tr>\n",
       "      <th>2</th>\n",
       "      <td>2019</td>\n",
       "      <td>177347934749</td>\n",
       "    </tr>\n",
       "  </tbody>\n",
       "</table>\n",
       "</div>"
      ],
      "text/plain": [
       "   CO_ANO         total\n",
       "0    2017  150749494421\n",
       "1    2018  181230568862\n",
       "2    2019  177347934749"
      ]
     },
     "metadata": {},
     "output_type": "display_data"
    },
    {
     "name": "stdout",
     "output_type": "stream",
     "text": [
      "1.72 s ± 0 ns per loop (mean ± std. dev. of 1 run, 1 loop each)\n"
     ]
    }
   ],
   "source": [
    "%%timeit -n1 -r1\n",
    "query = f'''\n",
    "SELECT CO_ANO,\n",
    "       SUM(VL_FOB) total\n",
    "FROM {kind}\n",
    "GROUP BY CO_ANO\n",
    "ORDER BY CO_ANO\n",
    "'''\n",
    "display(pd.read_sql(query, conn))"
   ]
  },
  {
   "cell_type": "markdown",
   "metadata": {},
   "source": [
    "## Mercadorias com maior valor FOB total em dólar (US$), em São Paulo, em 2019"
   ]
  },
  {
   "cell_type": "code",
   "execution_count": 25,
   "metadata": {},
   "outputs": [
    {
     "data": {
      "text/html": [
       "<div>\n",
       "<style scoped>\n",
       "    .dataframe tbody tr th:only-of-type {\n",
       "        vertical-align: middle;\n",
       "    }\n",
       "\n",
       "    .dataframe tbody tr th {\n",
       "        vertical-align: top;\n",
       "    }\n",
       "\n",
       "    .dataframe thead th {\n",
       "        text-align: right;\n",
       "    }\n",
       "</style>\n",
       "<table border=\"1\" class=\"dataframe\">\n",
       "  <thead>\n",
       "    <tr style=\"text-align: right;\">\n",
       "      <th></th>\n",
       "      <th>CO_ANO</th>\n",
       "      <th>SG_UF_NCM</th>\n",
       "      <th>NO_NCM_POR</th>\n",
       "      <th>total</th>\n",
       "    </tr>\n",
       "  </thead>\n",
       "  <tbody>\n",
       "    <tr>\n",
       "      <th>0</th>\n",
       "      <td>2019</td>\n",
       "      <td>SP</td>\n",
       "      <td>Gasóleo (óleo diesel)</td>\n",
       "      <td>1627159797</td>\n",
       "    </tr>\n",
       "    <tr>\n",
       "      <th>1</th>\n",
       "      <td>2019</td>\n",
       "      <td>SP</td>\n",
       "      <td>Outras partes para aparelhos de telefonia/telegrafia</td>\n",
       "      <td>1548336237</td>\n",
       "    </tr>\n",
       "    <tr>\n",
       "      <th>2</th>\n",
       "      <td>2019</td>\n",
       "      <td>SP</td>\n",
       "      <td>Óleos brutos de petróleo</td>\n",
       "      <td>1071774913</td>\n",
       "    </tr>\n",
       "  </tbody>\n",
       "</table>\n",
       "</div>"
      ],
      "text/plain": [
       "   CO_ANO SG_UF_NCM                                            NO_NCM_POR       total\n",
       "0    2019        SP                                 Gasóleo (óleo diesel)  1627159797\n",
       "1    2019        SP  Outras partes para aparelhos de telefonia/telegrafia  1548336237\n",
       "2    2019        SP                              Óleos brutos de petróleo  1071774913"
      ]
     },
     "metadata": {},
     "output_type": "display_data"
    },
    {
     "name": "stdout",
     "output_type": "stream",
     "text": [
      "1.18 s ± 0 ns per loop (mean ± std. dev. of 1 run, 1 loop each)\n"
     ]
    }
   ],
   "source": [
    "%%timeit -n1 -r1\n",
    "year=2019\n",
    "state='SP'\n",
    "query = f'''\n",
    "SELECT k.CO_ANO, k.SG_UF_NCM, n.NO_NCM_POR,\n",
    "       SUM(VL_FOB) total\n",
    "FROM {kind} k\n",
    "JOIN ncm n ON k.CO_NCM=n.CO_NCM\n",
    "JOIN uf u ON SG_UF_NCM=u.SG_UF\n",
    "WHERE CO_ANO={year}\n",
    "AND SG_UF_NCM=\"{state}\"\n",
    "GROUP BY k.CO_NCM\n",
    "ORDER BY total DESC\n",
    "LIMIT 3\n",
    "'''\n",
    "display(pd.read_sql(query, conn))"
   ]
  }
 ],
 "metadata": {
  "kernelspec": {
   "display_name": "Python 3",
   "language": "python",
   "name": "python3"
  },
  "language_info": {
   "codemirror_mode": {
    "name": "ipython",
    "version": 3
   },
   "file_extension": ".py",
   "mimetype": "text/x-python",
   "name": "python",
   "nbconvert_exporter": "python",
   "pygments_lexer": "ipython3",
   "version": "3.7.8"
  }
 },
 "nbformat": 4,
 "nbformat_minor": 4
}
