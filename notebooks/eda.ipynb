{
 "cells": [
  {
   "cell_type": "markdown",
   "metadata": {},
   "source": [
    "# Índice\n",
    "1. [Configuração](#Configuração)\n",
    "2. [Inspeção dos dados brutos](#Inspeção-dos-dados-brutos)\n",
    "3. [Inspeção dos arquivos principais](#Inspeção-dos-arquivos-principais)\n",
    "4. [Inspeção dos arquivos auxiliares](#Inspeção-dos-arquivos-auxiliares)"
   ]
  },
  {
   "cell_type": "markdown",
   "metadata": {},
   "source": [
    "# Configuração"
   ]
  },
  {
   "cell_type": "code",
   "execution_count": 1,
   "metadata": {},
   "outputs": [
    {
     "data": {
      "text/html": [
       "<style>.container { width:100% !important; } div.prompt {min-width: 10ex;} .rendered_html table { font-size: 11px; }</style>"
      ],
      "text/plain": [
       "<IPython.core.display.HTML object>"
      ]
     },
     "metadata": {},
     "output_type": "display_data"
    }
   ],
   "source": [
    "import pandas as pd\n",
    "import sys\n",
    "from IPython.core.display import HTML\n",
    "\n",
    "pd.set_option('display.width', 1000)\n",
    "pd.set_option('display.max_colwidth', 300)\n",
    "display(HTML(\"<style>.container { width:100% !important; } div.prompt {min-width: 10ex;} .rendered_html table { font-size: 11px; }</style>\"))"
   ]
  },
  {
   "cell_type": "markdown",
   "metadata": {},
   "source": [
    "## Inspeção dos dados brutos"
   ]
  },
  {
   "cell_type": "markdown",
   "metadata": {},
   "source": [
    "Estas são as primeiras linhas do arquivo CSV referente às exportações:"
   ]
  },
  {
   "cell_type": "code",
   "execution_count": 2,
   "metadata": {},
   "outputs": [
    {
     "name": "stdout",
     "output_type": "stream",
     "text": [
      "\"CO_ANO\";\"CO_MES\";\"CO_NCM\";\"CO_UNID\";\"CO_PAIS\";\"SG_UF_NCM\";\"CO_VIA\";\"CO_URF\";\"QT_ESTAT\";\"KG_LIQUIDO\";\"VL_FOB\"\r",
      "\r\n",
      "\"1997\";\"02\";\"84659110\";\"11\";\"548\";\"SP\";\"01\";\"0817800\";2;1295;4294\r",
      "\r\n",
      "\"1997\";\"01\";\"84798999\";\"11\";\"158\";\"SP\";\"04\";\"0817700\";6;352;1144\r",
      "\r\n",
      "\"1997\";\"01\";\"84819090\";\"10\";\"764\";\"SP\";\"04\";\"0817600\";0;0;281\r",
      "\r\n",
      "\r\n",
      "gzip: stdout: Broken pipe\r\n"
     ]
    }
   ],
   "source": [
    "exports_zip = '../data/exp.zip'\n",
    "!zcat $exports_zip | head -n 4"
   ]
  },
  {
   "cell_type": "markdown",
   "metadata": {},
   "source": [
    "No caso das importações, as primeiras linhas do CSV são assim:"
   ]
  },
  {
   "cell_type": "code",
   "execution_count": 3,
   "metadata": {},
   "outputs": [
    {
     "name": "stdout",
     "output_type": "stream",
     "text": [
      "\"CO_ANO\";\"CO_MES\";\"CO_NCM\";\"CO_UNID\";\"CO_PAIS\";\"SG_UF_NCM\";\"CO_VIA\";\"CO_URF\";\"QT_ESTAT\";\"KG_LIQUIDO\";\"VL_FOB\"\r",
      "\r\n",
      "\"1997\";\"12\";\"90072090\";\"11\";\"399\";\"AM\";\"01\";\"0227600\";15;105;7184\r",
      "\r\n",
      "\"1997\";\"12\";\"30062000\";\"10\";\"767\";\"MG\";\"04\";\"0617600\";6104;4855;563241\r",
      "\r\n",
      "\"1997\";\"12\";\"85331000\";\"11\";\"399\";\"SP\";\"04\";\"0817700\";1000119;61;11826\r",
      "\r\n",
      "\r\n",
      "gzip: stdout: Broken pipe\r\n"
     ]
    }
   ],
   "source": [
    "imports_zip = '../data/imp.zip'\n",
    "!zcat $imports_zip | head -n 4"
   ]
  },
  {
   "cell_type": "markdown",
   "metadata": {},
   "source": [
    "## Inspeção dos arquivos principais"
   ]
  },
  {
   "cell_type": "code",
   "execution_count": 7,
   "metadata": {},
   "outputs": [],
   "source": [
    "def read_and_group_file_in_chunks(file_name, verbose=False, chunksize=1000000):\n",
    "    grouped_chunks = []\n",
    "    if verbose:\n",
    "        sys.stderr.write('Reading file in chunks of {} lines'.format(chunksize))\n",
    "        sys.stderr.flush()\n",
    "    # TODO: Load only the columns needed, with usecols=['foo', 'bar']\n",
    "    for chunk in pd.read_csv(file_name, delimiter=\";\", chunksize=chunksize):\n",
    "        if verbose:\n",
    "            sys.stderr.write('.')\n",
    "            sys.stderr.flush()\n",
    "        grouped_chunks.append(chunk)\n",
    "    if verbose:\n",
    "        sys.stderr.write('\\nConcatenating {} chunks\\n'.format(\n",
    "                         len(grouped_chunks)))\n",
    "        sys.stderr.flush()\n",
    "    return pd.concat(grouped_chunks)"
   ]
  },
  {
   "cell_type": "code",
   "execution_count": 8,
   "metadata": {},
   "outputs": [
    {
     "name": "stderr",
     "output_type": "stream",
     "text": [
      "Reading file in chunks of 1000000 lines.......................\n",
      "Concatenating 23 chunks\n"
     ]
    }
   ],
   "source": [
    "df_exp = read_and_group_file_in_chunks(exports_zip, verbose=True)"
   ]
  },
  {
   "cell_type": "code",
   "execution_count": 9,
   "metadata": {},
   "outputs": [
    {
     "data": {
      "text/html": [
       "<div>\n",
       "<style scoped>\n",
       "    .dataframe tbody tr th:only-of-type {\n",
       "        vertical-align: middle;\n",
       "    }\n",
       "\n",
       "    .dataframe tbody tr th {\n",
       "        vertical-align: top;\n",
       "    }\n",
       "\n",
       "    .dataframe thead th {\n",
       "        text-align: right;\n",
       "    }\n",
       "</style>\n",
       "<table border=\"1\" class=\"dataframe\">\n",
       "  <thead>\n",
       "    <tr style=\"text-align: right;\">\n",
       "      <th></th>\n",
       "      <th>CO_ANO</th>\n",
       "      <th>CO_MES</th>\n",
       "      <th>CO_NCM</th>\n",
       "      <th>CO_UNID</th>\n",
       "      <th>CO_PAIS</th>\n",
       "      <th>SG_UF_NCM</th>\n",
       "      <th>CO_VIA</th>\n",
       "      <th>CO_URF</th>\n",
       "      <th>QT_ESTAT</th>\n",
       "      <th>KG_LIQUIDO</th>\n",
       "      <th>VL_FOB</th>\n",
       "    </tr>\n",
       "  </thead>\n",
       "  <tbody>\n",
       "    <tr>\n",
       "      <th>366891</th>\n",
       "      <td>1997</td>\n",
       "      <td>4</td>\n",
       "      <td>84148019</td>\n",
       "      <td>11</td>\n",
       "      <td>63</td>\n",
       "      <td>SP</td>\n",
       "      <td>7</td>\n",
       "      <td>1010900</td>\n",
       "      <td>8</td>\n",
       "      <td>94</td>\n",
       "      <td>2032</td>\n",
       "    </tr>\n",
       "    <tr>\n",
       "      <th>7430615</th>\n",
       "      <td>2007</td>\n",
       "      <td>4</td>\n",
       "      <td>94036000</td>\n",
       "      <td>11</td>\n",
       "      <td>40</td>\n",
       "      <td>RS</td>\n",
       "      <td>1</td>\n",
       "      <td>920600</td>\n",
       "      <td>52</td>\n",
       "      <td>22256</td>\n",
       "      <td>100367</td>\n",
       "    </tr>\n",
       "    <tr>\n",
       "      <th>25079</th>\n",
       "      <td>1997</td>\n",
       "      <td>3</td>\n",
       "      <td>55161200</td>\n",
       "      <td>10</td>\n",
       "      <td>586</td>\n",
       "      <td>MG</td>\n",
       "      <td>9</td>\n",
       "      <td>910600</td>\n",
       "      <td>0</td>\n",
       "      <td>123</td>\n",
       "      <td>841</td>\n",
       "    </tr>\n",
       "    <tr>\n",
       "      <th>6940802</th>\n",
       "      <td>2006</td>\n",
       "      <td>11</td>\n",
       "      <td>39162000</td>\n",
       "      <td>10</td>\n",
       "      <td>586</td>\n",
       "      <td>SC</td>\n",
       "      <td>9</td>\n",
       "      <td>910600</td>\n",
       "      <td>0</td>\n",
       "      <td>4225</td>\n",
       "      <td>6141</td>\n",
       "    </tr>\n",
       "    <tr>\n",
       "      <th>7900288</th>\n",
       "      <td>2007</td>\n",
       "      <td>5</td>\n",
       "      <td>59069900</td>\n",
       "      <td>10</td>\n",
       "      <td>776</td>\n",
       "      <td>RS</td>\n",
       "      <td>4</td>\n",
       "      <td>817700</td>\n",
       "      <td>369</td>\n",
       "      <td>394</td>\n",
       "      <td>4329</td>\n",
       "    </tr>\n",
       "  </tbody>\n",
       "</table>\n",
       "</div>"
      ],
      "text/plain": [
       "         CO_ANO  CO_MES    CO_NCM  CO_UNID  CO_PAIS SG_UF_NCM  CO_VIA   CO_URF  QT_ESTAT  KG_LIQUIDO  VL_FOB\n",
       "366891     1997       4  84148019       11       63        SP       7  1010900         8          94    2032\n",
       "7430615    2007       4  94036000       11       40        RS       1   920600        52       22256  100367\n",
       "25079      1997       3  55161200       10      586        MG       9   910600         0         123     841\n",
       "6940802    2006      11  39162000       10      586        SC       9   910600         0        4225    6141\n",
       "7900288    2007       5  59069900       10      776        RS       4   817700       369         394    4329"
      ]
     },
     "execution_count": 9,
     "metadata": {},
     "output_type": "execute_result"
    }
   ],
   "source": [
    "df_exp.sample(5)"
   ]
  },
  {
   "cell_type": "code",
   "execution_count": 10,
   "metadata": {},
   "outputs": [
    {
     "name": "stdout",
     "output_type": "stream",
     "text": [
      "<class 'pandas.core.frame.DataFrame'>\n",
      "RangeIndex: 22648636 entries, 0 to 22648635\n",
      "Data columns (total 11 columns):\n",
      " #   Column      Dtype \n",
      "---  ------      ----- \n",
      " 0   CO_ANO      int64 \n",
      " 1   CO_MES      int64 \n",
      " 2   CO_NCM      int64 \n",
      " 3   CO_UNID     int64 \n",
      " 4   CO_PAIS     int64 \n",
      " 5   SG_UF_NCM   object\n",
      " 6   CO_VIA      int64 \n",
      " 7   CO_URF      int64 \n",
      " 8   QT_ESTAT    int64 \n",
      " 9   KG_LIQUIDO  int64 \n",
      " 10  VL_FOB      int64 \n",
      "dtypes: int64(10), object(1)\n",
      "memory usage: 1.9+ GB\n"
     ]
    }
   ],
   "source": [
    "df_exp.info()"
   ]
  },
  {
   "cell_type": "code",
   "execution_count": 11,
   "metadata": {
    "scrolled": true
   },
   "outputs": [],
   "source": [
    "def fix_dtypes(df):\n",
    "    # Store categorical columns as such, reducing the memory usage\n",
    "    # for the exports file from 1.9+ GB to 1.0 GB\n",
    "    for col in df.columns[2:-3]:\n",
    "        df[col]=df[col].astype('category')\n",
    "    return df"
   ]
  },
  {
   "cell_type": "code",
   "execution_count": 13,
   "metadata": {},
   "outputs": [
    {
     "name": "stdout",
     "output_type": "stream",
     "text": [
      "<class 'pandas.core.frame.DataFrame'>\n",
      "RangeIndex: 22648636 entries, 0 to 22648635\n",
      "Data columns (total 11 columns):\n",
      " #   Column      Dtype   \n",
      "---  ------      -----   \n",
      " 0   CO_ANO      int64   \n",
      " 1   CO_MES      int64   \n",
      " 2   CO_NCM      category\n",
      " 3   CO_UNID     category\n",
      " 4   CO_PAIS     category\n",
      " 5   SG_UF_NCM   category\n",
      " 6   CO_VIA      category\n",
      " 7   CO_URF      category\n",
      " 8   QT_ESTAT    int64   \n",
      " 9   KG_LIQUIDO  int64   \n",
      " 10  VL_FOB      int64   \n",
      "dtypes: category(6), int64(5)\n",
      "memory usage: 1.0 GB\n"
     ]
    }
   ],
   "source": [
    "df_exp = fix_dtypes(df_exp)\n",
    "df_exp.info()"
   ]
  },
  {
   "cell_type": "code",
   "execution_count": 14,
   "metadata": {
    "scrolled": true
   },
   "outputs": [
    {
     "data": {
      "text/html": [
       "<div>\n",
       "<style scoped>\n",
       "    .dataframe tbody tr th:only-of-type {\n",
       "        vertical-align: middle;\n",
       "    }\n",
       "\n",
       "    .dataframe tbody tr th {\n",
       "        vertical-align: top;\n",
       "    }\n",
       "\n",
       "    .dataframe thead th {\n",
       "        text-align: right;\n",
       "    }\n",
       "</style>\n",
       "<table border=\"1\" class=\"dataframe\">\n",
       "  <thead>\n",
       "    <tr style=\"text-align: right;\">\n",
       "      <th></th>\n",
       "      <th>CO_NCM</th>\n",
       "      <th>CO_UNID</th>\n",
       "      <th>CO_PAIS</th>\n",
       "      <th>SG_UF_NCM</th>\n",
       "      <th>CO_VIA</th>\n",
       "      <th>CO_URF</th>\n",
       "    </tr>\n",
       "  </thead>\n",
       "  <tbody>\n",
       "    <tr>\n",
       "      <th>count</th>\n",
       "      <td>22648636</td>\n",
       "      <td>22648636</td>\n",
       "      <td>22648636</td>\n",
       "      <td>22648636</td>\n",
       "      <td>22648636</td>\n",
       "      <td>22648636</td>\n",
       "    </tr>\n",
       "    <tr>\n",
       "      <th>unique</th>\n",
       "      <td>11713</td>\n",
       "      <td>13</td>\n",
       "      <td>264</td>\n",
       "      <td>32</td>\n",
       "      <td>14</td>\n",
       "      <td>266</td>\n",
       "    </tr>\n",
       "    <tr>\n",
       "      <th>top</th>\n",
       "      <td>87089990</td>\n",
       "      <td>10</td>\n",
       "      <td>63</td>\n",
       "      <td>SP</td>\n",
       "      <td>1</td>\n",
       "      <td>817800</td>\n",
       "    </tr>\n",
       "    <tr>\n",
       "      <th>freq</th>\n",
       "      <td>134984</td>\n",
       "      <td>13534129</td>\n",
       "      <td>2091032</td>\n",
       "      <td>9216997</td>\n",
       "      <td>8614909</td>\n",
       "      <td>5022913</td>\n",
       "    </tr>\n",
       "  </tbody>\n",
       "</table>\n",
       "</div>"
      ],
      "text/plain": [
       "          CO_NCM   CO_UNID   CO_PAIS SG_UF_NCM    CO_VIA    CO_URF\n",
       "count   22648636  22648636  22648636  22648636  22648636  22648636\n",
       "unique     11713        13       264        32        14       266\n",
       "top     87089990        10        63        SP         1    817800\n",
       "freq      134984  13534129   2091032   9216997   8614909   5022913"
      ]
     },
     "execution_count": 14,
     "metadata": {},
     "output_type": "execute_result"
    }
   ],
   "source": [
    "df_exp.describe(include='category')"
   ]
  },
  {
   "cell_type": "code",
   "execution_count": 15,
   "metadata": {},
   "outputs": [
    {
     "data": {
      "text/html": [
       "<div>\n",
       "<style scoped>\n",
       "    .dataframe tbody tr th:only-of-type {\n",
       "        vertical-align: middle;\n",
       "    }\n",
       "\n",
       "    .dataframe tbody tr th {\n",
       "        vertical-align: top;\n",
       "    }\n",
       "\n",
       "    .dataframe thead th {\n",
       "        text-align: right;\n",
       "    }\n",
       "</style>\n",
       "<table border=\"1\" class=\"dataframe\">\n",
       "  <thead>\n",
       "    <tr style=\"text-align: right;\">\n",
       "      <th></th>\n",
       "      <th>CO_ANO</th>\n",
       "      <th>CO_MES</th>\n",
       "      <th>QT_ESTAT</th>\n",
       "      <th>KG_LIQUIDO</th>\n",
       "      <th>VL_FOB</th>\n",
       "    </tr>\n",
       "  </thead>\n",
       "  <tbody>\n",
       "    <tr>\n",
       "      <th>count</th>\n",
       "      <td>2.264864e+07</td>\n",
       "      <td>2.264864e+07</td>\n",
       "      <td>2.264864e+07</td>\n",
       "      <td>2.264864e+07</td>\n",
       "      <td>2.264864e+07</td>\n",
       "    </tr>\n",
       "    <tr>\n",
       "      <th>mean</th>\n",
       "      <td>2.009973e+03</td>\n",
       "      <td>6.599953e+00</td>\n",
       "      <td>6.147536e+05</td>\n",
       "      <td>4.863214e+05</td>\n",
       "      <td>1.609096e+05</td>\n",
       "    </tr>\n",
       "    <tr>\n",
       "      <th>std</th>\n",
       "      <td>6.504889e+00</td>\n",
       "      <td>3.384929e+00</td>\n",
       "      <td>4.847814e+08</td>\n",
       "      <td>2.709977e+07</td>\n",
       "      <td>3.224087e+06</td>\n",
       "    </tr>\n",
       "    <tr>\n",
       "      <th>min</th>\n",
       "      <td>1.997000e+03</td>\n",
       "      <td>1.000000e+00</td>\n",
       "      <td>0.000000e+00</td>\n",
       "      <td>0.000000e+00</td>\n",
       "      <td>0.000000e+00</td>\n",
       "    </tr>\n",
       "    <tr>\n",
       "      <th>25%</th>\n",
       "      <td>2.005000e+03</td>\n",
       "      <td>4.000000e+00</td>\n",
       "      <td>1.000000e+00</td>\n",
       "      <td>7.000000e+00</td>\n",
       "      <td>2.640000e+02</td>\n",
       "    </tr>\n",
       "    <tr>\n",
       "      <th>50%</th>\n",
       "      <td>2.010000e+03</td>\n",
       "      <td>7.000000e+00</td>\n",
       "      <td>2.300000e+01</td>\n",
       "      <td>1.120000e+02</td>\n",
       "      <td>2.292000e+03</td>\n",
       "    </tr>\n",
       "    <tr>\n",
       "      <th>75%</th>\n",
       "      <td>2.016000e+03</td>\n",
       "      <td>9.000000e+00</td>\n",
       "      <td>5.400000e+02</td>\n",
       "      <td>3.225000e+03</td>\n",
       "      <td>2.060300e+04</td>\n",
       "    </tr>\n",
       "    <tr>\n",
       "      <th>max</th>\n",
       "      <td>2.020000e+03</td>\n",
       "      <td>1.200000e+01</td>\n",
       "      <td>9.908988e+11</td>\n",
       "      <td>1.775019e+10</td>\n",
       "      <td>1.936700e+09</td>\n",
       "    </tr>\n",
       "  </tbody>\n",
       "</table>\n",
       "</div>"
      ],
      "text/plain": [
       "             CO_ANO        CO_MES      QT_ESTAT    KG_LIQUIDO        VL_FOB\n",
       "count  2.264864e+07  2.264864e+07  2.264864e+07  2.264864e+07  2.264864e+07\n",
       "mean   2.009973e+03  6.599953e+00  6.147536e+05  4.863214e+05  1.609096e+05\n",
       "std    6.504889e+00  3.384929e+00  4.847814e+08  2.709977e+07  3.224087e+06\n",
       "min    1.997000e+03  1.000000e+00  0.000000e+00  0.000000e+00  0.000000e+00\n",
       "25%    2.005000e+03  4.000000e+00  1.000000e+00  7.000000e+00  2.640000e+02\n",
       "50%    2.010000e+03  7.000000e+00  2.300000e+01  1.120000e+02  2.292000e+03\n",
       "75%    2.016000e+03  9.000000e+00  5.400000e+02  3.225000e+03  2.060300e+04\n",
       "max    2.020000e+03  1.200000e+01  9.908988e+11  1.775019e+10  1.936700e+09"
      ]
     },
     "execution_count": 15,
     "metadata": {},
     "output_type": "execute_result"
    }
   ],
   "source": [
    "df_exp.describe(exclude='category')"
   ]
  },
  {
   "cell_type": "code",
   "execution_count": 16,
   "metadata": {},
   "outputs": [
    {
     "name": "stderr",
     "output_type": "stream",
     "text": [
      "Reading file in chunks of 1000000 lines..................................\n",
      "Concatenating 34 chunks\n"
     ]
    }
   ],
   "source": [
    "df_imp = read_and_group_file_in_chunks(imports_zip, verbose=True)"
   ]
  },
  {
   "cell_type": "code",
   "execution_count": 17,
   "metadata": {},
   "outputs": [
    {
     "data": {
      "text/html": [
       "<div>\n",
       "<style scoped>\n",
       "    .dataframe tbody tr th:only-of-type {\n",
       "        vertical-align: middle;\n",
       "    }\n",
       "\n",
       "    .dataframe tbody tr th {\n",
       "        vertical-align: top;\n",
       "    }\n",
       "\n",
       "    .dataframe thead th {\n",
       "        text-align: right;\n",
       "    }\n",
       "</style>\n",
       "<table border=\"1\" class=\"dataframe\">\n",
       "  <thead>\n",
       "    <tr style=\"text-align: right;\">\n",
       "      <th></th>\n",
       "      <th>CO_ANO</th>\n",
       "      <th>CO_MES</th>\n",
       "      <th>CO_NCM</th>\n",
       "      <th>CO_UNID</th>\n",
       "      <th>CO_PAIS</th>\n",
       "      <th>SG_UF_NCM</th>\n",
       "      <th>CO_VIA</th>\n",
       "      <th>CO_URF</th>\n",
       "      <th>QT_ESTAT</th>\n",
       "      <th>KG_LIQUIDO</th>\n",
       "      <th>VL_FOB</th>\n",
       "    </tr>\n",
       "  </thead>\n",
       "  <tbody>\n",
       "    <tr>\n",
       "      <th>10333331</th>\n",
       "      <td>2007</td>\n",
       "      <td>2</td>\n",
       "      <td>42023100</td>\n",
       "      <td>11</td>\n",
       "      <td>160</td>\n",
       "      <td>DF</td>\n",
       "      <td>1</td>\n",
       "      <td>817800</td>\n",
       "      <td>10224</td>\n",
       "      <td>1178</td>\n",
       "      <td>2439</td>\n",
       "    </tr>\n",
       "    <tr>\n",
       "      <th>29150623</th>\n",
       "      <td>2018</td>\n",
       "      <td>2</td>\n",
       "      <td>39269069</td>\n",
       "      <td>10</td>\n",
       "      <td>160</td>\n",
       "      <td>RJ</td>\n",
       "      <td>4</td>\n",
       "      <td>817700</td>\n",
       "      <td>0</td>\n",
       "      <td>0</td>\n",
       "      <td>334</td>\n",
       "    </tr>\n",
       "    <tr>\n",
       "      <th>5957379</th>\n",
       "      <td>2003</td>\n",
       "      <td>4</td>\n",
       "      <td>84145990</td>\n",
       "      <td>11</td>\n",
       "      <td>161</td>\n",
       "      <td>RS</td>\n",
       "      <td>4</td>\n",
       "      <td>1017600</td>\n",
       "      <td>4</td>\n",
       "      <td>0</td>\n",
       "      <td>36</td>\n",
       "    </tr>\n",
       "    <tr>\n",
       "      <th>24261576</th>\n",
       "      <td>2015</td>\n",
       "      <td>8</td>\n",
       "      <td>39211390</td>\n",
       "      <td>10</td>\n",
       "      <td>160</td>\n",
       "      <td>AM</td>\n",
       "      <td>4</td>\n",
       "      <td>227700</td>\n",
       "      <td>4</td>\n",
       "      <td>4</td>\n",
       "      <td>234</td>\n",
       "    </tr>\n",
       "    <tr>\n",
       "      <th>3564720</th>\n",
       "      <td>2000</td>\n",
       "      <td>3</td>\n",
       "      <td>29159090</td>\n",
       "      <td>10</td>\n",
       "      <td>628</td>\n",
       "      <td>SP</td>\n",
       "      <td>4</td>\n",
       "      <td>817600</td>\n",
       "      <td>6</td>\n",
       "      <td>6</td>\n",
       "      <td>620</td>\n",
       "    </tr>\n",
       "  </tbody>\n",
       "</table>\n",
       "</div>"
      ],
      "text/plain": [
       "          CO_ANO  CO_MES    CO_NCM  CO_UNID  CO_PAIS SG_UF_NCM  CO_VIA   CO_URF  QT_ESTAT  KG_LIQUIDO  VL_FOB\n",
       "10333331    2007       2  42023100       11      160        DF       1   817800     10224        1178    2439\n",
       "29150623    2018       2  39269069       10      160        RJ       4   817700         0           0     334\n",
       "5957379     2003       4  84145990       11      161        RS       4  1017600         4           0      36\n",
       "24261576    2015       8  39211390       10      160        AM       4   227700         4           4     234\n",
       "3564720     2000       3  29159090       10      628        SP       4   817600         6           6     620"
      ]
     },
     "execution_count": 17,
     "metadata": {},
     "output_type": "execute_result"
    }
   ],
   "source": [
    "df_imp.sample(5)"
   ]
  },
  {
   "cell_type": "code",
   "execution_count": 18,
   "metadata": {},
   "outputs": [
    {
     "name": "stdout",
     "output_type": "stream",
     "text": [
      "<class 'pandas.core.frame.DataFrame'>\n",
      "RangeIndex: 33783634 entries, 0 to 33783633\n",
      "Data columns (total 11 columns):\n",
      " #   Column      Dtype \n",
      "---  ------      ----- \n",
      " 0   CO_ANO      int64 \n",
      " 1   CO_MES      int64 \n",
      " 2   CO_NCM      int64 \n",
      " 3   CO_UNID     int64 \n",
      " 4   CO_PAIS     int64 \n",
      " 5   SG_UF_NCM   object\n",
      " 6   CO_VIA      int64 \n",
      " 7   CO_URF      int64 \n",
      " 8   QT_ESTAT    int64 \n",
      " 9   KG_LIQUIDO  int64 \n",
      " 10  VL_FOB      int64 \n",
      "dtypes: int64(10), object(1)\n",
      "memory usage: 2.8+ GB\n"
     ]
    }
   ],
   "source": [
    "df_imp.info()"
   ]
  },
  {
   "cell_type": "code",
   "execution_count": 19,
   "metadata": {},
   "outputs": [
    {
     "name": "stdout",
     "output_type": "stream",
     "text": [
      "<class 'pandas.core.frame.DataFrame'>\n",
      "RangeIndex: 33783634 entries, 0 to 33783633\n",
      "Data columns (total 11 columns):\n",
      " #   Column      Dtype   \n",
      "---  ------      -----   \n",
      " 0   CO_ANO      int64   \n",
      " 1   CO_MES      int64   \n",
      " 2   CO_NCM      category\n",
      " 3   CO_UNID     category\n",
      " 4   CO_PAIS     category\n",
      " 5   SG_UF_NCM   category\n",
      " 6   CO_VIA      category\n",
      " 7   CO_URF      category\n",
      " 8   QT_ESTAT    int64   \n",
      " 9   KG_LIQUIDO  int64   \n",
      " 10  VL_FOB      int64   \n",
      "dtypes: category(6), int64(5)\n",
      "memory usage: 1.5 GB\n"
     ]
    }
   ],
   "source": [
    "df_imp = fix_dtypes(df_imp)\n",
    "df_imp.info()"
   ]
  },
  {
   "cell_type": "code",
   "execution_count": 20,
   "metadata": {},
   "outputs": [
    {
     "data": {
      "text/html": [
       "<div>\n",
       "<style scoped>\n",
       "    .dataframe tbody tr th:only-of-type {\n",
       "        vertical-align: middle;\n",
       "    }\n",
       "\n",
       "    .dataframe tbody tr th {\n",
       "        vertical-align: top;\n",
       "    }\n",
       "\n",
       "    .dataframe thead th {\n",
       "        text-align: right;\n",
       "    }\n",
       "</style>\n",
       "<table border=\"1\" class=\"dataframe\">\n",
       "  <thead>\n",
       "    <tr style=\"text-align: right;\">\n",
       "      <th></th>\n",
       "      <th>CO_NCM</th>\n",
       "      <th>CO_UNID</th>\n",
       "      <th>CO_PAIS</th>\n",
       "      <th>SG_UF_NCM</th>\n",
       "      <th>CO_VIA</th>\n",
       "      <th>CO_URF</th>\n",
       "    </tr>\n",
       "  </thead>\n",
       "  <tbody>\n",
       "    <tr>\n",
       "      <th>count</th>\n",
       "      <td>22648636</td>\n",
       "      <td>22648636</td>\n",
       "      <td>22648636</td>\n",
       "      <td>22648636</td>\n",
       "      <td>22648636</td>\n",
       "      <td>22648636</td>\n",
       "    </tr>\n",
       "    <tr>\n",
       "      <th>unique</th>\n",
       "      <td>11713</td>\n",
       "      <td>13</td>\n",
       "      <td>264</td>\n",
       "      <td>32</td>\n",
       "      <td>14</td>\n",
       "      <td>266</td>\n",
       "    </tr>\n",
       "    <tr>\n",
       "      <th>top</th>\n",
       "      <td>87089990</td>\n",
       "      <td>10</td>\n",
       "      <td>63</td>\n",
       "      <td>SP</td>\n",
       "      <td>1</td>\n",
       "      <td>817800</td>\n",
       "    </tr>\n",
       "    <tr>\n",
       "      <th>freq</th>\n",
       "      <td>134984</td>\n",
       "      <td>13534129</td>\n",
       "      <td>2091032</td>\n",
       "      <td>9216997</td>\n",
       "      <td>8614909</td>\n",
       "      <td>5022913</td>\n",
       "    </tr>\n",
       "  </tbody>\n",
       "</table>\n",
       "</div>"
      ],
      "text/plain": [
       "          CO_NCM   CO_UNID   CO_PAIS SG_UF_NCM    CO_VIA    CO_URF\n",
       "count   22648636  22648636  22648636  22648636  22648636  22648636\n",
       "unique     11713        13       264        32        14       266\n",
       "top     87089990        10        63        SP         1    817800\n",
       "freq      134984  13534129   2091032   9216997   8614909   5022913"
      ]
     },
     "execution_count": 20,
     "metadata": {},
     "output_type": "execute_result"
    }
   ],
   "source": [
    "df_exp.describe(include='category')"
   ]
  },
  {
   "cell_type": "code",
   "execution_count": 21,
   "metadata": {},
   "outputs": [
    {
     "data": {
      "text/html": [
       "<div>\n",
       "<style scoped>\n",
       "    .dataframe tbody tr th:only-of-type {\n",
       "        vertical-align: middle;\n",
       "    }\n",
       "\n",
       "    .dataframe tbody tr th {\n",
       "        vertical-align: top;\n",
       "    }\n",
       "\n",
       "    .dataframe thead th {\n",
       "        text-align: right;\n",
       "    }\n",
       "</style>\n",
       "<table border=\"1\" class=\"dataframe\">\n",
       "  <thead>\n",
       "    <tr style=\"text-align: right;\">\n",
       "      <th></th>\n",
       "      <th>CO_ANO</th>\n",
       "      <th>CO_MES</th>\n",
       "      <th>QT_ESTAT</th>\n",
       "      <th>KG_LIQUIDO</th>\n",
       "      <th>VL_FOB</th>\n",
       "    </tr>\n",
       "  </thead>\n",
       "  <tbody>\n",
       "    <tr>\n",
       "      <th>count</th>\n",
       "      <td>2.264864e+07</td>\n",
       "      <td>2.264864e+07</td>\n",
       "      <td>2.264864e+07</td>\n",
       "      <td>2.264864e+07</td>\n",
       "      <td>2.264864e+07</td>\n",
       "    </tr>\n",
       "    <tr>\n",
       "      <th>mean</th>\n",
       "      <td>2.009973e+03</td>\n",
       "      <td>6.599953e+00</td>\n",
       "      <td>6.147536e+05</td>\n",
       "      <td>4.863214e+05</td>\n",
       "      <td>1.609096e+05</td>\n",
       "    </tr>\n",
       "    <tr>\n",
       "      <th>std</th>\n",
       "      <td>6.504889e+00</td>\n",
       "      <td>3.384929e+00</td>\n",
       "      <td>4.847814e+08</td>\n",
       "      <td>2.709977e+07</td>\n",
       "      <td>3.224087e+06</td>\n",
       "    </tr>\n",
       "    <tr>\n",
       "      <th>min</th>\n",
       "      <td>1.997000e+03</td>\n",
       "      <td>1.000000e+00</td>\n",
       "      <td>0.000000e+00</td>\n",
       "      <td>0.000000e+00</td>\n",
       "      <td>0.000000e+00</td>\n",
       "    </tr>\n",
       "    <tr>\n",
       "      <th>25%</th>\n",
       "      <td>2.005000e+03</td>\n",
       "      <td>4.000000e+00</td>\n",
       "      <td>1.000000e+00</td>\n",
       "      <td>7.000000e+00</td>\n",
       "      <td>2.640000e+02</td>\n",
       "    </tr>\n",
       "    <tr>\n",
       "      <th>50%</th>\n",
       "      <td>2.010000e+03</td>\n",
       "      <td>7.000000e+00</td>\n",
       "      <td>2.300000e+01</td>\n",
       "      <td>1.120000e+02</td>\n",
       "      <td>2.292000e+03</td>\n",
       "    </tr>\n",
       "    <tr>\n",
       "      <th>75%</th>\n",
       "      <td>2.016000e+03</td>\n",
       "      <td>9.000000e+00</td>\n",
       "      <td>5.400000e+02</td>\n",
       "      <td>3.225000e+03</td>\n",
       "      <td>2.060300e+04</td>\n",
       "    </tr>\n",
       "    <tr>\n",
       "      <th>max</th>\n",
       "      <td>2.020000e+03</td>\n",
       "      <td>1.200000e+01</td>\n",
       "      <td>9.908988e+11</td>\n",
       "      <td>1.775019e+10</td>\n",
       "      <td>1.936700e+09</td>\n",
       "    </tr>\n",
       "  </tbody>\n",
       "</table>\n",
       "</div>"
      ],
      "text/plain": [
       "             CO_ANO        CO_MES      QT_ESTAT    KG_LIQUIDO        VL_FOB\n",
       "count  2.264864e+07  2.264864e+07  2.264864e+07  2.264864e+07  2.264864e+07\n",
       "mean   2.009973e+03  6.599953e+00  6.147536e+05  4.863214e+05  1.609096e+05\n",
       "std    6.504889e+00  3.384929e+00  4.847814e+08  2.709977e+07  3.224087e+06\n",
       "min    1.997000e+03  1.000000e+00  0.000000e+00  0.000000e+00  0.000000e+00\n",
       "25%    2.005000e+03  4.000000e+00  1.000000e+00  7.000000e+00  2.640000e+02\n",
       "50%    2.010000e+03  7.000000e+00  2.300000e+01  1.120000e+02  2.292000e+03\n",
       "75%    2.016000e+03  9.000000e+00  5.400000e+02  3.225000e+03  2.060300e+04\n",
       "max    2.020000e+03  1.200000e+01  9.908988e+11  1.775019e+10  1.936700e+09"
      ]
     },
     "execution_count": 21,
     "metadata": {},
     "output_type": "execute_result"
    }
   ],
   "source": [
    "df_exp.describe(exclude='category')"
   ]
  },
  {
   "cell_type": "markdown",
   "metadata": {},
   "source": [
    "## Inspeção dos arquivos auxiliares"
   ]
  },
  {
   "cell_type": "code",
   "execution_count": null,
   "metadata": {},
   "outputs": [],
   "source": [
    "aux_file = '../data/aux.xlsx'\n",
    "xls = pd.ExcelFile(aux_file)\n",
    "print(xls.sheet_names)"
   ]
  },
  {
   "cell_type": "code",
   "execution_count": null,
   "metadata": {},
   "outputs": [],
   "source": [
    "dfs = pd.read_excel(aux_file, sheet_name=None)\n",
    "dfs['ÍNDICE']"
   ]
  },
  {
   "cell_type": "code",
   "execution_count": null,
   "metadata": {},
   "outputs": [],
   "source": [
    "for i, sheet_name in enumerate(dfs):\n",
    "    print('{}:\\t{}'.format(sheet_name, dfs[sheet_name].shape))"
   ]
  },
  {
   "cell_type": "code",
   "execution_count": null,
   "metadata": {
    "scrolled": false
   },
   "outputs": [],
   "source": [
    "for sheet_name in dfs:\n",
    "    print('== Sheet \"{}\" =='.format(sheet_name))\n",
    "    display(dfs[sheet_name].sample(5))\n",
    "    print(dfs[sheet_name].info())"
   ]
  },
  {
   "cell_type": "code",
   "execution_count": null,
   "metadata": {},
   "outputs": [],
   "source": []
  }
 ],
 "metadata": {
  "kernelspec": {
   "display_name": "Python 3",
   "language": "python",
   "name": "python3"
  },
  "language_info": {
   "codemirror_mode": {
    "name": "ipython",
    "version": 3
   },
   "file_extension": ".py",
   "mimetype": "text/x-python",
   "name": "python",
   "nbconvert_exporter": "python",
   "pygments_lexer": "ipython3",
   "version": "3.7.8"
  }
 },
 "nbformat": 4,
 "nbformat_minor": 4
}
